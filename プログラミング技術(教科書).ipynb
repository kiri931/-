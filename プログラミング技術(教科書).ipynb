{
  "cells": [
    {
      "cell_type": "markdown",
      "metadata": {
        "id": "view-in-github",
        "colab_type": "text"
      },
      "source": [
        "<a href=\"https://colab.research.google.com/github/kiri931/-/blob/main/%E3%83%97%E3%83%AD%E3%82%B0%E3%83%A9%E3%83%9F%E3%83%B3%E3%82%B0%E6%8A%80%E8%A1%93(%E6%95%99%E7%A7%91%E6%9B%B8).ipynb\" target=\"_parent\"><img src=\"https://colab.research.google.com/assets/colab-badge.svg\" alt=\"Open In Colab\"/></a>"
      ]
    },
    {
      "cell_type": "markdown",
      "metadata": {
        "id": "TzCpshhITWhb"
      },
      "source": [
        "#初めてのプログラミング"
      ]
    },
    {
      "cell_type": "markdown",
      "source": [
        "# ガイダンス"
      ],
      "metadata": {
        "id": "hj6PMv37VxMM"
      }
    },
    {
      "cell_type": "markdown",
      "source": [
        "## Google Colaboratoryへのサインアップ方法\n",
        "\n",
        "[Google Colaboratory](https://colab.research.google.com/)（通称：Colab）は、Googleが提供する、ブラウザ上で実行できるPythonプログラム環境です。Googleアカウントがあれば、すぐに利用できます。\n",
        "\n",
        "1. まず、Googleアカウントを持っていない場合は[こちら](https://accounts.google.com/signup)からアカウントを作成してください。\n",
        "2. [Google Colaboratoryのウェブサイト](https://colab.research.google.com/)にアクセスしてください。\n",
        "3. Googleアカウントでログインします。\n",
        "4. ページ上部の「File」メニューから「New notebook」を選択し、新しいノートブックを開くことができます。\n",
        "\n",
        "これで、Google Colaboratoryを利用してPythonプログラムを書いたり、実行したりすることができます。"
      ],
      "metadata": {
        "id": "oW30QgHFkhWV"
      }
    },
    {
      "cell_type": "markdown",
      "metadata": {
        "id": "uS5bRiDEgzYy"
      },
      "source": [
        "## プログラムとは\n",
        "\n",
        "**プログラム**とは、コンピュータに対する一連の命令で構成され、特定のタスクや機能を実行させる目的で作成されます。プログラムは、プログラミング言語と呼ばれる特定の文法とルールを持つ言語を使って記述されます。\n",
        "\n",
        "**プログラミング**とは、プログラムを作成・編集するための技術であり、コンピュータが理解できる形で命令を記述することを意味します。プログラミングを学ぶことで、コンピュータを自由に操作し、様々な問題を解決する力を身につけることができます。\n",
        "\n",
        "\n",
        "___"
      ]
    },
    {
      "cell_type": "markdown",
      "metadata": {
        "id": "4VxvQ91ecLhc"
      },
      "source": [
        "### Pythonという言語\n",
        "\n",
        "**Python（パイソン）**は、1991年にオランダ人のグイド・ヴァン・ロッサム氏によって開発されたプログラミング言語です。\n",
        "\n",
        "Pythonは現在広く使われており、ウェブ開発やデータ解析、AIの分野で特に活躍しています。\n",
        "\n",
        "### なぜ、Pythonを使うのか\n",
        "シンプルで読みやすい文法を持ち、学習しやすいためです。また、Pythonは標準ライブラリやサードパーティのライブラリが充実しており、簡単に機能を追加できる点も大きな違いです。\n",
        "\n",
        "> もし本当にプログラミングをマスターしたいのであれば、\n",
        "[Pythonプログラミング入門](https://utokyo-ipp.github.io/#)を参考にしてみてください。\n",
        ">\n",
        "> 東京大学のオンデマンド学習資料が多数あり、簡単な機械学習まで取り扱っています。まさに０からPythonを勉強できます。\n",
        "\n",
        "___"
      ]
    },
    {
      "cell_type": "markdown",
      "metadata": {
        "id": "vQ9INP84k-RX"
      },
      "source": [
        "## **Python**でプログラミングを始めよう\n",
        "\n",
        "Pythonを使って、プログラミングの基本を学びましょう。まずは、シンプルなプログラムから始めていきます。\n",
        "\n",
        "最初のプログラム：Hello, World!\n",
        "\n",
        "以下のコードを入力し、実行してみましょう。\n",
        "\n",
        "~~~python\n",
        "print(\"Hello, World!\")\n",
        "~~~\n"
      ]
    },
    {
      "cell_type": "code",
      "execution_count": null,
      "metadata": {
        "id": "ZMLxUQ8MtPAt"
      },
      "outputs": [],
      "source": []
    },
    {
      "cell_type": "markdown",
      "metadata": {
        "id": "LAz86_GPlmUP"
      },
      "source": [
        "これは、`Hello, World!`という文字列を出力する命令です。\n",
        "\n",
        "出力結果として`Hello, World!`が表示されます。\n",
        "\n",
        "他のプログラミング言語を学んだことがある方には、この命令はおなじみかもしれません。\n",
        "\n",
        "この簡単なプログラムを実行できたあなたは、プログラミングの世界への第一歩を踏み出しました。"
      ]
    },
    {
      "cell_type": "markdown",
      "source": [
        "## Google Colaboratoryの特徴\n",
        "\n",
        "Google Colaboratory（以下、Colab）は、Pythonプログラムを簡単に書く・実行することができるオンライン環境です。特徴は以下の通りです。\n",
        "\n",
        "\n",
        "- 環境設定が不要\n",
        "- Pythonがすぐに使える\n",
        "- ノートブック形式でコードと説明文を一緒に記述できる"
      ],
      "metadata": {
        "id": "TsgGLV1G3BmB"
      }
    },
    {
      "cell_type": "markdown",
      "source": [
        "### Google Colabの設定\n",
        "\n",
        "- 出力の削除\n",
        "\n",
        "    私が作成過程でプログラムを残している可能性があります。\n",
        "\n",
        "    「編集」タブの一番下、「出力をすべて消去」を選択する。\n",
        "\n",
        "- 設定の変更\n",
        "\n",
        "    「ツール」タブから、「設定」を選択し、「エディタ」を選択。\n",
        "\n",
        "    インデント幅を「4」にする。縦の罫線列を「40～60」で設定する。\n"
      ],
      "metadata": {
        "id": "IK2kemVt3jBa"
      }
    },
    {
      "cell_type": "markdown",
      "source": [
        "## 練習問題\n",
        "\n",
        "1. \"Hello, World!\"を2回表示するプログラムを書いてください。\n",
        "\n",
        "2. あなたの名前を表示するプログラムを書いてください。\n",
        "\n",
        "3. あなたの年齢を表示するプログラムを書いてください。\n",
        "\n",
        "4. あなたの好きな食べ物を表示するプログラムを書いてください。\n",
        "\n",
        "5. Markdownセルを使用して、あなたの好きな食べ物について書いてください。\n",
        "\n",
        "6. Markdownセルを使用して、あなたが今勉強していることについて書いてください。\n"
      ],
      "metadata": {
        "id": "k8Rqk62j9a_r"
      }
    },
    {
      "cell_type": "code",
      "source": [],
      "metadata": {
        "id": "Sw4YtVlGGzf4"
      },
      "execution_count": null,
      "outputs": []
    },
    {
      "cell_type": "markdown",
      "source": [
        "# プログラミングの基礎構文\n"
      ],
      "metadata": {
        "id": "kbjzTXqZM8Bz"
      }
    },
    {
      "cell_type": "markdown",
      "metadata": {
        "id": "8d8iClKZyWQN"
      },
      "source": [
        "\n",
        "\n",
        "# 代数演算子\n",
        "\n",
        "演算子は、C言語とほとんど同じです。\n",
        "\n",
        "- 加算演算子 (+)\n",
        "\n",
        "    二つの値を足し合わせるために使用されます。\n",
        "\n",
        "- 減算演算子 (-)\n",
        "\n",
        "    二つの値の差を計算するために使用されます。\n",
        "\n",
        "- 乗算演算子 (*)\n",
        "\n",
        "    二つの値を掛け合わせるために使用されます。\n",
        "\n",
        "- 除算演算子 (/)\n",
        "\n",
        "    二つの値を割り算するために使用されます。\n",
        "\n",
        "- 剰余演算子 (%)\n",
        "\n",
        "    二つの値の余りを計算するために使用されます。\n",
        "\n",
        "- べき乗演算子 (**)\n",
        "\n",
        "    二つの値を累乗するために使用されます。"
      ]
    },
    {
      "cell_type": "code",
      "execution_count": null,
      "metadata": {
        "id": "dITyfRYTyVX3"
      },
      "outputs": [],
      "source": [
        "123+45"
      ]
    },
    {
      "cell_type": "code",
      "execution_count": null,
      "metadata": {
        "id": "opYzsZKVwpJ6"
      },
      "outputs": [],
      "source": [
        "123-45"
      ]
    },
    {
      "cell_type": "code",
      "execution_count": null,
      "metadata": {
        "id": "fQ40OfiX9Mhn"
      },
      "outputs": [],
      "source": [
        "123*45"
      ]
    },
    {
      "cell_type": "code",
      "execution_count": null,
      "metadata": {
        "id": "S4P81upP9Oct"
      },
      "outputs": [],
      "source": [
        "123/45"
      ]
    },
    {
      "cell_type": "code",
      "execution_count": null,
      "metadata": {
        "id": "NnB7cvmR9hqd"
      },
      "outputs": [],
      "source": [
        "123//45\n",
        "#割り算の整数部分を返す"
      ]
    },
    {
      "cell_type": "code",
      "execution_count": null,
      "metadata": {
        "id": "hRMtoBaV9Pr3"
      },
      "outputs": [],
      "source": [
        "123%45\n",
        "#割り算の余りを返す"
      ]
    },
    {
      "cell_type": "code",
      "execution_count": null,
      "metadata": {
        "id": "XkA3SWL-9SA_"
      },
      "outputs": [],
      "source": [
        "12**5\n",
        "#12の5乗"
      ]
    },
    {
      "cell_type": "markdown",
      "source": [
        "### 乗算演算子の特殊パターン\n",
        "\n",
        "**乗算演算子**は、\n",
        "\n",
        "文字列に使用すると、繰り返すという意味になります。\n",
        "\n",
        "例えば、\"きゃりーぱみゅぱみゅ\"に対して、乗算すると繰り返されます。\n",
        "\n",
        "~~~python\n",
        "print(\"きゃりーぱみゅぱみゅ\" * 3)\n",
        "~~~\n",
        "こうすると出力結果は、\n",
        "~~~\n",
        "きゃりーぱみゅぱみゅきゃりーぱみゅぱみゅきゃりーぱみゅぱみゅ\n",
        "~~~\n",
        "と出力されます。"
      ],
      "metadata": {
        "id": "P5ufNQpJmRQ0"
      }
    },
    {
      "cell_type": "code",
      "source": [
        "print(\"きゃりーぱみゅぱみゅ\" * 3)"
      ],
      "metadata": {
        "colab": {
          "base_uri": "https://localhost:8080/"
        },
        "id": "QSsOx8WOnl-w",
        "outputId": "5b5fbc11-9a4d-4e4f-d0fe-8eae33fe4269"
      },
      "execution_count": null,
      "outputs": [
        {
          "output_type": "stream",
          "name": "stdout",
          "text": [
            "きゃりーぱみゅぱみゅきゃりーぱみゅぱみゅきゃりーぱみゅぱみゅ\n"
          ]
        }
      ]
    },
    {
      "cell_type": "markdown",
      "source": [
        "# 変数\n"
      ],
      "metadata": {
        "id": "FgmGxFTBH_-4"
      }
    },
    {
      "cell_type": "markdown",
      "source": [
        "## 変数の宣言\n",
        "\n",
        "\n",
        "Pythonでは、変数を使用する前に宣言する必要はありません。\n",
        "\n",
        "代わりに、変数に最初に値を割り当てることで、自動的に変数が作成されます。\n",
        "\n",
        "つまり、それが整数なのか、実数なのか\n",
        "\n",
        "`int a` , `float b` , `double c`\n",
        "\n",
        "などとする必要はありません。\n",
        "\n",
        "いきなり、`i = 10`のようにしても問題ありません。\n",
        "\n",
        "\n"
      ],
      "metadata": {
        "id": "FDU9SHN1EwrE"
      }
    },
    {
      "cell_type": "markdown",
      "source": [
        "###メモ\n",
        "\n",
        "ちなみにＣ言語のように型を指定することを「**型アノテーション**」といい、型を指定しないで使用することを「**型推論**」といいます。"
      ],
      "metadata": {
        "id": "l6oNUDrISynh"
      }
    },
    {
      "cell_type": "markdown",
      "source": [
        "## 変数の名前\n",
        "\n",
        "変数の名前には、英字、数字、アンダースコア (_) を使用することができます。\n",
        "\n",
        "ただし、以下のようなルールがあります。\n",
        "\n",
        "- 変数名は、数字から始めることはできません。\n",
        "\n",
        "- 変数名には、スペースを含めることはできません。\n",
        "\n",
        "- 大文字と小文字は区別されます。"
      ],
      "metadata": {
        "id": "rkia-dEOIX7p"
      }
    },
    {
      "cell_type": "markdown",
      "source": [
        "### NG例\n",
        "\n",
        "1. 数字から始まる変数名\n",
        "\n",
        "~~~python\n",
        "1var = \"Hello\"\n",
        "~~~\n",
        "\n",
        "2. スペースを含む変数名\n",
        "\n",
        "~~~python\n",
        "my name = \"Alice\"\n",
        "\n",
        "~~~\n",
        "\n",
        "3. ハイフンを含む変数名\n",
        "\n",
        "~~~python\n",
        "my-variable = \"Bob\"\n",
        "\n",
        "~~~\n",
        "\n",
        "4. 予約語を使用した変数名\n",
        "\n",
        "~~~python\n",
        "if = 5\n",
        "\n",
        "~~~\n",
        "\n",
        "**予約語**は、Pythonにおいて特別な意味を持つワード"
      ],
      "metadata": {
        "id": "iGpZ6GS4IyWY"
      }
    },
    {
      "cell_type": "markdown",
      "source": [
        "### 練習\n",
        "\n",
        "NG例を使えるものにしよう"
      ],
      "metadata": {
        "id": "Kbl6CBloJehg"
      }
    },
    {
      "cell_type": "code",
      "source": [
        "_a = 4\n",
        "print(_a)"
      ],
      "metadata": {
        "colab": {
          "base_uri": "https://localhost:8080/"
        },
        "id": "D8RxixsTDB5j",
        "outputId": "1bf1ab50-31a8-40e3-d53c-a52f88fb4797"
      },
      "execution_count": null,
      "outputs": [
        {
          "output_type": "stream",
          "name": "stdout",
          "text": [
            "4\n"
          ]
        }
      ]
    },
    {
      "cell_type": "markdown",
      "metadata": {
        "id": "sN5ZojmH95Qb"
      },
      "source": [
        "# 配列\n",
        "\n",
        "配列も変数と同じく型を宣言する必要がありません。\n",
        "\n",
        "ただし、基本的には配列の行列は記述する必要があります。\n",
        "\n",
        "~~~python\n",
        "a = [0,0,0]\n",
        "print(a)\n",
        "\n",
        "b = [[0,0,0],[0,0][0,0,0,0,0,0]]\n",
        "print(b)\n",
        "\n",
        "~~~\n",
        "\n",
        "しかし、宣言することも面倒な人は、以下のように記述することもできます。\n",
        "\n",
        "~~~python\n",
        "c = [[0]*3,[0]*2,[0]*6]\n",
        "print(c)\n",
        "\n",
        "~~~\n",
        "\n",
        "これは配列に掛け算を行うと要素をコピーするということになるためです。\n",
        "\n",
        "~~~python\n",
        "print(c*3)\n",
        "~~~\n",
        "\n",
        "もちろん、一箇所値を変えたい場合は、簡単です。\n",
        "\n",
        "ただし、配列の番号が、0から始まっていることを留意しなくてはなりません。\n",
        "\n",
        "~~~python\n",
        "c[1][1]=3\n",
        "print(c)\n",
        "~~~\n"
      ]
    },
    {
      "cell_type": "markdown",
      "source": [
        "\n",
        "## 配列への代入\n",
        "\n",
        "配列を別の変数に代入することはできますが、おすすめしません。\n",
        "\n",
        "~~~python\n",
        "d = [1,2,3]\n",
        "e = d\n",
        "\n",
        "print(d)\n",
        "print(e)\n",
        "~~~\n",
        "\n",
        "一見うまく行っているように見えますが、\n",
        "`d` の値を変えてしまうとおかしなことが起こります。\n",
        "\n",
        "~~~python\n",
        "d[1] = 10\n",
        "\n",
        "print(d)\n",
        "~~~\n",
        "\n",
        "何もおかしなことは起きていないように見えますが、次のコードを実行してみてください。\n",
        "\n",
        "~~~python\n",
        "print(e)\n",
        "~~~\n",
        "\n",
        "変えていないはずの ` e `の値も変わってしまいました。\n",
        "\n",
        "この理由を説明するとかなりややこしいのですが、\n",
        "\n",
        "簡単にいうと\n",
        "\n",
        "オブジェクトのIDを代入しており、 `d` と `e`が全く同じものを参照している状況になってしまったのです。\n",
        "\n",
        "意味わからない？\n",
        "\n",
        "まったく問題ありません。\n",
        "\n",
        "ちなみにそうならないために次のコードを実行してみてください。\n",
        "\n",
        "~~~python\n",
        "import copy\n",
        "\n",
        "f = [1,2,3]\n",
        "g = []\n",
        "g = f.copy()\n",
        "\n",
        "print(f)\n",
        "print(g)\n",
        "\n",
        "g[1] = 5\n",
        "\n",
        "print(f)\n",
        "print(g)\n",
        "~~~\n",
        "\n",
        "このように`copy`メソッドを使うことで、先程のような状況を回避できます。\n",
        "\n",
        "あ、これは覚える必要はないですよ。\n",
        "\n",
        "他にもたくさんのメソッドを知ることで、配列はかなり扱いやすくなりますが、テストには出さないので、今回は端折ります。"
      ],
      "metadata": {
        "id": "OD1CvfHf6gfa"
      }
    },
    {
      "cell_type": "markdown",
      "metadata": {
        "id": "5dDhCRjmtv8S"
      },
      "source": [
        "# もう少しプログラミングっぽくしよう\n",
        "\n",
        "とはいえ、実際に皆さんは思っていることでしょう。\n",
        "\n",
        "「単一のコードだけでは、プログラミングとは言えないだろう」\n",
        "\n",
        "私も単にコードを書いているだけのように見えます。\n",
        "\n",
        "しかし、実際のプログラムでは、複雑なロジックが含まれることが多いです。\n",
        "\n",
        "一般的なプログラムでは、\n",
        "\n",
        "以下のように、defを使って`main()`という関数を定義し、`if __name__ == \"__main__\":`を使用して関数を呼び出すことが一般的です。\n",
        "\n",
        "~~~ python\n",
        "def main():\n",
        "    print(\"Hello\")\n",
        "\n",
        "if __name__ == \"__main__\":\n",
        "    main()\n",
        "\n",
        "~~~\n",
        "\n",
        "急に難しそうになりますが、まだ、簡単ですよ。\n",
        "実際にコードを記述してみましょう。"
      ]
    },
    {
      "cell_type": "code",
      "source": [],
      "metadata": {
        "id": "lT3eKuLLAlto"
      },
      "execution_count": null,
      "outputs": []
    },
    {
      "cell_type": "markdown",
      "metadata": {
        "id": "yEpai3qhtqOm"
      },
      "source": [
        "ここでのdefは「define」、つまり「定義する」という意味です。\n",
        "\n",
        "main()は「メイン・主要な」という意味になり、主要なプログラムを表します。（Pythonでは、一番最初に実行されるプログラムになります。）"
      ]
    },
    {
      "cell_type": "markdown",
      "source": [
        "# defの説明"
      ],
      "metadata": {
        "id": "MvEp_iz-C4pP"
      }
    },
    {
      "cell_type": "markdown",
      "source": [
        "## 具体的な説明\n",
        "\n",
        "defは、Pythonにおける関数の定義方法です。\n",
        "\n",
        "defを使って関数を定義することで、同じ処理を繰り返し実行する場合に便利です。\n",
        "\n",
        "~~~python\n",
        "def add_numbers(x, y):\n",
        "    return x + y\n",
        "\n",
        "~~~\n",
        "\n",
        "上記の例では、`add_numbers`という名前の関数を定義しています。\n",
        "\n",
        "関数は、引数xとyを受け取り、それらを足した結果を返します。"
      ],
      "metadata": {
        "id": "rF25VEY5C70M"
      }
    },
    {
      "cell_type": "markdown",
      "source": [
        "## 簡単な説明\n",
        "\n",
        "え？わからない？\n",
        "\n",
        "では、もう少し簡単に説明しましょう。\n",
        "\n",
        "まず、プログラムでなにをするにもコンピュータに情報を与える必要があります。\n",
        "\n",
        "その際、**「この私が作ったプログラムには、次のルールを与えます。」**と言いたい。\n",
        "\n",
        "そのために、ルール名を決める役割をもつのが、`def` です。\n",
        "\n",
        "そのため、このような考え方ができます。\n",
        "\n",
        "~~~python\n",
        "def ルール名(引数):\n",
        "    return ルールに従った結果\n",
        "~~~\n",
        "\n",
        "ルールの内容は一切記載していませんが、こんな感じの考え方ができます。\n",
        "\n"
      ],
      "metadata": {
        "id": "Njc_SoF2AHSU"
      }
    },
    {
      "cell_type": "markdown",
      "source": [
        "## もう少し、具体的に見ていこう\n",
        "\n",
        "例えば、こんなルールを追加します。\n",
        "\n",
        "> プログラム作ってたら、やたらと１５倍する機会があるなぁ。\n",
        ">\n",
        "> じゃあルールとして、１５倍するための関数を定義しよう。\n",
        "\n",
        "~~~python\n",
        "def jugobai(num):\n",
        "    return num * 15\n",
        "~~~\n",
        "\n",
        "この`num`は変数です。\n",
        "この関数の使い方は、\n",
        "\n",
        "~~~python\n",
        "jugobai(5)\n",
        "\n",
        "def jugobai(num):\n",
        "    return num * 15\n",
        "~~~\n",
        "\n",
        "というように使います。\n"
      ],
      "metadata": {
        "id": "sAlEhqhXCou0"
      }
    },
    {
      "cell_type": "code",
      "source": [],
      "metadata": {
        "id": "FaFKekI1Ijcv"
      },
      "execution_count": null,
      "outputs": []
    },
    {
      "cell_type": "code",
      "source": [],
      "metadata": {
        "id": "LiEzd64OIjWL"
      },
      "execution_count": null,
      "outputs": []
    },
    {
      "cell_type": "code",
      "source": [],
      "metadata": {
        "id": "4gd1RLxyIjRo"
      },
      "execution_count": null,
      "outputs": []
    },
    {
      "cell_type": "markdown",
      "source": [
        "## 練習問題\n",
        "\n",
        "1. 2つの引数を受け取り、それらを足した結果を返す関数を作成してください。\n",
        "\n",
        "2. 2つの引数を受け取り、それらを掛けた結果を返す関数を作成してください。\n",
        "\n",
        "3. 整数を引数として受け取り、その整数の二乗を返す関数を作成してください。\n"
      ],
      "metadata": {
        "id": "7fgunhQANFoi"
      }
    },
    {
      "cell_type": "code",
      "source": [],
      "metadata": {
        "id": "SWkdFP82IkMH"
      },
      "execution_count": null,
      "outputs": []
    },
    {
      "cell_type": "code",
      "source": [],
      "metadata": {
        "id": "iiMsoZHF_a-e"
      },
      "execution_count": null,
      "outputs": []
    },
    {
      "cell_type": "code",
      "source": [],
      "metadata": {
        "id": "sPnikyGaIkI_"
      },
      "execution_count": null,
      "outputs": []
    },
    {
      "cell_type": "markdown",
      "metadata": {
        "id": "BpbbNz-RJn7U"
      },
      "source": [
        "# インデント（字下げ）\n",
        "\n",
        "ここからは、**インデント**がとても重要になってきますので、間違いのないようにしてください。\n",
        "\n",
        "基本的に「`:`」の次の行から、字下げが起こります。\n",
        "\n",
        "テストに出る範囲で言えば、「`:`」は\n",
        "\n",
        "1. 「`def` 」\n",
        "\n",
        "1. 「`if`」「`else`」「`elif`」\n",
        "\n",
        "1. 「`for`」「`while`」\n",
        "\n",
        "のあとに付きます。\n",
        "\n",
        "C言語のイメージなら、「`{}`」の部分です。\n",
        "\n",
        "テストでは、字下げ部分は、以下のように「**→**」と記述して下さい。\n",
        "\n",
        "\n",
        "~~~python\n",
        "def main():\n",
        " → a = 3\n",
        " → b = 4\n",
        " → if a == b:\n",
        " →  → print(\"True\")\n",
        " → else:\n",
        " →  → print(\"False\")\n",
        "\n",
        "if __name__ == \" __main__\":\n",
        " → main()\n",
        "~~~\n",
        "\n",
        "「**→**」の個数も採点対象としますので、特に注意してください。\n",
        "\n"
      ]
    },
    {
      "cell_type": "markdown",
      "metadata": {
        "id": "un9om42cC8c3"
      },
      "source": [
        "# 条件分岐\n",
        "\n",
        "ここからは、「`if`」について説明していきます。\n",
        "\n",
        "条件分岐には以下のようなものがあります。\n",
        "\n",
        "「`if`」「`else`」「`elif`」\n",
        "\n",
        "それぞれＣ言語であれば、\n",
        "\n",
        "「`if`」「`else`」「`else if`」\n",
        "\n",
        "と同義です。\n",
        "\n",
        "以下のように記述します。\n",
        "\n",
        "~~~python\n",
        "if 条件式 :\n",
        " →\n",
        "elif 条件式 :\n",
        " →\n",
        "else:\n",
        " →\n",
        "~~~\n",
        " → はインデントの意味です。\n",
        "\n",
        "例えば、\n",
        "\n",
        "~~~python\n",
        "score = 10\n",
        "if score > 60 :\n",
        "    print(\"優秀\")\n",
        "elif score >= 40 :\n",
        "    print(\"合格\")\n",
        "else:\n",
        "    print(\"不合格\")\n",
        "~~~\n",
        "というように記述することができます。\n",
        "\n",
        "実際に実行してみましょう。"
      ]
    },
    {
      "cell_type": "code",
      "source": [],
      "metadata": {
        "id": "pxZNEPKqFAwI"
      },
      "execution_count": null,
      "outputs": []
    },
    {
      "cell_type": "markdown",
      "metadata": {
        "id": "-dboJ-uOEP1B"
      },
      "source": [
        "# 繰り返し\n",
        "\n",
        "\n",
        "Pythonでは、同じ処理を繰り返し実行するために、`for`や`while`といった繰り返し処理が利用されます。"
      ]
    },
    {
      "cell_type": "markdown",
      "metadata": {
        "id": "4O2nIgLt4OEw"
      },
      "source": [
        "## forループ\n",
        "\n",
        "`for`は、あらかじめ指定された回数、もしくはリストや文字列などの要素の数だけ繰り返し処理を行います。基本的な構文は以下の通りです。\n",
        "\n",
        "~~~python\n",
        "for 変数 in 繰り返し可能なオブジェクト:\n",
        " → 繰り返し処理\n",
        "~~~\n",
        "オブジェクトを教えていないので、次のような解釈でいいと思います。\n",
        "\n",
        "~~~python\n",
        "for 変数 in 範囲 :\n",
        " → 繰り返し処理\n",
        "~~~\n",
        "\n",
        "例えば、範囲は英語でrangeといいますが、\n",
        "\n",
        "~~~python\n",
        "for i in range(1,10):\n",
        " → 繰り返し処理\n",
        "~~~\n",
        "のように記述しますることができます。\n",
        "\n",
        "これで、Ｃ言語と同様にループ処理が行えます。\n",
        "\n",
        "ただし、注意として、range関数は次のような使い方を行います。"
      ]
    },
    {
      "cell_type": "markdown",
      "metadata": {
        "id": "KXNK7taQnoQ1"
      },
      "source": [
        "## range関数\n",
        "\n",
        "range関数は引数の数によって意味が変わります。\n",
        "\n",
        "#### range(第一引数)\n",
        "\n",
        "の場合は、**0**  から **第一引数 - 1** となります。\n",
        "\n",
        "つまり、\n",
        "\n",
        "~~~python\n",
        "range(5)\n",
        "~~~\n",
        "であれば、\n",
        "\n",
        "**0 1 2 3 4**\n",
        "\n",
        "となります。\n",
        "\n",
        "~~~python\n",
        "for i in range(5):\n",
        "    print(i)\n",
        "~~~\n",
        "\n",
        "例えば、配列の長さを求める関数lenを用いると次のようなことができます。\n",
        "\n",
        "~~~python\n",
        "my_list = [1, 2, 3, 4, 5]\n",
        "for i in range(len(my_list)):\n",
        "    my_list[i] += 1\n",
        "print(my_list)\n",
        "~~~\n"
      ]
    },
    {
      "cell_type": "markdown",
      "metadata": {
        "id": "W1SiDu2-o5O3"
      },
      "source": [
        "### range(第一引数,第二引数)\n",
        "\n",
        "の場合は、**第一引数** から **第二引数 - 1** となります。\n",
        "\n",
        "つまり、\n",
        "\n",
        "~~~pyhon\n",
        "range(2,10)\n",
        "~~~\n",
        "\n",
        "であれば、 **2 3 4 5 6 7 8 9**\n",
        "\n",
        "となります。\n",
        "\n",
        "~~~python\n",
        "for i in range(2,10):\n",
        "    print(i)\n",
        "\n",
        "~~~\n"
      ]
    },
    {
      "cell_type": "code",
      "source": [
        "print([[0,0],0]*2)\n"
      ],
      "metadata": {
        "colab": {
          "base_uri": "https://localhost:8080/"
        },
        "id": "4gpL_51pIYsd",
        "outputId": "8a788f02-4d20-4118-a5a0-de2565978763"
      },
      "execution_count": null,
      "outputs": [
        {
          "output_type": "stream",
          "name": "stdout",
          "text": [
            "[[0, 0], 0, [0, 0], 0]\n"
          ]
        }
      ]
    },
    {
      "cell_type": "markdown",
      "metadata": {
        "id": "eRNDJlvfiiFB"
      },
      "source": [
        "### range(第一引数,第二引数,第三引数)\n",
        "\n",
        "の場合は、**第一引数** から **第二引数 - 1** を **第三引数** 分飛ばしてカウントすることになります。\n",
        "\n",
        "つまり、\n",
        "\n",
        "~~~pyhon\n",
        "range(2,10,2)\n",
        "~~~\n",
        "\n",
        "であれば、 **2 4 6 8**  となります。\n",
        "\n",
        "~~~python\n",
        "for i in range(2,10,2):\n",
        "    print(i)\n",
        "~~~\n",
        "\n",
        "また、**8  6  4  2**であれば、\n",
        "\n",
        "~~~python\n",
        "for i in range(8,0,-2):\n",
        "    print(i)\n",
        "~~~\n",
        "となります。\n",
        "\n",
        "これは、厳密には、\n",
        "`range(a,b,c)`というのは、`range(初期値,この数値になったらやめる,増分)`ということになります。\n",
        "\n",
        "つまり、厳密には-1までというわけではありませんので、間違えないようにしてください。"
      ]
    },
    {
      "cell_type": "markdown",
      "source": [
        "## 配列を使ったforループ\n",
        "\n",
        "最初に言ったように`range`![p1.png](data:image/png;base64,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)ではないものを用いて`for`を利用できます。\n",
        "~~~python\n",
        "my_list = [7, 3, 5, [4,6], 5]\n",
        "for i in my_list:\n",
        "    print(i)\n",
        "~~~\n",
        "\n",
        "実際に実行して確認しましょう。\n",
        "これは配列の各要素を順番に`i`に代入しているということです。（**イテレート**という）\n",
        "\n",
        "`range`を使って同じことを行うと以下のようになります。\n",
        "~~~python\n",
        "my_list = [7, 3, 5, [4,6], 5]\n",
        "for i in range(len(my_list)):\n",
        "    print(my_list[i])\n",
        "~~~\n",
        "となります。\n",
        "\n",
        "どちらが正しいとかはありませんので、使いやすい方で記述してください。\n",
        "\n",
        "**おまけ**\n",
        "\n",
        "各要素を２倍する方法\n",
        "\n",
        "~~~python\n",
        "my_list = [7, 3, 5, [4,6], 5]\n",
        "for i in range(len(my_list)):\n",
        "    my_list[i] = my_list[i] * 2\n",
        "print(my_list)\n",
        "~~~\n",
        "リスト内包表記を利用することで、簡潔に２倍することもできます。\n",
        "~~~python\n",
        "lst = [1, 2, 3, 4, 5]\n",
        "print([x * 2 for x in lst])\n",
        "~~~\n"
      ],
      "metadata": {
        "id": "Df04LLZEACk2"
      }
    },
    {
      "cell_type": "markdown",
      "source": [
        "### おまけ：リスト内包表記について\n",
        "\n",
        "~~~python\n",
        "numbers = [1, 2, 3, 4, 5]\n",
        "~~~\n",
        "\n",
        "このリスト内の各要素を2倍にするには、次のようなリスト内包表記を使用できます。\n",
        "\n",
        "~~~python\n",
        "doubled_numbers = [x * 2 for x in numbers]\n",
        "~~~\n",
        "文法は、\n",
        "\n",
        "~~~python\n",
        "[行いたい処理 for 任意の変数名 in 参照可能なオブジェクト]\n",
        "~~~\n",
        "となります。\n",
        "\n",
        "また、`if`を用いてもう少し複雑なことができます。\n",
        "\n",
        "~~~python\n",
        "doubled_odds = [x * 2 for x in numbers if x % 2 == 1]\n",
        "~~~\n",
        "文法は、\n",
        "~~~python\n",
        "[行いたい処理 for 任意の変数名 in 参照可能なオブジェクト if 条件式]\n",
        "~~~\n",
        "となり、処理が簡潔に記述できます。"
      ],
      "metadata": {
        "id": "mW8cvo9PHL9W"
      }
    },
    {
      "cell_type": "code",
      "source": [
        "lst = [1, 2, 3, 4, 5]\n",
        "print([x * 2 for x in lst])\n"
      ],
      "metadata": {
        "colab": {
          "base_uri": "https://localhost:8080/"
        },
        "id": "-XoliOwGRqXo",
        "outputId": "bf30e9f0-7c53-4f7e-8445-491aeacebceb"
      },
      "execution_count": null,
      "outputs": [
        {
          "output_type": "stream",
          "name": "stdout",
          "text": [
            "[2, 4, 6, 8, 10]\n"
          ]
        }
      ]
    },
    {
      "cell_type": "markdown",
      "metadata": {
        "id": "R1dC_Bm8EZD2"
      },
      "source": [
        "## whileループ\n",
        "\n",
        "「`while`」についてもＣ言語とほとんど同じです。\n",
        "\n",
        "~~~python\n",
        "while 条件式 :\n",
        " →\n",
        "~~~\n",
        "というように記述することができます。\n",
        "\n",
        "例えば、以下のように記述します。\n",
        "\n",
        "~~~python\n",
        "i = 0\n",
        "while i < 10:\n",
        " → i = i + 1\n",
        " → print(i)\n",
        "~~~\n",
        "実際に実行してみましょう。"
      ]
    },
    {
      "cell_type": "markdown",
      "metadata": {
        "id": "IHMSLRvY098u"
      },
      "source": [
        "### 練習問題\n",
        "\n",
        "次の問題を考えなさい。\n",
        "\n",
        "a = 123456789\n",
        "\n",
        "b = 8\n",
        "\n",
        "c = 9\n",
        "\n",
        "とし、\n",
        "\n",
        "変数 moji に a * b + c の解を３回繰り返したうえで、\n",
        "\n",
        "文字列として代入し、mojiを出力しなさい。\n",
        "\n",
        "\n",
        "その後、下のセルを実行し、Trueとなることを確認しなさい。\n"
      ]
    },
    {
      "cell_type": "code",
      "execution_count": null,
      "metadata": {
        "colab": {
          "base_uri": "https://localhost:8080/"
        },
        "id": "7oidF-EA1xJL",
        "outputId": "faca098e-041d-4a58-91b9-debddbfe611e"
      },
      "outputs": [
        {
          "name": "stdout",
          "output_type": "stream",
          "text": [
            "987654321987654321987654321\n"
          ]
        }
      ],
      "source": [
        "a = 123456789\n",
        "b = 8\n",
        "c = 9\n",
        "moji = str(a*b+c)*3\n",
        "print(moji)"
      ]
    },
    {
      "cell_type": "code",
      "execution_count": null,
      "metadata": {
        "colab": {
          "base_uri": "https://localhost:8080/"
        },
        "id": "r41SAyYO6MiU",
        "outputId": "62186a30-f2a5-44e5-fb41-5816d8b7c8ec"
      },
      "outputs": [
        {
          "name": "stdout",
          "output_type": "stream",
          "text": [
            "True\n"
          ]
        }
      ],
      "source": [
        "print(moji==\"987654321987654321987654321\")"
      ]
    },
    {
      "cell_type": "markdown",
      "metadata": {
        "id": "QbXlC1XOAHRi"
      },
      "source": [
        "### 練習問題\n",
        "\n",
        "1. FizzBuzz\n",
        "\n",
        "1から30までの整数を記述し、3の倍数であれば「Fizz」、5の倍数であれば「Buzz」、15の倍数であれば「FizzBuzz」と出力するようなプログラムを組みなさい。\n",
        "\n",
        "**注意**\n",
        "\n",
        "print関数は出力結果の最後に改行コードを記述しますので、Ｃ言語と全く同じ作りにしてしまうと間違えます。\n",
        "\n",
        "ただし、出力結果は以下のようになる。\n",
        "~~~\n",
        "1\n",
        "2\n",
        "3\n",
        "Fizz\n",
        "4\n",
        "5\n",
        "Buzz\n",
        "6\n",
        "Fizz\n",
        "7\n",
        "8\n",
        "9\n",
        "Fizz\n",
        "10\n",
        "Buzz\n",
        "11\n",
        "12\n",
        "Fizz\n",
        "13\n",
        "14\n",
        "15\n",
        "FizzBuzz\n",
        "16\n",
        "17\n",
        "18\n",
        "Fizz\n",
        "19\n",
        "20\n",
        "Buzz\n",
        "21\n",
        "Fizz\n",
        "22\n",
        "23\n",
        "24\n",
        "Fizz\n",
        "25\n",
        "Buzz\n",
        "26\n",
        "27\n",
        "Fizz\n",
        "28\n",
        "29\n",
        "30\n",
        "FizzBuzz\n",
        "~~~"
      ]
    },
    {
      "cell_type": "code",
      "execution_count": null,
      "metadata": {
        "colab": {
          "base_uri": "https://localhost:8080/"
        },
        "id": "SFLnr2NYAx6J",
        "outputId": "f578b51b-14bd-4e1c-e11f-b6b338399080"
      },
      "outputs": [
        {
          "name": "stdout",
          "output_type": "stream",
          "text": [
            "1\n",
            "2\n",
            "3\n",
            "Fizz\n",
            "4\n",
            "5\n",
            "Buzz\n",
            "6\n",
            "Fizz\n",
            "7\n",
            "8\n",
            "9\n",
            "Fizz\n",
            "10\n",
            "Buzz\n",
            "11\n",
            "12\n",
            "Fizz\n",
            "13\n",
            "14\n",
            "15\n",
            "FizzBuzz\n",
            "16\n",
            "17\n",
            "18\n",
            "Fizz\n",
            "19\n",
            "20\n",
            "Buzz\n",
            "21\n",
            "Fizz\n",
            "22\n",
            "23\n",
            "24\n",
            "Fizz\n",
            "25\n",
            "Buzz\n",
            "26\n",
            "27\n",
            "Fizz\n",
            "28\n",
            "29\n",
            "30\n",
            "FizzBuzz\n"
          ]
        }
      ],
      "source": [
        "for i in range(1,31):\n",
        "    print(i)\n",
        "    if i % 15 == 0:\n",
        "        print(\"FizzBuzz\")\n",
        "    elif i % 3 == 0:\n",
        "        print(\"Fizz\")\n",
        "    elif i % 5 == 0:\n",
        "        print(\"Buzz\")\n"
      ]
    },
    {
      "cell_type": "markdown",
      "metadata": {
        "id": "eXdDGbftCOdR"
      },
      "source": [
        "2. 奇数の和の出力\n",
        "\n",
        "1から400までの奇数の和を求めなさい。\n",
        "\n",
        "出力が40000になれば正解です。"
      ]
    },
    {
      "cell_type": "code",
      "execution_count": null,
      "metadata": {
        "colab": {
          "base_uri": "https://localhost:8080/"
        },
        "id": "ipQCyuLGDB8a",
        "outputId": "f4feccca-38c4-4013-97c9-cd766d19345e"
      },
      "outputs": [
        {
          "name": "stdout",
          "output_type": "stream",
          "text": [
            "40000\n"
          ]
        }
      ],
      "source": [
        "sum = 0\n",
        "for i in range(1,401,2):\n",
        "    sum = sum + i\n",
        "print(sum)"
      ]
    },
    {
      "cell_type": "code",
      "execution_count": null,
      "metadata": {
        "colab": {
          "base_uri": "https://localhost:8080/"
        },
        "id": "molfePDjDytf",
        "outputId": "fbaf90d4-12b3-4ff0-eb70-3509ba192779"
      },
      "outputs": [
        {
          "name": "stdout",
          "output_type": "stream",
          "text": [
            "40000\n"
          ]
        }
      ],
      "source": [
        "#別解\n",
        "sum = 0\n",
        "for i in range(1,401):\n",
        "    if i % 2 == 1:\n",
        "        sum = sum + i\n",
        "print(sum)"
      ]
    },
    {
      "cell_type": "markdown",
      "metadata": {
        "id": "NBP1MrykDwvC"
      },
      "source": [
        "3. 直角三角形の面積と斜辺の長さを求めるプログラム\n",
        "\n",
        "底辺(tei)と高さ(taka)が与えられるので、面積(men)と斜辺(sha)の長さを求めるプログラムを記述しなさい。\n",
        "\n",
        "tei = 12\n",
        "\n",
        "taka = 9"
      ]
    },
    {
      "cell_type": "code",
      "execution_count": null,
      "metadata": {
        "colab": {
          "base_uri": "https://localhost:8080/"
        },
        "id": "M0wW_UCVJcqZ",
        "outputId": "997eb2bd-6b6d-40a3-d016-1da3a5627342"
      },
      "outputs": [
        {
          "name": "stdout",
          "output_type": "stream",
          "text": [
            "54.0\n",
            "15.0\n"
          ]
        }
      ],
      "source": [
        "import math\n",
        "\n",
        "tei = 12\n",
        "taka = 9\n",
        "\n",
        "men = tei * taka / 2\n",
        "print(men)\n",
        "\n",
        "sha = math.sqrt(tei**2 + taka**2)\n",
        "print(sha)"
      ]
    },
    {
      "cell_type": "code",
      "execution_count": null,
      "metadata": {
        "colab": {
          "background_save": true
        },
        "id": "7duh-rXTyzvT",
        "outputId": "7b645671-a952-46f3-8548-3f5321a82fef"
      },
      "outputs": [
        {
          "name": "stdout",
          "output_type": "stream",
          "text": [
            "1から100までの数字を当ててください。\n",
            "もっと大きい数字です。\n",
            "もっと大きい数字です。\n",
            "もっと小さい数字です。\n",
            "もっと大きい数字です。\n"
          ]
        }
      ],
      "source": [
        "\n",
        "import random\n",
        "\n",
        "def guess_number():\n",
        "    secret_number = random.randint(1, 100)\n",
        "    attempts = 0\n",
        "    user_guess = None\n",
        "\n",
        "    print(\"1から100までの数字を当ててください。\")\n",
        "\n",
        "    while user_guess != secret_number:\n",
        "        try:\n",
        "            user_guess = int(input(\"予想する数字を入力してください: \"))\n",
        "        except ValueError:\n",
        "            print(\"数字を入力してください。\")\n",
        "            continue\n",
        "\n",
        "        attempts += 1\n",
        "\n",
        "        if user_guess < secret_number:\n",
        "            print(\"もっと大きい数字です。\")\n",
        "        elif user_guess > secret_number:\n",
        "            print(\"もっと小さい数字です。\")\n",
        "        else:\n",
        "            print(f\"正解！{attempts}回目で当たりました。\")\n",
        "\n",
        "guess_number()\n"
      ]
    },
    {
      "cell_type": "markdown",
      "source": [
        "## def応用編\n",
        "\n",
        "関数については、これ以上深堀をせずに進みたいのですが、このようなパターンを考えてみましょう。\n",
        "\n",
        "~~~python\n",
        "def saiki(num):\n",
        "\n",
        "    return saiki()\n",
        "~~~"
      ],
      "metadata": {
        "id": "DjbgzVPpBQMA"
      }
    },
    {
      "cell_type": "markdown",
      "source": [
        "~~~python\n",
        "def fibonacci(n):\n",
        "    if n == 0:\n",
        "        return 0\n",
        "    elif n == 1:\n",
        "        return 1\n",
        "    else:\n",
        "        return fibonacci(n - 1) + fibonacci(n - 2)\n",
        "~~~"
      ],
      "metadata": {
        "id": "IOXtTYZXCd3g"
      }
    },
    {
      "cell_type": "code",
      "source": [
        "def tashizan(x,y):\n",
        "    return x+y\n",
        "\n",
        "tashizan(5,10)"
      ],
      "metadata": {
        "colab": {
          "base_uri": "https://localhost:8080/"
        },
        "id": "OwoegOm-Wkfh",
        "outputId": "47b406c3-a6d4-4d3a-ba73-5fafe72a521d"
      },
      "execution_count": null,
      "outputs": [
        {
          "output_type": "execute_result",
          "data": {
            "text/plain": [
              "15"
            ]
          },
          "metadata": {},
          "execution_count": 1
        }
      ]
    },
    {
      "cell_type": "markdown",
      "source": [
        "関数の再帰呼び出しとは、定義しようとしている関数を、その定義の中で呼び出すことです。 定義の中で直接呼び出す場合に限らず、他の関数を経由して間接的に呼び出す場合も、再帰呼び出しに含まれます。 再帰呼び出しを行う関数を、再帰関数といいます。"
      ],
      "metadata": {
        "id": "hGKeKSQ2CSnC"
      }
    },
    {
      "cell_type": "code",
      "source": [],
      "metadata": {
        "id": "NnRRNEKTNFCL"
      },
      "execution_count": null,
      "outputs": []
    },
    {
      "cell_type": "code",
      "execution_count": null,
      "metadata": {
        "id": "yUrEs0d6tfYF"
      },
      "outputs": [],
      "source": [
        "def main():\n",
        "    print(\"Hello\")"
      ]
    },
    {
      "cell_type": "code",
      "execution_count": null,
      "metadata": {
        "id": "6ahqQNDhryf-"
      },
      "outputs": [],
      "source": [
        "class Hello():\n",
        "    def __init__(self):\n",
        "        print(\"こんにちは\")\n",
        "\n",
        "def main():\n",
        "    Hello()\n",
        "\n",
        "if __name__==\"__main__\":\n",
        "    main()"
      ]
    },
    {
      "cell_type": "markdown",
      "source": [
        "行とか列とかが分かりづらい方は、以下の画像を参考にして下さい。\n",
        "\n",
        "<img src=\"http://cdn-ak.f.st-hatena.com/images/fotolife/l/lambdalisue/20130718/20130718131854.png\" width=\"800\">"
      ],
      "metadata": {
        "id": "6ZSpMjHHHWlJ"
      }
    },
    {
      "cell_type": "markdown",
      "metadata": {
        "id": "WGLSCgZvxHXt"
      },
      "source": [
        "急に難しそうになりましたが、\n",
        "\n",
        "~~~ C++\n",
        "#include<stdio.h>\n",
        "int main(void){\n",
        "    printf(\"こんにちは\");\n",
        "}\n",
        "~~~\n",
        "\n",
        "という感じで、Pythonのファイルを作って実行しているだけです。\n",
        "\n",
        "___\n"
      ]
    },
    {
      "cell_type": "markdown",
      "source": [
        "#ゲームを作成しよう\n",
        "\n",
        "プログラミングの勉強を志したきっかけを思い出してください。\n",
        "多くの人は、ゲームを作ろうと考えたはずです。\n",
        "\n",
        "しかし、いざやってみようとなると、プログラミングは難解過ぎてちんぷんかんぷん。\n",
        "\n",
        "時間がかかりすぎますが、ゲーム作りで基本的な構文を復習しながら学習していくためのテキストです。\n",
        "\n",
        "そのため、なにか作りたいものがある人は、それを作り始めるのが最短ルートです。\n",
        "\n",
        "まぁ、頑張って作りましょう。\n",
        "\n",
        "\n",
        "\n",
        "\n",
        "\n"
      ],
      "metadata": {
        "id": "iidMgDOpDGPv"
      }
    },
    {
      "cell_type": "markdown",
      "source": [
        "##ゲーム作りの最初の一歩\n",
        "\n",
        "基本的な構文をわかっていない前提で教えていきますので、よく知っている人であれば、飛ばしながら見てください。\n"
      ],
      "metadata": {
        "id": "fK81KueVNHVO"
      }
    },
    {
      "cell_type": "markdown",
      "source": [
        "### ランダム関数を使おう\n",
        "\n",
        "ゲームを作成する際に一番最初に思いつくのは、ランダム関数を用いたとても簡単で初歩的なプログラムです。\n",
        "\n",
        "ランダムに好きな数字を表示するためにプログラムは以下のように記述すれば良いです。"
      ],
      "metadata": {
        "id": "dL7qdnB_NK1G"
      }
    },
    {
      "cell_type": "code",
      "source": [
        "import random\n",
        "\n",
        "print(random.randint(1,10))"
      ],
      "metadata": {
        "colab": {
          "base_uri": "https://localhost:8080/"
        },
        "id": "GCCU6CPfFev9",
        "outputId": "4991a055-3747-4a72-eeae-97705b150ca5"
      },
      "execution_count": null,
      "outputs": [
        {
          "output_type": "stream",
          "name": "stdout",
          "text": [
            "10\n"
          ]
        }
      ]
    },
    {
      "cell_type": "markdown",
      "source": [
        "このたった２行のコードで、簡単にランダムな値を表示できます。\n",
        "\n",
        "これらのコードの意味を解説する前に写経しましょう。\n",
        "\n",
        "\n",
        "**千里の道も一歩から**\n",
        "\n",
        "自分で音読しながら記述してください。\n",
        "\n"
      ],
      "metadata": {
        "id": "_WHrnskdFpt2"
      }
    },
    {
      "cell_type": "code",
      "source": [],
      "metadata": {
        "id": "lw_09AaCGGsE"
      },
      "execution_count": null,
      "outputs": []
    },
    {
      "cell_type": "markdown",
      "source": [
        "まず、最初の\n",
        "~~~ python\n",
        "import モジュール名\n",
        "~~~\n",
        "\n",
        "これは、「プログラムに次のようなモジュールを読み込みますよ」という意味になります。\n",
        "\n",
        "モジュールって何？\n",
        "\n",
        "<img src=\"https://img.gamewith.jp/article/thumbnail/rectangle/303695.png?date=1636339540\" width=\"500\">\n",
        "\n",
        "と綾波レイみたいになっているそこのあなた！！\n",
        "\n",
        "モジュールってのは、**「他人の作ったプログラムを手軽に使えるためにまとめたもの」**という認識でOKです。\n",
        "\n",
        "つまり、この`import`で他人のプログラムを利用することができます。\n",
        "\n",
        "今回は、よく使われる関数ですので、pythonの標準的なライブラリに含まれています。\n",
        "\n",
        "<br>\n",
        "\n",
        "今回の場合は、プリント文の中にこのように記述しています。\n",
        "~~~python\n",
        "random.randint(1,10)\n",
        "~~~\n",
        "この文の意味は、\n",
        "`random`というプログラムのまとまりの中の`randint`という関数を呼び出しています。\n",
        "~~~python\n",
        "randint( a, b )\n",
        "~~~\n",
        "とは、a～bの値をランダムに返す関数です。\n",
        "~~~python\n",
        "randint(1,10)\n",
        "~~~\n",
        "この場合、１～１０の値を返します。\n"
      ],
      "metadata": {
        "id": "XOfrCjWzGHZy"
      }
    },
    {
      "cell_type": "markdown",
      "source": [
        "#### Tips 値を返すとは？\n",
        "私の説明で、今後、**「値を返す」**という言葉をよく使うことになると思います。\n",
        "プログラミングにおいて、関数というものを使うと、どうしてもこの言葉を使わざるを得ません。\n",
        "\n",
        "中学校までに関数をすでに習っていると思いますので、\n",
        "関数の役割をおさらいすると、内容が見えてきます。\n",
        "\n",
        "わかりやすいイメージがネットに転がっていたので、\n",
        "\n",
        "<br>\n",
        "<img src=\"https://univ-juken.com/wp-content/uploads/2020/04/kansu-zukei1.png\" width=\"500\">\n",
        "\n",
        "[受験辞典　関数](https://univ-juken.com/kansu)\n",
        "<br>\n",
        "\n",
        "こちらを参考にして、説明していきます。\n",
        "\n",
        "まさにこの通りで、数値を入力すると、値を出力してくれます。\n",
        "\n",
        "関数を使用すると、次のような形になります。\n",
        "\n",
        "（例外はありますが今回は、最小の説明で乗り切ります。）\n",
        "\n",
        "~~~python\n",
        "関数名 (   )\n",
        "~~~\n",
        "この丸カッコ「（　）」に入れる値がこの図でいうところの材料にあたります。\n",
        "\n",
        "そして、完成品として出てくる値のことを私たちは「返す」と言っています。\n",
        "\n",
        "一言でいうのであれば、\n",
        "\n",
        "**関数**に材料として値を**「与えて」**、完成品として値が**「返される」**のです。\n",
        "\n",
        "そのため、**「返す」**という表現になります。\n",
        "\n",
        "\n"
      ],
      "metadata": {
        "id": "InmC3iNc30nH"
      }
    },
    {
      "cell_type": "markdown",
      "source": [
        "####**Tips print文の復習**\n",
        "\n",
        "ちなみに、print文とは、文字列や数値などを画面に出力できる関数です。\n",
        "\n",
        "文字列と数値ではコードの書き方が違い、数値は `print( )` のように記述すれば出力されますが、\n",
        "\n",
        "文字列(英語・日本語など)は `print(\" \")` のように`\"`(ダブルクオーテーション)で囲う必要があります。\n"
      ],
      "metadata": {
        "id": "5eGgYwSR-AEc"
      }
    },
    {
      "cell_type": "code",
      "source": [
        "print(123)\n",
        "print(\"あいうえお\")\n",
        "print(\"aiueo\")"
      ],
      "metadata": {
        "id": "tYzgZgSiAY_U"
      },
      "execution_count": null,
      "outputs": []
    },
    {
      "cell_type": "markdown",
      "source": [
        "#### 練習問題\n",
        "５０から１００までのランダムな数値を生成するプログラムを記述しなさい。"
      ],
      "metadata": {
        "id": "3Nw8uU_25Gze"
      }
    },
    {
      "cell_type": "code",
      "source": [
        "import random\n",
        "\n",
        "print(random.randint(50,100))"
      ],
      "metadata": {
        "id": "wXVnwV9I5mAU"
      },
      "execution_count": null,
      "outputs": []
    },
    {
      "cell_type": "markdown",
      "source": [
        "じゃんけんの「ぐー」「ちょき」「ぱー」をランダムに表示するプログラムを作成しなさい。"
      ],
      "metadata": {
        "id": "t2F9DJSv7IBn"
      }
    },
    {
      "cell_type": "code",
      "source": [
        "import random\n",
        "zyanken = random.randint(1,3)\n",
        "if zyanken == 1:\n",
        "    print(\"ぐー\")\n",
        "elif zyanken == 2:\n",
        "    print(\"ちょき\")\n",
        "elif zyanken == 3:\n",
        "    print(\"ぱー\")"
      ],
      "metadata": {
        "id": "P_kmBNDR7HfI",
        "colab": {
          "base_uri": "https://localhost:8080/"
        },
        "outputId": "c3980b61-1362-4256-da8a-578ba0d956a9"
      },
      "execution_count": null,
      "outputs": [
        {
          "output_type": "stream",
          "name": "stdout",
          "text": [
            "ちょき\n"
          ]
        }
      ]
    },
    {
      "cell_type": "markdown",
      "source": [
        "#### Tips if\n",
        "条件分岐には以下のようなものがあります。\n",
        "\n",
        "「`if`」「`else`」「`elif`」\n",
        "\n",
        "それぞれＣ言語であれば、\n",
        "\n",
        "「`if`」「`else`」「`else if`」\n",
        "\n",
        "と同義です。\n",
        "\n",
        "以下のように記述します。\n",
        "\n",
        "~~~python\n",
        "if 条件式１ :\n",
        " →実行内容１\n",
        "elif 条件式２ :\n",
        " →実行内容２\n",
        "else:\n",
        " →実行内容３\n",
        "~~~\n",
        " → はインデントの意味です。インデントは、高さをそろえましょう。\n",
        "\n",
        " このif文では、\n",
        "\n",
        " もし、条件式１に該当するのであれば、実行内容１を行います。\n",
        "\n",
        "条件式１に該当せず、条件式２に該当するのであれば、実行内容２を実行します。\n",
        "\n",
        "最後に、それら条件式に当てはまらない場合は、実行内容３を行います。"
      ],
      "metadata": {
        "id": "o6g-Ai1b9Rg5"
      }
    },
    {
      "cell_type": "markdown",
      "source": [
        "#### 応用問題\n",
        "じゃんけんゲームを作成してください。\n",
        "\n",
        "条件：\n",
        "\n",
        "自分の手は、input関数を用いて、0を入力したら「ぐー」、1を入力したら「ちょき」、2を入力したら「ぱー」になります。\n",
        "\n",
        "CPUの手は、ランダムです。\n",
        "\n",
        "最終的に勝ちか負けかも出力しなさい。\n",
        "\n",
        "期待する出力:\n",
        "~~~\n",
        "1\n",
        "player:ちょき\n",
        "com:ぱー\n",
        "あなたの勝ちです\n",
        "~~~"
      ],
      "metadata": {
        "id": "FOrQE2s17ZrA"
      }
    },
    {
      "cell_type": "code",
      "source": [
        "#0「ぐー」、1「ちょき」、2「ぱー」\n",
        "import random\n",
        "\n",
        "zyanken = [\"ぐー\",\"ちょき\",\"ぱー\"]\n",
        "\n",
        "player = int(input())   #自分の出した手を０～２の中から選ぶ\n",
        "com = random.randint(0,2)   #相手の手はrandom関数によってランダムに選ばれる\n",
        "\n",
        "print(\"player:\"+zyanken[player])\n",
        "print(\"com:\"+zyanken[com])\n",
        "\n",
        "if player == com:\n",
        "    print(\"あいこです\")\n",
        "\n",
        "elif player == 1:\n",
        "    if com == 2:\n",
        "        print(\"あなたの勝ちです\")\n",
        "    elif com == 3:\n",
        "        print(\"あなたの負けです\")\n",
        "\n",
        "elif player == 2:\n",
        "    if com == 1:\n",
        "        print(\"あなたの負けです\")\n",
        "    elif com == 3:\n",
        "        print(\"あなたの勝ちです\")\n",
        "\n",
        "elif player == 3:\n",
        "    if com == 1:\n",
        "        print(\"あなたの勝ちです\")\n",
        "    elif com == 2:\n",
        "        print(\"あなたの負けです\")"
      ],
      "metadata": {
        "colab": {
          "base_uri": "https://localhost:8080/"
        },
        "id": "jlqC5_rYHXwa",
        "outputId": "41af0a2c-fd2e-475a-8788-264d23338e6b"
      },
      "execution_count": null,
      "outputs": [
        {
          "output_type": "stream",
          "name": "stdout",
          "text": [
            "1\n",
            "player:ちょき\n",
            "com:ぱー\n",
            "あなたの勝ちです\n"
          ]
        }
      ]
    },
    {
      "cell_type": "markdown",
      "source": [
        "じゃんけんの勝率を計算します。じゃんけんの結果は、「勝利」「敗北」「あいこ」のように３通りあります。\n",
        "\n",
        "おそらく、勝利の確率は「33.3%」になりそうです。\n",
        "\n",
        "実際に正しいか確かめなさい。\n",
        "\n",
        "ただし、試行回数を任意で設定できるように、input関数を用いなさい。"
      ],
      "metadata": {
        "id": "j0tJcxRg8t54"
      }
    },
    {
      "cell_type": "code",
      "source": [
        "#0「ぐー」、1「ちょき」、2「ぱー」\n",
        "import random\n",
        "\n",
        "win = 0\n",
        "n = int(input()) #試行回数\n",
        "\n",
        "for i in range(n):\n",
        "    player = random.randint(0,2)\n",
        "    com = random.randint(0,2)\n",
        "    if player == 0:\n",
        "        if com == 1:\n",
        "            win += 1\n",
        "    elif player == 1:\n",
        "        if com == 2:\n",
        "            win += 1\n",
        "    elif player == 2:\n",
        "        if com == 0:\n",
        "            win += 1\n",
        "\n",
        "percent = win / n * 100\n",
        "print(\"勝率は\" + str(percent) + \"%です。\")"
      ],
      "metadata": {
        "colab": {
          "base_uri": "https://localhost:8080/"
        },
        "id": "pO1sNQJqOKj4",
        "outputId": "86c9e18e-51d6-4000-c175-5895fcea60e6"
      },
      "execution_count": null,
      "outputs": [
        {
          "output_type": "stream",
          "name": "stdout",
          "text": [
            "100000\n",
            "勝率は33.097%です。\n"
          ]
        }
      ]
    },
    {
      "cell_type": "code",
      "source": [
        "import random\n",
        "n = int(input())\n",
        "win = 0\n",
        "for i in range(n):\n",
        "    p1 = random.randint(0,2)\n",
        "    p2 = random.randint(0,2)\n",
        "    if (p1 == 0 and p2 == 1) or (p1 == 1 and p2 == 2) or (p1 == 2 and p2 == 0):\n",
        "        win += 1\n",
        "print(\"勝率は\",win/n*100,\"%です。\")"
      ],
      "metadata": {
        "colab": {
          "base_uri": "https://localhost:8080/"
        },
        "id": "DpoUxJXCU-AN",
        "outputId": "8a0b295a-a19f-459d-d66b-d92626577808"
      },
      "execution_count": null,
      "outputs": [
        {
          "output_type": "stream",
          "name": "stdout",
          "text": [
            "10000\n",
            "勝率は 34.32 %です。\n"
          ]
        }
      ]
    },
    {
      "cell_type": "markdown",
      "source": [
        "３連勝する確率を求めなさい。\n",
        "ただし、あいこの場合、終了とします。"
      ],
      "metadata": {
        "id": "F5OY8FLQTiiX"
      }
    },
    {
      "cell_type": "code",
      "source": [
        "import random\n",
        "n = int(input())\n",
        "count = 0\n",
        "for i in range(n):\n",
        "    win = 0\n",
        "    while win < 3:\n",
        "        p , c = random.randint(0,2) , random.randint(0,2)\n",
        "        if (p == 0 and c == 1)or(p == 1 and c == 2)or(p == 2 and c == 0):\n",
        "            win += 1\n",
        "        else:\n",
        "            break\n",
        "        if win == 3:\n",
        "            count += 1\n",
        "\n",
        "print(\"３連勝する確率は\"+str(count / n *100)+\"%です\")\n",
        "print(1/27*100)\n"
      ],
      "metadata": {
        "colab": {
          "base_uri": "https://localhost:8080/"
        },
        "id": "gKl892wgTyb2",
        "outputId": "7f31a96e-3599-4791-cd52-886668408761"
      },
      "execution_count": null,
      "outputs": [
        {
          "output_type": "stream",
          "name": "stdout",
          "text": [
            "100000\n",
            "３連勝する確率は3.791%です\n",
            "3.7037037037037033\n"
          ]
        }
      ]
    },
    {
      "cell_type": "markdown",
      "source": [
        "２つのすごろくがぞろ目である確率を求めなさい。"
      ],
      "metadata": {
        "id": "FbvMzz3DdKXt"
      }
    },
    {
      "cell_type": "code",
      "source": [
        "import random\n",
        "n = int(input())\n",
        "goukei = 0\n",
        "for i in range(n):\n",
        "    sugoroku , saikoro = random.randint(1,6),random.randint(1,6)\n",
        "    if sugoroku == saikoro:\n",
        "        goukei += 1\n",
        "print(goukei/n*100,\"%\")\n",
        "print(1/6*100,\"%\")"
      ],
      "metadata": {
        "id": "uzjRewqvdSp-",
        "colab": {
          "base_uri": "https://localhost:8080/"
        },
        "outputId": "4fd789b2-9383-461d-f23c-e6fea26aa426"
      },
      "execution_count": null,
      "outputs": [
        {
          "output_type": "stream",
          "name": "stdout",
          "text": [
            "100000\n",
            "16.527 %\n",
            "16.666666666666664 %\n"
          ]
        }
      ]
    },
    {
      "cell_type": "markdown",
      "source": [
        "３つのすごろくがぞろ目である確率を求めなさい。"
      ],
      "metadata": {
        "id": "kY7GP0xc8r6p"
      }
    },
    {
      "cell_type": "code",
      "source": [
        "import random\n",
        "n = int(input())\n",
        "goukei = 0\n",
        "for i in range(n):\n",
        "    sugoroku , saikoro , sainome = random.randint(1,6),random.randint(1,6),random.randint(1,6)\n",
        "    if sugoroku == saikoro and  saikoro == sainome:\n",
        "        goukei += 1\n",
        "print(goukei/n*100,\"%\")\n",
        "print(1/36*100,\"%\")"
      ],
      "metadata": {
        "colab": {
          "base_uri": "https://localhost:8080/"
        },
        "outputId": "d1eda629-4922-4d28-fee1-16d861fa2828",
        "id": "eSzziNf88r6q"
      },
      "execution_count": null,
      "outputs": [
        {
          "output_type": "stream",
          "name": "stdout",
          "text": [
            "100000\n",
            "2.759 %\n",
            "2.7777777777777777 %\n"
          ]
        }
      ]
    },
    {
      "cell_type": "markdown",
      "source": [
        "## 確率の算出方法について\n",
        "\n",
        "みなさんは、ポケモンをご存じでしょうか？\n",
        "\n",
        "<br>\n",
        "<img src=\"https://zukan.pokemon.co.jp/zukan-api/up/images/index/6ee10ea72fc862fb4ce65cba1da648cd.png\" width=\"300\">\n",
        "<img src=\"https://zukan.pokemon.co.jp/zukan-api/up/images/index/2b0afac1febd6fb753b4630dd02d6002.png\" width=\"300\">\n",
        "<img src=\"https://zukan.pokemon.co.jp/zukan-api/up/images/index/17d4ed41e67cecd79dc7125eb33207e2.png\" width=\"300\">\n",
        "\n",
        "\n",
        "[ポケモンずかん　カイリキー](https://zukan.pokemon.co.jp/detail/0068)\n",
        "\n",
        "[ポケモンずかん　サンダー](https://zukan.pokemon.co.jp/detail/0145)\n",
        "\n",
        "[ポケモンずかん　ヒードラン](https://zukan.pokemon.co.jp/detail/0485)\n",
        "\n",
        "<br>\n",
        "\n",
        "この中にポケモンをご存じの方がおられたら、このポケモンたちに明確なグループ分けができるでしょう。\n",
        "\n",
        "そうです。カイリキーはノーガードという特性のおかげで、命中不安ではありません。\n",
        "\n",
        "サンダーのぼうふう\n",
        "\n",
        "ヒードランのマグマストーム\n",
        "\n",
        "これらは、そのポケモンのメインウェポンでありながら、信頼性に欠けているでしょう。\n",
        "\n",
        "**そんなことは知らないって？？**\n",
        "\n",
        "まったく問題はありません。\n",
        "\n",
        "わかりにくい人は、ゲームの課金ガチャをイメージしてもらえば結構です。\n",
        "\n"
      ],
      "metadata": {
        "id": "_ZPkA-7h-LG8"
      }
    },
    {
      "cell_type": "markdown",
      "source": [
        "### 確率アルゴリズム\n",
        "\n",
        "今回は、ゲーム中に使われている確率についてのアルゴリズムを製作します。\n",
        "\n",
        "ランダム関数とif文を用いることで、とても簡単に作成することができます。\n",
        "\n",
        "できる人は、自力で実装してみてください。"
      ],
      "metadata": {
        "id": "g3PSr099AsuM"
      }
    },
    {
      "cell_type": "markdown",
      "source": [
        "####問題\n",
        "80%の確率で、「命中」と表示し、それ以外の場合は、「外れた」と表示しなさい。"
      ],
      "metadata": {
        "id": "VnZf5u8QBUSl"
      }
    },
    {
      "cell_type": "code",
      "source": [
        "import random\n",
        "n = random.randint(0,100)\n",
        "if n <= 80:\n",
        "    print(\"命中\")\n",
        "else:\n",
        "    print(\"外れた\")"
      ],
      "metadata": {
        "colab": {
          "base_uri": "https://localhost:8080/"
        },
        "id": "L9jHenQfBAJT",
        "outputId": "c75d8bf3-68b3-4f19-e76f-29c293f8b3d7"
      },
      "execution_count": null,
      "outputs": [
        {
          "output_type": "stream",
          "name": "stdout",
          "text": [
            "命中\n"
          ]
        }
      ]
    },
    {
      "cell_type": "markdown",
      "source": [
        "#### 応用問題\n",
        "\n",
        "命中率を与えると、「命中」と「外れた」と返す関数を作成しなさい。\n",
        "\n",
        "その関数には、命中する確率を与える。\n",
        "「命中」「外れた」と表示する。"
      ],
      "metadata": {
        "id": "ncXDN5O8BvRE"
      }
    },
    {
      "cell_type": "code",
      "source": [
        "import random\n",
        "def hit_rate(x):\n",
        "    n = random.randint(0,100)\n",
        "    if n <= x:\n",
        "        print(\"命中\")\n",
        "    else:\n",
        "        print(\"外れた\")\n",
        "\n",
        "hit_rate(80)"
      ],
      "metadata": {
        "colab": {
          "base_uri": "https://localhost:8080/"
        },
        "id": "m2H7zRAvBrm8",
        "outputId": "4e6970e3-e475-410b-a343-cb7429fd0b1a"
      },
      "execution_count": null,
      "outputs": [
        {
          "output_type": "stream",
          "name": "stdout",
          "text": [
            "命中\n"
          ]
        }
      ]
    },
    {
      "cell_type": "markdown",
      "source": [
        "ガチャでURが当たるまで、課金し続けた人の末路を答えなさい。\n",
        "\n",
        "1回のガチャは、課金する必要があり、200円とします。\n",
        "\n",
        "ただし、排出率は**1%**とします。\n",
        "\n",
        "確率的には、100回ガチャを回せば、当たるので、20000円で済みそうですが、本当にそうですか？\n",
        "\n",
        "可能であれば、５回ごとに「n回目は外れだ、、、」と表示し、\n",
        "最終的に「n回目でURだ！！」「総額n*200円かかった。」\n",
        "と表示しなさい。"
      ],
      "metadata": {
        "id": "3tUQ5qV0DlRM"
      }
    },
    {
      "cell_type": "code",
      "source": [
        "import random\n",
        "flag = 0\n",
        "total = 0\n",
        "while flag == 0:\n",
        "    total += 1\n",
        "    if random.randint(0,100) == 100:\n",
        "        flag = 1\n",
        "        print(total,\"回目でURだ！！\")\n",
        "    else:\n",
        "        if total % 5 == 0:\n",
        "            print(total,\"回目は外れだ、、、\")\n",
        "print(\"総額\",total*200,\"円かかった。\")\n"
      ],
      "metadata": {
        "colab": {
          "base_uri": "https://localhost:8080/"
        },
        "id": "mvU6KEqbE3Dr",
        "outputId": "110e3ce9-2664-4610-accf-c2a9617e3adf"
      },
      "execution_count": null,
      "outputs": [
        {
          "output_type": "stream",
          "name": "stdout",
          "text": [
            "5 回目は外れだ、、、\n",
            "10 回目は外れだ、、、\n",
            "15 回目は外れだ、、、\n",
            "20 回目は外れだ、、、\n",
            "25 回目は外れだ、、、\n",
            "30 回目は外れだ、、、\n",
            "35 回目は外れだ、、、\n",
            "40 回目は外れだ、、、\n",
            "45 回目は外れだ、、、\n",
            "50 回目は外れだ、、、\n",
            "55 回目は外れだ、、、\n",
            "60 回目は外れだ、、、\n",
            "65 回目は外れだ、、、\n",
            "70 回目は外れだ、、、\n",
            "75 回目は外れだ、、、\n",
            "80 回目は外れだ、、、\n",
            "85 回目は外れだ、、、\n",
            "90 回目は外れだ、、、\n",
            "95 回目は外れだ、、、\n",
            "100 回目は外れだ、、、\n",
            "105 回目は外れだ、、、\n",
            "110 回目は外れだ、、、\n",
            "115 回目は外れだ、、、\n",
            "120 回目は外れだ、、、\n",
            "125 回目は外れだ、、、\n",
            "130 回目は外れだ、、、\n",
            "135 回目は外れだ、、、\n",
            "140 回目は外れだ、、、\n",
            "145 回目は外れだ、、、\n",
            "150 回目は外れだ、、、\n",
            "155 回目は外れだ、、、\n",
            "160 回目は外れだ、、、\n",
            "162 回目でURだ！！\n",
            "総額 32400 円かかった。\n"
          ]
        }
      ]
    },
    {
      "cell_type": "markdown",
      "source": [
        "#### Tips 関数\n",
        "\n",
        "プログラムでなにをするにもコンピュータに情報を与える必要があります。\n",
        "\n",
        "その際、**「この私が作ったプログラムには、次のルールを与えます。」**と言いたい。\n",
        "\n",
        "そのために、ルール名を決める役割をもつのが、`def` です。\n",
        "\n",
        "そのため、このような考え方ができます。\n",
        "\n",
        "~~~python\n",
        "def ルール名(引数):\n",
        "    return ルールに従った結果\n",
        "~~~"
      ],
      "metadata": {
        "id": "WMWyPYhIDSq3"
      }
    },
    {
      "cell_type": "markdown",
      "metadata": {
        "id": "qP43yHgJ7qHn"
      },
      "source": [
        "## 配列\n",
        "\n",
        "配列も変数と同じく型を宣言する必要がありません。\n",
        "\n",
        "ただし、基本的には配列の行列は記述する必要があります。\n",
        "\n",
        "~~~python\n",
        "a = [0,0,0]\n",
        "print(a)\n",
        "\n",
        "b = [[0,0,0],[0,0][0,0,0,0,0,0]]\n",
        "print(b)\n",
        "\n",
        "~~~\n",
        "\n",
        "しかし、宣言することも面倒な人は、以下のように記述することもできます。\n",
        "\n",
        "~~~python\n",
        "c = [[0]*3,[0]*2,[0]*6]\n",
        "print(c)\n",
        "\n",
        "~~~\n",
        "\n",
        "これは配列に掛け算を行うと要素をコピーするということになるためです。\n",
        "\n",
        "~~~python\n",
        "print(c*3)\n",
        "~~~\n",
        "\n",
        "もちろん、一箇所、値を変えたい場合は、簡単です。\n",
        "\n",
        "ただし、配列の番号が、0から始まっていることを留意しなくてはなりません。\n",
        "\n",
        "~~~python\n",
        "c[1][1]=3\n",
        "print(c)\n",
        "~~~\n"
      ]
    },
    {
      "cell_type": "markdown",
      "source": [
        "# ソート（並べ替え）\n",
        "複数のデータが並んだ列を、何らかの順序に基いて順番通りになるよう並べ替えること。\n",
        "\n",
        "ゲームのランキングや、アイテムの並び替えなどいろいろな場面で使うソートの学習をしましょう。"
      ],
      "metadata": {
        "id": "B9fWLJXQEZo-"
      }
    },
    {
      "cell_type": "markdown",
      "source": [
        "## ソートの種類\n",
        "\n",
        "* バブルソート\n",
        "* クイックソート\n",
        "* マージソート\n",
        "* 選択ソート\n",
        "* 挿入ソート\n",
        "* ヒープソート\n",
        "\n",
        "それぞれ、アルゴリズムの制作難易度とソートにかかる時間が異なっている。"
      ],
      "metadata": {
        "id": "-ezTl1s2EqE5"
      }
    },
    {
      "cell_type": "markdown",
      "source": [
        "### バブルソート\n",
        "リストのデータを比較して、大小の順序が違っているときは並べていく。\n",
        "\n"
      ],
      "metadata": {
        "id": "eciRvWfKFA5I"
      }
    },
    {
      "cell_type": "code",
      "source": [
        "a = [1,326,15,4,2,8]\n",
        "n = len(a)\n",
        "for i in range(n):\n",
        "    for j in range(0, n-i-1):\n",
        "        if a[j] > a[j+1]:\n",
        "            a[j], a[j+1] = a[j+1], a[j]\n",
        "        print(a)\n"
      ],
      "metadata": {
        "id": "oYJv-jPeFHoR",
        "colab": {
          "base_uri": "https://localhost:8080/"
        },
        "outputId": "75f4fd9b-eba5-4a46-cbd6-7eb438326551"
      },
      "execution_count": null,
      "outputs": [
        {
          "output_type": "stream",
          "name": "stdout",
          "text": [
            "[1, 326, 15, 4, 2, 8]\n",
            "[1, 15, 326, 4, 2, 8]\n",
            "[1, 15, 4, 326, 2, 8]\n",
            "[1, 15, 4, 2, 326, 8]\n",
            "[1, 15, 4, 2, 8, 326]\n",
            "[1, 15, 4, 2, 8, 326]\n",
            "[1, 4, 15, 2, 8, 326]\n",
            "[1, 4, 2, 15, 8, 326]\n",
            "[1, 4, 2, 8, 15, 326]\n",
            "[1, 4, 2, 8, 15, 326]\n",
            "[1, 2, 4, 8, 15, 326]\n",
            "[1, 2, 4, 8, 15, 326]\n",
            "[1, 2, 4, 8, 15, 326]\n",
            "[1, 2, 4, 8, 15, 326]\n",
            "[1, 2, 4, 8, 15, 326]\n"
          ]
        }
      ]
    },
    {
      "cell_type": "code",
      "source": [
        "a = [1,326,15,4,2,8]\n",
        "for i in range(len(a)):\n",
        "    for j in range(i+1,len(a)):\n",
        "        if a[i] > a[j]:\n",
        "            a[i],a[j] = a[j],a[i]\n",
        "        print(a)\n"
      ],
      "metadata": {
        "id": "ZFi9EhYaFIMA"
      },
      "execution_count": null,
      "outputs": []
    },
    {
      "cell_type": "markdown",
      "source": [
        "### 選択ソート\n",
        "リスト内の最小値を見つけます。\n",
        "最小値をリストの先頭要素と交換します（または最大値をリストの末尾要素と交換します）。\n",
        "ソート済みの部分リストとして先頭の要素を除外します。\n",
        "上記のステップを繰り返し、リスト全体がソートされるまで続けます。\n"
      ],
      "metadata": {
        "id": "VQAjDhhiFNCR"
      }
    },
    {
      "cell_type": "code",
      "source": [
        "a = [1,326,15,4,2,8]\n",
        "n = len(a)\n",
        "for i in range(n):\n",
        "    min_index = i\n",
        "    for j in range(i + 1, n):\n",
        "        if a[j] < a[min_index]:\n",
        "            min_index = j\n",
        "    a[i], a[min_index] = a[min_index], a[i]\n",
        "\n",
        "    print(a)\n"
      ],
      "metadata": {
        "id": "JFjkPcSBFUX5"
      },
      "execution_count": null,
      "outputs": []
    },
    {
      "cell_type": "markdown",
      "source": [
        "### おまけ（クイックソート）\n",
        "ピボット（基準値）を選択します。\n",
        "\n",
        "通常、リストの中央の要素を選択します。\n",
        "\n",
        "ピボットを基準にして、リスト内の要素を2つの部分リストに分割します。\n",
        "\n",
        "ピボットより小さい要素は左の部分リストに、大きい要素は右の部分リストに配置します。\n",
        "\n",
        "部分リストを再帰的にソートします。\n",
        "\n",
        "これにより、各部分リストがソート済みになります。\n",
        "\n",
        "ソートされた部分リストを結合し、最終的に整列済みのリストを得ます。\n"
      ],
      "metadata": {
        "id": "c-ooRfBAFX7M"
      }
    },
    {
      "cell_type": "code",
      "source": [
        "def quick_sort(arr):\n",
        "    if len(arr) <= 1:\n",
        "        return arr\n",
        "\n",
        "    pivot = arr[len(arr) // 2]  # ピボットを中央の要素とします\n",
        "    left = [x for x in arr if x < pivot]  # ピボットより小さい要素のリスト\n",
        "    middle = [x for x in arr if x == pivot]  # ピボットと等しい要素のリスト\n",
        "    right = [x for x in arr if x > pivot]  # ピボットより大きい要素のリスト\n",
        "\n",
        "    # 再帰的に左と右の部分リストをソートし、結合します\n",
        "    return quick_sort(left) + middle + quick_sort(right)\n",
        "\n",
        "# テスト用のリストを作成\n",
        "a = [6, 15, 4, 2, 8]\n",
        "\n",
        "# クイックソートを実行\n",
        "sorted_a = quick_sort(a)\n",
        "\n",
        "# ソート後のリストを出力\n",
        "print(sorted_a)\n"
      ],
      "metadata": {
        "id": "JbD7Sr-SFj4t"
      },
      "execution_count": null,
      "outputs": []
    },
    {
      "cell_type": "markdown",
      "source": [
        "### sortメソッド（破壊的ソート）\n",
        "元のリストの中身をソートするため、元データを失う。"
      ],
      "metadata": {
        "id": "af0iBua5Fyr9"
      }
    },
    {
      "cell_type": "code",
      "source": [
        "l = [3, 1, 4, 5, 2]\n",
        "\n",
        "l.sort()\n",
        "print(l)"
      ],
      "metadata": {
        "id": "7zcl7HIAF-B8",
        "colab": {
          "base_uri": "https://localhost:8080/"
        },
        "outputId": "d347f7c1-b3d8-4f77-a45b-a60cc54735ad"
      },
      "execution_count": null,
      "outputs": [
        {
          "output_type": "stream",
          "name": "stdout",
          "text": [
            "[1, 2, 3, 4, 5]\n"
          ]
        }
      ]
    },
    {
      "cell_type": "markdown",
      "source": [
        "### sorted関数（非破壊的ソート）\n",
        "関数が値を返すため、元データを失わない\n",
        "\n",
        "ちなみにメソッドと関数はやっていることはよく似ています。\n",
        "\n",
        "しいて言えば、概念の違いです。←？？ わからなくてOK"
      ],
      "metadata": {
        "id": "QjP8kA0JGHrX"
      }
    },
    {
      "cell_type": "code",
      "source": [
        "l = [3, 1, 4, 5, 2]\n",
        "\n",
        "l_sorted = sorted(l)\n",
        "print(l_sorted)\n",
        "\n",
        "print(l)"
      ],
      "metadata": {
        "id": "T9BEpKLOGcp5",
        "colab": {
          "base_uri": "https://localhost:8080/"
        },
        "outputId": "a652287b-a4bf-4a25-eec2-4d3fafd4c77e"
      },
      "execution_count": null,
      "outputs": [
        {
          "output_type": "stream",
          "name": "stdout",
          "text": [
            "[1, 2, 3, 4, 5]\n",
            "[3, 1, 4, 5, 2]\n"
          ]
        }
      ]
    },
    {
      "cell_type": "code",
      "source": [
        "import random\n",
        "print(random.randint(1,38))"
      ],
      "metadata": {
        "colab": {
          "base_uri": "https://localhost:8080/"
        },
        "id": "pr8by_6GjTfe",
        "outputId": "5d39847f-1215-4149-99ef-4e1164e5699b"
      },
      "execution_count": null,
      "outputs": [
        {
          "output_type": "stream",
          "name": "stdout",
          "text": [
            "16\n"
          ]
        }
      ]
    },
    {
      "cell_type": "markdown",
      "source": [
        "#トランプゲーム（神経衰弱）\n",
        "\n",
        "今回は、トランプゲームを作成していきます。\n",
        "\n",
        "トランプゲームっていろいろアルジャネーカ(ﾟДﾟ)ｺﾞﾙｧ!!\n",
        "\n",
        "と思ったあなたの言うとおり、今回は神経衰弱を作っていこうと思います。\n",
        "\n",
        "ということで皆さんは、トランプゲームを実装する際にどのようなものが必要だと考えますか？\n",
        "\n",
        "まず最初に準備するものと言えば、トランプですよね？\n",
        "\n",
        "では、トランプどうやって実装しますか？\n",
        "\n",
        "マークと絵柄を考えて、\n",
        "\n",
        "とりあえず、二次元配列を準備してみましょう。\n",
        "\n",
        "ちなみに下のプログラムを書くのが難しい人は手作業で準備してね。"
      ],
      "metadata": {
        "id": "utVtULKL-SHV"
      }
    },
    {
      "cell_type": "code",
      "source": [
        "playingCardArray = [[i for i in range(1,14)] for _ in range(4)]\n",
        "print(playingCardArray)"
      ],
      "metadata": {
        "colab": {
          "base_uri": "https://localhost:8080/"
        },
        "id": "MwP0orbPNGlI",
        "outputId": "d8dd960b-d35f-4382-86eb-0bf836b1544c"
      },
      "execution_count": null,
      "outputs": [
        {
          "output_type": "stream",
          "name": "stdout",
          "text": [
            "[[1, 2, 3, 4, 5, 6, 7, 8, 9, 10, 11, 12, 13], [1, 2, 3, 4, 5, 6, 7, 8, 9, 10, 11, 12, 13], [1, 2, 3, 4, 5, 6, 7, 8, 9, 10, 11, 12, 13], [1, 2, 3, 4, 5, 6, 7, 8, 9, 10, 11, 12, 13]]\n"
          ]
        }
      ]
    },
    {
      "cell_type": "markdown",
      "source": [
        "これだと見づらいので、"
      ],
      "metadata": {
        "id": "J3-vbid6Nu4I"
      }
    },
    {
      "cell_type": "code",
      "source": [
        "playingCardArray = [[i for i in range(1,14)] for _ in range(4)]\n",
        "for i in range(4):\n",
        "    print(playingCardArray[i])"
      ],
      "metadata": {
        "colab": {
          "base_uri": "https://localhost:8080/"
        },
        "id": "IKzGJELbNyCX",
        "outputId": "1ac3d84f-86ce-4ad4-fc98-e46aad9d7d2e"
      },
      "execution_count": null,
      "outputs": [
        {
          "output_type": "stream",
          "name": "stdout",
          "text": [
            "[1, 2, 3, 4, 5, 6, 7, 8, 9, 10, 11, 12, 13]\n",
            "[1, 2, 3, 4, 5, 6, 7, 8, 9, 10, 11, 12, 13]\n",
            "[1, 2, 3, 4, 5, 6, 7, 8, 9, 10, 11, 12, 13]\n",
            "[1, 2, 3, 4, 5, 6, 7, 8, 9, 10, 11, 12, 13]\n"
          ]
        }
      ]
    },
    {
      "cell_type": "markdown",
      "source": [
        "各配列の先頭にスペード「♠」ダイヤ「♦」クローバー「♣」ハート「♥」を付ければ完璧ですね。\n",
        "\n",
        "さらにプラスでジョーカーなんかもありますが、\n",
        "\n",
        "~~~python\n",
        "playingCardArray.append([0,1])\n",
        "~~~\n",
        "\n",
        "とかして、くっつければいいです。\n",
        "\n",
        "但し今回は超シンプル神経衰弱ですので、そんな面倒なことはしません。\n",
        "\n",
        "さらに言えば、２色しか使いません。\n",
        "\n",
        "また、さっきの配列ではちょっと扱いが面倒ですので、少し変更します。（コード書いてるときに面倒であることに気がついたので、変更しました）"
      ],
      "metadata": {
        "id": "mGw4SpbUPmKZ"
      }
    },
    {
      "cell_type": "code",
      "source": [
        "playingCardArray = [[i,j] for i in [\"スペード\",\"ダイヤ\"] for j in range(1,14)]\n",
        "print(playingCardArray)"
      ],
      "metadata": {
        "colab": {
          "base_uri": "https://localhost:8080/"
        },
        "id": "QQSd1cwiQvAU",
        "outputId": "77487e8a-35c7-465f-cdc8-74119b54a758"
      },
      "execution_count": null,
      "outputs": [
        {
          "output_type": "stream",
          "name": "stdout",
          "text": [
            "[['スペード', 1], ['スペード', 2], ['スペード', 3], ['スペード', 4], ['スペード', 5], ['スペード', 6], ['スペード', 7], ['スペード', 8], ['スペード', 9], ['スペード', 10], ['スペード', 11], ['スペード', 12], ['スペード', 13], ['ダイヤ', 1], ['ダイヤ', 2], ['ダイヤ', 3], ['ダイヤ', 4], ['ダイヤ', 5], ['ダイヤ', 6], ['ダイヤ', 7], ['ダイヤ', 8], ['ダイヤ', 9], ['ダイヤ', 10], ['ダイヤ', 11], ['ダイヤ', 12], ['ダイヤ', 13]]\n"
          ]
        }
      ]
    },
    {
      "cell_type": "markdown",
      "source": [
        "## シャッフル\n",
        "これをシャッフル（ごちゃ混ぜに）したものを作ってみよう。\n",
        "\n",
        "簡単に説明するとsortの逆パターンなので、実装できないことはなさそう？？？\n",
        "\n",
        "といいたいのですが、シャッフルって自分で組むと面倒ですよね。\n",
        "\n",
        "そんなときは、randomモジュールに便利なものがあるので、使ってみよう。\n",
        "\n",
        "PythonはC言語と違って、こうゆうのはすごく便利"
      ],
      "metadata": {
        "id": "vriEmiVfWYDb"
      }
    },
    {
      "cell_type": "code",
      "source": [
        "import random\n",
        "playingCardArray = [[i,j] for i in [\"♠\",\"♦\"] for j in range(1,14)]\n",
        "random.shuffle(playingCardArray)\n",
        "print(playingCardArray)"
      ],
      "metadata": {
        "colab": {
          "base_uri": "https://localhost:8080/"
        },
        "id": "fwIzzVaGWR1U",
        "outputId": "45d7ad70-837b-41cc-b2b4-022930fb5827"
      },
      "execution_count": null,
      "outputs": [
        {
          "output_type": "stream",
          "name": "stdout",
          "text": [
            "[['♦', 13], ['♦', 1], ['♦', 11], ['♠', 8], ['♦', 7], ['♦', 4], ['♠', 1], ['♦', 5], ['♠', 4], ['♠', 9], ['♦', 9], ['♠', 6], ['♠', 2], ['♦', 3], ['♦', 10], ['♠', 10], ['♠', 13], ['♠', 5], ['♦', 2], ['♦', 8], ['♦', 12], ['♠', 11], ['♠', 12], ['♠', 7], ['♠', 3], ['♦', 6]]\n"
          ]
        }
      ]
    },
    {
      "cell_type": "markdown",
      "source": [
        "ちなみにこの方法は、破壊的ですね。非破壊的な方法もありますが、今回は割愛。\n",
        "\n",
        "破壊的の意味が分からない人は、ソートを確認してください。"
      ],
      "metadata": {
        "id": "5_55xZyCPmBu"
      }
    },
    {
      "cell_type": "markdown",
      "source": [
        "では、神経衰弱の醍醐味２枚のカードの数字が一致しているか確認するプログラムを作ってみよう。"
      ],
      "metadata": {
        "id": "wKA0nCpUY-rr"
      }
    },
    {
      "cell_type": "code",
      "source": [
        "import random\n",
        "\n",
        "playingCardArray = [[i,j] for i in [\"スペード\",\"ダイヤ\"] for j in range(1,6)]\n",
        "random.shuffle(playingCardArray)\n",
        "print(playingCardArray)\n",
        "\n",
        "card1 = int(input())\n",
        "card2 = int(input())\n",
        "print(playingCardArray[card1])\n",
        "print(playingCardArray[card2])\n",
        "if playingCardArray[card1][1] == playingCardArray[card2][1]:\n",
        "    print(\"Match\")\n",
        "else:\n",
        "    print(\"Miss Match\")"
      ],
      "metadata": {
        "colab": {
          "base_uri": "https://localhost:8080/"
        },
        "id": "Su_rnwcbZoM-",
        "outputId": "f9fc37b8-9789-4664-95c3-2dbf9779f7a3"
      },
      "execution_count": null,
      "outputs": [
        {
          "output_type": "stream",
          "name": "stdout",
          "text": [
            "[['スペード', 5], ['ダイヤ', 4], ['スペード', 2], ['スペード', 4], ['ダイヤ', 5], ['スペード', 3], ['ダイヤ', 2], ['ダイヤ', 3], ['ダイヤ', 1], ['スペード', 1]]\n",
            "1\n",
            "3\n",
            "['ダイヤ', 4]\n",
            "['スペード', 4]\n",
            "Match\n"
          ]
        }
      ]
    },
    {
      "cell_type": "markdown",
      "source": [
        "あとはこれをゲーム化していけば、完成しますね。。。（むちゃくちゃ）\n",
        "\n",
        "ということで、必要な要素を考えて実装してみよう。"
      ],
      "metadata": {
        "id": "43GopURraoNZ"
      }
    },
    {
      "cell_type": "markdown",
      "source": [
        "## 全体のトランプの枚数を表示しよう\n",
        "\n",
        "枚数を表示する方法は簡単。len()でしたよね。"
      ],
      "metadata": {
        "id": "Xw1oZgiFfKHv"
      }
    },
    {
      "cell_type": "code",
      "source": [
        "import random\n",
        "\n",
        "playingCardArray = [[i,j] for i in [\"♠\",\"♦\"] for j in range(1,6)]\n",
        "random.shuffle(playingCardArray)\n",
        "print(f\"全体の枚数は、{len(playingCardArray)}枚です。\")\n",
        "print(f\"0 ～ {len(playingCardArray)-1} の値を入力してください。\")\n",
        "print(playingCardArray)\n",
        "\n",
        "card1 = int(input())\n",
        "card2 = int(input())\n",
        "print(playingCardArray[card1])\n",
        "print(playingCardArray[card2])\n",
        "if playingCardArray[card1][1] == playingCardArray[card2][1]:\n",
        "    print(\"Match\")\n",
        "else:\n",
        "    print(\"Miss Match\")"
      ],
      "metadata": {
        "colab": {
          "base_uri": "https://localhost:8080/"
        },
        "id": "eXG_1scvfW6j",
        "outputId": "7105dcbf-4f19-49bd-f746-3b70bf7eae54"
      },
      "execution_count": null,
      "outputs": [
        {
          "output_type": "stream",
          "name": "stdout",
          "text": [
            "全体の枚数は、10枚です。\n",
            "0 ～ 9 の値を入力してください。\n",
            "[['ダイヤ', 3], ['スペード', 4], ['スペード', 2], ['スペード', 1], ['ダイヤ', 2], ['ダイヤ', 1], ['ダイヤ', 4], ['ダイヤ', 5], ['スペード', 5], ['スペード', 3]]\n",
            "0\n",
            "9\n",
            "['ダイヤ', 3]\n",
            "['スペード', 3]\n",
            "Match\n"
          ]
        }
      ]
    },
    {
      "cell_type": "markdown",
      "source": [
        "## トランプが一致した際の処理を決めよう\n",
        "\n",
        "トランプが一致したのにカードとして残してしまうと後々面倒なので、分かるようにしておこう。\n",
        "\n",
        "今回は単純に、数値を0にしておこう。"
      ],
      "metadata": {
        "id": "qVM6U13dgaI6"
      }
    },
    {
      "cell_type": "code",
      "source": [
        "import random\n",
        "\n",
        "playingCardArray = [[i,j] for i in [\"♠\",\"♦\"] for j in range(1,6)]\n",
        "random.shuffle(playingCardArray)\n",
        "print(f\"全体の枚数は、{len(playingCardArray)}枚です。\")\n",
        "print(f\"0 ～ {len(playingCardArray)-1} の値を入力してください。\")\n",
        "print(playingCardArray)\n",
        "\n",
        "card1 = int(input())\n",
        "card2 = int(input())\n",
        "print(playingCardArray[card1])\n",
        "print(playingCardArray[card2])\n",
        "if playingCardArray[card1][1] == playingCardArray[card2][1]:\n",
        "    print(\"Match\")\n",
        "    playingCardArray[card1][1] = 0\n",
        "    playingCardArray[card2][1] = 0\n",
        "else:\n",
        "    print(\"Miss Match\")"
      ],
      "metadata": {
        "colab": {
          "base_uri": "https://localhost:8080/"
        },
        "id": "3vlCzfWUgyc5",
        "outputId": "bbff6223-f080-4112-b6f1-19b7d098f1cb"
      },
      "execution_count": null,
      "outputs": [
        {
          "output_type": "stream",
          "name": "stdout",
          "text": [
            "全体の枚数は、10枚です。\n",
            "0 ～ 9 の値を入力してください。\n",
            "[['♠', 1], ['♠', 2], ['♠', 4], ['♦', 5], ['♦', 4], ['♦', 3], ['♦', 2], ['♠', 5], ['♠', 3], ['♦', 1]]\n",
            "0\n",
            "9\n",
            "['♠', 1]\n",
            "['♦', 1]\n",
            "Match\n"
          ]
        }
      ]
    },
    {
      "cell_type": "markdown",
      "source": [
        "## 連続処理に対応しよう\n",
        "\n",
        "に入れて処理を連続で行うようにしよう。"
      ],
      "metadata": {
        "id": "dv8g19zlhFmG"
      }
    },
    {
      "cell_type": "code",
      "source": [
        "import random\n",
        "\n",
        "playingCardArray = [[i,j] for i in [\"♠\",\"♦\"] for j in range(1,6)]\n",
        "random.shuffle(playingCardArray)\n",
        "print(f\"全体の枚数は、{len(playingCardArray)}枚です。\")\n",
        "print(f\"0 ～ {len(playingCardArray)-1} の値を入力してください。\")\n",
        "print(playingCardArray)\n",
        "while True:\n",
        "    card1 = int(input())\n",
        "    if card1 == 100:\n",
        "        break\n",
        "    card2 = int(input())\n",
        "    print(playingCardArray[card1])\n",
        "    print(playingCardArray[card2])\n",
        "    if playingCardArray[card1][1] == playingCardArray[card2][1]:\n",
        "        print(\"Match\")\n",
        "        playingCardArray[card1][1] = 0\n",
        "        playingCardArray[card2][1] = 0\n",
        "    else:\n",
        "        print(\"Miss Match\")\n",
        "\n"
      ],
      "metadata": {
        "colab": {
          "base_uri": "https://localhost:8080/"
        },
        "id": "Gy3Q9HsDhE49",
        "outputId": "85a3d103-a9af-4d6e-a92d-3c2eaa1cf692"
      },
      "execution_count": null,
      "outputs": [
        {
          "name": "stdout",
          "output_type": "stream",
          "text": [
            "全体の枚数は、10枚です。\n",
            "0 ～ 9 の値を入力してください。\n",
            "[['♦', 4], ['♠', 5], ['♠', 1], ['♦', 1], ['♠', 4], ['♦', 2], ['♦', 5], ['♠', 3], ['♠', 2], ['♦', 3]]\n",
            "100\n"
          ]
        }
      ]
    },
    {
      "cell_type": "markdown",
      "source": [
        "## バグを修正しよう\n",
        "\n",
        "テストプレイを行い、バグを修正してみよう。"
      ],
      "metadata": {
        "id": "TeV0g7VZiUo_"
      }
    },
    {
      "cell_type": "code",
      "source": [
        "##ランダムモジュールの呼び出し\n",
        "import random\n",
        "\n",
        "##カードの準備＋シャッフル\n",
        "playingCardArray = [[i,j]for i in [\"♠\",\"♦\"] for j in range(1,4)]\n",
        "random.shuffle(playingCardArray)\n",
        "##print(playingCardArray)\n",
        "countPoints = 0\n",
        "\n",
        "##繰り返し処理\n",
        "while countPoints != len(playingCardArray):\n",
        "    ##入力可能な範囲を表示\n",
        "    print(f\"全体の枚数は、{len(playingCardArray)-countPoints}枚です。\")\n",
        "    print(f\"0 ～ {len(playingCardArray) - 1} の値を入力してください。\")\n",
        "\n",
        "    ##カードを2枚引いています。ただし、100を入力したら強制終了\n",
        "    while True:\n",
        "        card1 = int(input())\n",
        "        if card1 == 100:\n",
        "            break\n",
        "        card2 = int(input())\n",
        "        if card1 != card2 and playingCardArray[card1][1] != 0 and playingCardArray[card2][1] != 0:\n",
        "            break\n",
        "        print(\"もう一度入力してください。\")\n",
        "\n",
        "    ##引いたカードの表示\n",
        "    print(playingCardArray[card1])\n",
        "    print(playingCardArray[card2])\n",
        "\n",
        "    ##引いたカードが一致しているかの確認\n",
        "    if playingCardArray[card1][1] == playingCardArray[card2][1]:\n",
        "        print(\"Match\")\n",
        "        playingCardArray[card1][1] = 0\n",
        "        playingCardArray[card2][1] = 0\n",
        "        countPoints += 2\n",
        "    else:\n",
        "        print(\"Miss Match\")\n",
        "\n",
        "    print(f\"現在の得点は、{countPoints} です。\")"
      ],
      "metadata": {
        "id": "8SfKlPx-idmH"
      },
      "execution_count": null,
      "outputs": []
    },
    {
      "cell_type": "code",
      "source": [
        "import random\n",
        "def shuf():\n",
        "    cards = [[i,j] for i in [\"♠\",\"♦\"] for j in range(1,14)]\n",
        "    random.shuffle(cards)\n",
        "    return cards\n",
        "\n",
        "cards = shuf()\n",
        "p = 0\n",
        "\n",
        "while p != len(cards):\n",
        "    print(\"全体の枚数は、\",len(cards) - p,\"枚です。\")\n",
        "    print(\"0 ～\" ,len(cards) - 1, \"の値を入力してください。\")\n",
        "\n",
        "    while True:\n",
        "        c1 = int(input())\n",
        "        if c1 == 100:\n",
        "            break\n",
        "        c2 = int(input())\n",
        "        if c1 != c2 and cards[c1][1] != 0 and cards[c2][1] != 0:\n",
        "            break\n",
        "        print(\"もう一度入力してください。\")\n",
        "\n",
        "    if c1 == 100:\n",
        "        break\n",
        "\n",
        "    print(cards[c1])\n",
        "    print(cards[c2])\n",
        "\n",
        "    if cards[c1][1] == cards[c2][1]:\n",
        "        print(\"Match\")\n",
        "        cards[c1][1] = 0\n",
        "        cards[c2][1] = 0\n",
        "        p += 2\n",
        "    else:\n",
        "        print(\"Miss Match\")\n",
        "\n",
        "    print(\"現在の得点は、\",p, \"です。\")"
      ],
      "metadata": {
        "colab": {
          "base_uri": "https://localhost:8080/"
        },
        "id": "1aeMohnytNTb",
        "outputId": "71398b89-19ea-4fc4-f685-b777230117b4"
      },
      "execution_count": null,
      "outputs": [
        {
          "name": "stdout",
          "output_type": "stream",
          "text": [
            "全体の枚数は、 26 枚です。\n",
            "0 ～ 25 の値を入力してください。\n",
            "12\n",
            "23\n",
            "['♦', 5]\n",
            "['♠', 10]\n",
            "Miss Match\n",
            "現在の得点は、 0 です。\n",
            "全体の枚数は、 26 枚です。\n",
            "0 ～ 25 の値を入力してください。\n",
            "11\n",
            "1\n",
            "['♠', 7]\n",
            "['♠', 12]\n",
            "Miss Match\n",
            "現在の得点は、 0 です。\n",
            "全体の枚数は、 26 枚です。\n",
            "0 ～ 25 の値を入力してください。\n",
            "2\n",
            "3\n",
            "['♠', 5]\n",
            "['♠', 9]\n",
            "Miss Match\n",
            "現在の得点は、 0 です。\n",
            "全体の枚数は、 26 枚です。\n",
            "0 ～ 25 の値を入力してください。\n",
            "2\n",
            "12\n",
            "['♠', 5]\n",
            "['♦', 5]\n",
            "Match\n",
            "現在の得点は、 2 です。\n",
            "全体の枚数は、 24 枚です。\n",
            "0 ～ 25 の値を入力してください。\n",
            "100\n"
          ]
        }
      ]
    },
    {
      "cell_type": "markdown",
      "source": [
        "#### Tips 神経衰弱の由来\n",
        "小学館国語大辞典によると\n",
        "\n",
        "【神経衰弱】\n",
        "\n",
        "トランプ遊戯の一つ。カード全部裏面に伏せ、２枚ないし４枚ずつめくり数字合わせを競う遊び。\n",
        "\n",
        "神経がイライラすることからこの名前がある。\n",
        "\n",
        "らしいです。"
      ],
      "metadata": {
        "id": "iLu1J4xJMmQB"
      }
    },
    {
      "cell_type": "markdown",
      "source": [
        "#NumerOn(ヌメロン)を作ろう\n",
        "\n",
        "NumerOnとは？\n",
        "* 基本ルール\n",
        "\n",
        "1. それぞれのプレイヤーが、0-9までの数字が書かれた10枚のカードのうち3枚を使って、3桁の番号を作成する。カードに重複は無いので「550」「377」「999」といった同じ数字を2つ以上使用した番号は作れない。\n",
        "\n",
        "2. 先攻のプレイヤーは相手の番号を推理してコールする。相手はコールされた番号と自分の番号を見比べ、コールされた番号がどの程度合っているかを発表する。数字と桁が合っていた場合は「EAT」（イート）、数字は合っているが桁は合っていない場合は「BITE」（バイト）となる。\n",
        "\n",
        " 1. 例として相手の番号が「765」・コールされた番号が「746」であった場合は、3桁のうち「7」は桁の位置が合致しているためEAT、「6」は数字自体は合っているが桁の位置が違うためBITE。EATが1つ・BITEが1つなので、「1EAT-1BITE」となる。\n",
        "\n",
        "3. これを先攻・後攻が繰り返して行い、先に相手の番号を完全に当てきった（3桁なら3EATを相手に発表させた）プレイヤーの勝利となる。\n",
        "\n",
        "[参考 NumerOn(Wiki)](https://ja.wikipedia.org/wiki/Numer0n)\n",
        "\n"
      ],
      "metadata": {
        "id": "i-hyFzBMN_gU"
      }
    },
    {
      "cell_type": "markdown",
      "source": [
        "## NumerOn簡略化バーションの考案\n",
        "\n",
        "敵のＡＩについては考えないようにしたいので、簡略化バージョンを、考えていきます。\n",
        "\n",
        "* ターンの進行\n",
        "\n",
        "1. 相手の数字を生成\n",
        "    1. 数字に重複がないかチェックする\n",
        "2. 適当な数字3桁を入力\n",
        "    1. 入力に重複はないかチェックする\n",
        "3. EATとBITEの確認\n",
        "    1. ３桁の数字を判断する\n",
        "    2. EATとBITEの判断を行う\n",
        "4. 2と3を繰り返す\n",
        "5. 3EATになった時点で、ゲームクリア"
      ],
      "metadata": {
        "id": "TDIEtskLPUCz"
      }
    },
    {
      "cell_type": "markdown",
      "source": [
        "### 1.相手の数字を生成\n",
        "\n",
        "ランダム関数を使ってランダムな数字を設定します。\n",
        "\n",
        "後々面倒になるので、それぞれの桁について、配列に格納します。"
      ],
      "metadata": {
        "id": "ix1P2m6bP5Qm"
      }
    },
    {
      "cell_type": "code",
      "source": [
        "import random\n",
        "enemyNumberArray = [random.randint(0,9) for number in range(3)]\n",
        "print(enemyNumberArray)"
      ],
      "metadata": {
        "id": "_MfmhSl69S38",
        "colab": {
          "base_uri": "https://localhost:8080/"
        },
        "outputId": "4881544e-0e49-4535-ca5f-cc9a437ff887"
      },
      "execution_count": null,
      "outputs": [
        {
          "output_type": "stream",
          "name": "stdout",
          "text": [
            "[0, 7, 6]\n"
          ]
        }
      ]
    },
    {
      "cell_type": "markdown",
      "source": [
        "重複チェックに関して、一度実装してみましょう。\n"
      ],
      "metadata": {
        "id": "aGJUUrAGWxxy"
      }
    },
    {
      "cell_type": "code",
      "source": [
        "import random\n",
        "enemyNumberArray = [random.randint(0,9) for _ in range(3)]\n",
        "if enemyNumberArray[0] == enemyNumberArray[1] or enemyNumberArray[1] == enemyNumberArray[2] or enemyNumberArray[2] == enemyNumberArray[0]:\n",
        "    print(\"重複\")\n",
        "print(enemyNumberArray)"
      ],
      "metadata": {
        "colab": {
          "base_uri": "https://localhost:8080/"
        },
        "id": "yRZHZ1GIW0SG",
        "outputId": "73b6c32c-58f5-4785-803e-8809b2afb067"
      },
      "execution_count": null,
      "outputs": [
        {
          "output_type": "stream",
          "name": "stdout",
          "text": [
            "重複\n",
            "[9, 5, 5]\n"
          ]
        }
      ]
    },
    {
      "cell_type": "markdown",
      "source": [
        "### 2.適当な数字３桁を入力する。\n",
        "\n",
        "必ず３桁の数字を入力するようにしよう。"
      ],
      "metadata": {
        "id": "Ndq16VlCYu9f"
      }
    },
    {
      "cell_type": "code",
      "source": [
        "print(\"３桁の数字を入力してください。ただし、重複してはいけません\")\n",
        "while True:\n",
        "    try:\n",
        "        playerNumber = int(input(\"設定されていそうな数字を入力: \"))\n",
        "        if playerNumber < 1000:\n",
        "            print(\"入力された値は\" + str(playerNumber) + \"です。\")\n",
        "            break\n",
        "        else:\n",
        "            print(\"数字は1000より小さい値にしてね\")\n",
        "    except ValueError:\n",
        "        print(\"数字しか駄目だよ・・・\")"
      ],
      "metadata": {
        "colab": {
          "base_uri": "https://localhost:8080/"
        },
        "id": "ZSWbZxGKZBLm",
        "outputId": "48641dce-65aa-4f02-e5e9-bc49cc5715fa"
      },
      "execution_count": null,
      "outputs": [
        {
          "output_type": "stream",
          "name": "stdout",
          "text": [
            "３桁の数字を入力してください。ただし、重複してはいけません\n",
            "設定されていそうな数字を入力: sfuodghis\n",
            "数字しか駄目だよ・・・\n",
            "設定されていそうな数字を入力: 11111\n",
            "数字は1000より小さい値にしてね\n",
            "設定されていそうな数字を入力: -234\n",
            "入力された値は-234です。\n"
          ]
        }
      ]
    },
    {
      "cell_type": "markdown",
      "source": [
        "配列に数字を入れる仕組み（関数）を作ろう"
      ],
      "metadata": {
        "id": "GqIN1EMebfvd"
      }
    },
    {
      "cell_type": "code",
      "source": [
        "def NumbertoArray(number):\n",
        "    numberArray = [int(number/100),int((number%100)/10),number%10]\n",
        "    return numberArray\n",
        "\n",
        "print(NumbertoArray(123))"
      ],
      "metadata": {
        "id": "HE3OfNoSbkKk",
        "colab": {
          "base_uri": "https://localhost:8080/"
        },
        "outputId": "2485a6bf-3e5b-44c6-f995-b85c8caf0ccf"
      },
      "execution_count": null,
      "outputs": [
        {
          "output_type": "stream",
          "name": "stdout",
          "text": [
            "[2, 9, 3]\n"
          ]
        }
      ]
    },
    {
      "cell_type": "markdown",
      "source": [
        "その配列の値に重複について判断する関数を作成します。"
      ],
      "metadata": {
        "id": "bGrMQsxCXmFa"
      }
    },
    {
      "cell_type": "code",
      "source": [
        "def CheckforDuplicates(numberArray):\n",
        "    return numberArray[0] != numberArray[1] and numberArray[1] != numberArray[2] and numberArray[2] != numberArray[0]\n",
        "print(CheckforDuplicates([1,1,2]))"
      ],
      "metadata": {
        "colab": {
          "base_uri": "https://localhost:8080/"
        },
        "id": "wOfk0KaKYPsB",
        "outputId": "48ae0660-3bd7-4c4f-9dd8-9ab04b192e02"
      },
      "execution_count": null,
      "outputs": [
        {
          "output_type": "stream",
          "name": "stdout",
          "text": [
            "False\n"
          ]
        }
      ]
    },
    {
      "cell_type": "markdown",
      "source": [
        "上記、内容を合成して適当な数字３桁が適切な値か判断するプログラムを作成します。"
      ],
      "metadata": {
        "id": "5N-O0Jv5Y2O_"
      }
    },
    {
      "cell_type": "code",
      "source": [
        "def NumbertoArray(number):\n",
        "    numberArray = [int(number/100),int((number%100)/10),number%10]\n",
        "    return numberArray\n",
        "\n",
        "def CheckforDuplicates(numberArray):\n",
        "    return numberArray[0] != numberArray[1] and numberArray[1] != numberArray[2] and numberArray[2] != numberArray[0]\n",
        "\n",
        "print(\"３桁の数字を入力してください。ただし、重複してはいけません\")\n",
        "while True:\n",
        "    try:\n",
        "        playerNumber = int(input(\"設定されていそうな数字を入力: \"))\n",
        "        if playerNumber < 1000:\n",
        "            print(\"入力された値は\" + str(playerNumber) + \"です。\")\n",
        "            playerNumberArray = NumbertoArray(playerNumber)\n",
        "            if CheckforDuplicates(playerNumberArray):\n",
        "                break\n",
        "            else:\n",
        "                print(\"重複しているよ\")\n",
        "        else:\n",
        "            print(\"数字は1000より小さい値にしてね\")\n",
        "    except ValueError:\n",
        "        print(\"数字しか駄目だよ・・・\")\n"
      ],
      "metadata": {
        "colab": {
          "base_uri": "https://localhost:8080/"
        },
        "id": "0ZFk2yl4ZTcL",
        "outputId": "ed808b8c-17a7-4d52-b2c5-50f38db047a0"
      },
      "execution_count": null,
      "outputs": [
        {
          "output_type": "stream",
          "name": "stdout",
          "text": [
            "３桁の数字を入力してください。ただし、重複してはいけません\n",
            "設定されていそうな数字を入力: 2\n",
            "入力された値は2です。\n",
            "重複しているよ\n",
            "設定されていそうな数字を入力: 20\n",
            "入力された値は20です。\n",
            "重複しているよ\n",
            "設定されていそうな数字を入力: 120\n",
            "入力された値は120です。\n"
          ]
        }
      ]
    },
    {
      "cell_type": "markdown",
      "source": [
        "### 3.EATとBITEの確認\n",
        "\n",
        "２つの配列から数字と位置の関係が重複している場合、「EAT」と表示し、\n",
        "数字の情報が重複している場合は、「BITE」と表示するようにしよう。"
      ],
      "metadata": {
        "id": "Nvc7OSdTaaTu"
      }
    },
    {
      "cell_type": "code",
      "source": [
        "def EAT(enemyNumberArray,playerNumberArray):\n",
        "    eatCount = 0\n",
        "    for i in range(3):\n",
        "        if enemyNumberArray[i] == playerNumberArray[i]:\n",
        "            eatCount += 1\n",
        "    return eatCount\n",
        "\n",
        "def BITE(enemyNumberArray,playerNumberArray):\n",
        "    biteCount = 0\n",
        "    for i in range(3):\n",
        "        for j in range(3):\n",
        "            if i != j and enemyNumberArray[i] == playerNumberArray[j]:\n",
        "                biteCount += 1\n",
        "    return biteCount"
      ],
      "metadata": {
        "id": "Ia_O5_0RbA_6"
      },
      "execution_count": null,
      "outputs": []
    },
    {
      "cell_type": "markdown",
      "source": [
        "### 4.繰り返し行うプログラム\n",
        "\n",
        "whileループで実装する。"
      ],
      "metadata": {
        "id": "ELW-sluCeVtu"
      }
    },
    {
      "cell_type": "code",
      "source": [
        "def NumbertoArray(number):\n",
        "    numberArray = [int(number/100),int((number%100)/10),number%10]\n",
        "    return numberArray\n",
        "\n",
        "def CheckforDuplicates(numberArray):\n",
        "    return numberArray[0] != numberArray[1] and numberArray[1] != numberArray[2] and numberArray[2] != numberArray[0]\n",
        "\n",
        "def EAT(enemyNumberArray,playerNumberArray):\n",
        "    eatCount = 0\n",
        "    for i in range(3):\n",
        "        if enemyNumberArray[i] == playerNumberArray[i]:\n",
        "            eatCount += 1\n",
        "    return eatCount\n",
        "\n",
        "def BITE(enemyNumberArray,playerNumberArray):\n",
        "    biteCount = 0\n",
        "    for i in range(3):\n",
        "        for j in range(3):\n",
        "            if i != j and enemyNumberArray[i] == playerNumberArray[j]:\n",
        "                biteCount += 1\n",
        "    return biteCount\n",
        "\n",
        "enemyNumberArray = [1,2,3]\n",
        "while True:\n",
        "    print(\"３桁の数字を入力してください。ただし、重複してはいけません\")\n",
        "    while True:\n",
        "        try:\n",
        "            playerNumber = int(input(\"設定されていそうな数字を入力: \"))\n",
        "            if playerNumber < 1000:\n",
        "                print(\"入力された値は\" + str(playerNumber) + \"です。\")\n",
        "                playerNumberArray = NumbertoArray(playerNumber)\n",
        "                if CheckforDuplicates(playerNumberArray):\n",
        "                    break\n",
        "                else:\n",
        "                    print(\"重複しているよ\")\n",
        "            else:\n",
        "                print(\"数字は1000より小さい値にしてね\")\n",
        "        except ValueError:\n",
        "            print(\"数字しか駄目だよ・・・\")\n",
        "    print(str(EAT(enemyNumberArray,playerNumberArray)) + \"E:\" + str(BITE(enemyNumberArray,playerNumberArray)) + \"B\")"
      ],
      "metadata": {
        "colab": {
          "base_uri": "https://localhost:8080/",
          "height": 690
        },
        "id": "ERs7n-ele0fj",
        "outputId": "c0660838-ad08-4b70-dae5-d5eb04617e9c"
      },
      "execution_count": null,
      "outputs": [
        {
          "output_type": "stream",
          "name": "stdout",
          "text": [
            "３桁の数字を入力してください。ただし、重複してはいけません\n",
            "設定されていそうな数字を入力: 321\n",
            "入力された値は321です。\n",
            "1E:2B\n",
            "３桁の数字を入力してください。ただし、重複してはいけません\n",
            "設定されていそうな数字を入力: 432\n",
            "入力された値は432です。\n",
            "0E:2B\n",
            "３桁の数字を入力してください。ただし、重複してはいけません\n",
            "設定されていそうな数字を入力: 547\n",
            "入力された値は547です。\n",
            "0E:0B\n",
            "３桁の数字を入力してください。ただし、重複してはいけません\n",
            "設定されていそうな数字を入力: 123\n",
            "入力された値は123です。\n",
            "3E:0B\n",
            "３桁の数字を入力してください。ただし、重複してはいけません\n"
          ]
        },
        {
          "output_type": "error",
          "ename": "KeyboardInterrupt",
          "evalue": "ignored",
          "traceback": [
            "\u001b[0;31m---------------------------------------------------------------------------\u001b[0m",
            "\u001b[0;31mKeyboardInterrupt\u001b[0m                         Traceback (most recent call last)",
            "\u001b[0;32m<ipython-input-15-000167d6ff49>\u001b[0m in \u001b[0;36m<cell line: 24>\u001b[0;34m()\u001b[0m\n\u001b[1;32m     26\u001b[0m     \u001b[0;32mwhile\u001b[0m \u001b[0;32mTrue\u001b[0m\u001b[0;34m:\u001b[0m\u001b[0;34m\u001b[0m\u001b[0;34m\u001b[0m\u001b[0m\n\u001b[1;32m     27\u001b[0m         \u001b[0;32mtry\u001b[0m\u001b[0;34m:\u001b[0m\u001b[0;34m\u001b[0m\u001b[0;34m\u001b[0m\u001b[0m\n\u001b[0;32m---> 28\u001b[0;31m             \u001b[0mplayerNumber\u001b[0m \u001b[0;34m=\u001b[0m \u001b[0mint\u001b[0m\u001b[0;34m(\u001b[0m\u001b[0minput\u001b[0m\u001b[0;34m(\u001b[0m\u001b[0;34m\"設定されていそうな数字を入力: \"\u001b[0m\u001b[0;34m)\u001b[0m\u001b[0;34m)\u001b[0m\u001b[0;34m\u001b[0m\u001b[0;34m\u001b[0m\u001b[0m\n\u001b[0m\u001b[1;32m     29\u001b[0m             \u001b[0;32mif\u001b[0m \u001b[0mplayerNumber\u001b[0m \u001b[0;34m<\u001b[0m \u001b[0;36m1000\u001b[0m\u001b[0;34m:\u001b[0m\u001b[0;34m\u001b[0m\u001b[0;34m\u001b[0m\u001b[0m\n\u001b[1;32m     30\u001b[0m                 \u001b[0mprint\u001b[0m\u001b[0;34m(\u001b[0m\u001b[0;34m\"入力された値は\"\u001b[0m \u001b[0;34m+\u001b[0m \u001b[0mstr\u001b[0m\u001b[0;34m(\u001b[0m\u001b[0mplayerNumber\u001b[0m\u001b[0;34m)\u001b[0m \u001b[0;34m+\u001b[0m \u001b[0;34m\"です。\"\u001b[0m\u001b[0;34m)\u001b[0m\u001b[0;34m\u001b[0m\u001b[0;34m\u001b[0m\u001b[0m\n",
            "\u001b[0;32m/usr/local/lib/python3.10/dist-packages/ipykernel/kernelbase.py\u001b[0m in \u001b[0;36mraw_input\u001b[0;34m(self, prompt)\u001b[0m\n\u001b[1;32m    849\u001b[0m                 \u001b[0;34m\"raw_input was called, but this frontend does not support input requests.\"\u001b[0m\u001b[0;34m\u001b[0m\u001b[0;34m\u001b[0m\u001b[0m\n\u001b[1;32m    850\u001b[0m             )\n\u001b[0;32m--> 851\u001b[0;31m         return self._input_request(str(prompt),\n\u001b[0m\u001b[1;32m    852\u001b[0m             \u001b[0mself\u001b[0m\u001b[0;34m.\u001b[0m\u001b[0m_parent_ident\u001b[0m\u001b[0;34m,\u001b[0m\u001b[0;34m\u001b[0m\u001b[0;34m\u001b[0m\u001b[0m\n\u001b[1;32m    853\u001b[0m             \u001b[0mself\u001b[0m\u001b[0;34m.\u001b[0m\u001b[0m_parent_header\u001b[0m\u001b[0;34m,\u001b[0m\u001b[0;34m\u001b[0m\u001b[0;34m\u001b[0m\u001b[0m\n",
            "\u001b[0;32m/usr/local/lib/python3.10/dist-packages/ipykernel/kernelbase.py\u001b[0m in \u001b[0;36m_input_request\u001b[0;34m(self, prompt, ident, parent, password)\u001b[0m\n\u001b[1;32m    893\u001b[0m             \u001b[0;32mexcept\u001b[0m \u001b[0mKeyboardInterrupt\u001b[0m\u001b[0;34m:\u001b[0m\u001b[0;34m\u001b[0m\u001b[0;34m\u001b[0m\u001b[0m\n\u001b[1;32m    894\u001b[0m                 \u001b[0;31m# re-raise KeyboardInterrupt, to truncate traceback\u001b[0m\u001b[0;34m\u001b[0m\u001b[0;34m\u001b[0m\u001b[0m\n\u001b[0;32m--> 895\u001b[0;31m                 \u001b[0;32mraise\u001b[0m \u001b[0mKeyboardInterrupt\u001b[0m\u001b[0;34m(\u001b[0m\u001b[0;34m\"Interrupted by user\"\u001b[0m\u001b[0;34m)\u001b[0m \u001b[0;32mfrom\u001b[0m \u001b[0;32mNone\u001b[0m\u001b[0;34m\u001b[0m\u001b[0;34m\u001b[0m\u001b[0m\n\u001b[0m\u001b[1;32m    896\u001b[0m             \u001b[0;32mexcept\u001b[0m \u001b[0mException\u001b[0m \u001b[0;32mas\u001b[0m \u001b[0me\u001b[0m\u001b[0;34m:\u001b[0m\u001b[0;34m\u001b[0m\u001b[0;34m\u001b[0m\u001b[0m\n\u001b[1;32m    897\u001b[0m                 \u001b[0mself\u001b[0m\u001b[0;34m.\u001b[0m\u001b[0mlog\u001b[0m\u001b[0;34m.\u001b[0m\u001b[0mwarning\u001b[0m\u001b[0;34m(\u001b[0m\u001b[0;34m\"Invalid Message:\"\u001b[0m\u001b[0;34m,\u001b[0m \u001b[0mexc_info\u001b[0m\u001b[0;34m=\u001b[0m\u001b[0;32mTrue\u001b[0m\u001b[0;34m)\u001b[0m\u001b[0;34m\u001b[0m\u001b[0;34m\u001b[0m\u001b[0m\n",
            "\u001b[0;31mKeyboardInterrupt\u001b[0m: Interrupted by user"
          ]
        }
      ]
    },
    {
      "cell_type": "markdown",
      "source": [
        "### 5.ゲームクリア条件\n",
        "\n",
        "3EATになった時点でゲームクリア"
      ],
      "metadata": {
        "id": "Q74D6ai_gvyU"
      }
    },
    {
      "cell_type": "code",
      "source": [
        "def NumbertoArray(number):\n",
        "    numberArray = [int(number/100),int((number%100)/10),number%10]\n",
        "    return numberArray\n",
        "\n",
        "def CheckforDuplicates(numberArray):\n",
        "    return numberArray[0] != numberArray[1] and numberArray[1] != numberArray[2] and numberArray[2] != numberArray[0]\n",
        "\n",
        "def EAT(enemyNumberArray,playerNumberArray):\n",
        "    eatCount = 0\n",
        "    for i in range(3):\n",
        "        if enemyNumberArray[i] == playerNumberArray[i]:\n",
        "            eatCount += 1\n",
        "    return eatCount\n",
        "\n",
        "def BITE(enemyNumberArray,playerNumberArray):\n",
        "    biteCount = 0\n",
        "    for i in range(3):\n",
        "        for j in range(3):\n",
        "            if i != j and enemyNumberArray[i] == playerNumberArray[j]:\n",
        "                biteCount += 1\n",
        "    return biteCount\n",
        "\n",
        "enemyNumberArray = [1,2,3]\n",
        "while True:\n",
        "    print(\"３桁の数字を入力してください。ただし、重複してはいけません\")\n",
        "    while True:\n",
        "        try:\n",
        "            playerNumber = int(input(\"設定されていそうな数字を入力: \"))\n",
        "            if playerNumber < 1000:\n",
        "                print(\"入力された値は\" + str(playerNumber) + \"です。\")\n",
        "                playerNumberArray = NumbertoArray(playerNumber)\n",
        "                if CheckforDuplicates(playerNumberArray):\n",
        "                    break\n",
        "                else:\n",
        "                    print(\"重複しているよ\")\n",
        "            else:\n",
        "                print(\"数字は1000より小さい値にしてね\")\n",
        "        except ValueError:\n",
        "            print(\"数字しか駄目だよ・・・\")\n",
        "    print(str(EAT(enemyNumberArray,playerNumberArray)) + \"E:\" + str(BITE(enemyNumberArray,playerNumberArray)) + \"B\")\n",
        "    if EAT(enemyNumberArray,playerNumberArray) == 3:\n",
        "        print(\"GameClear\")\n",
        "        break"
      ],
      "metadata": {
        "colab": {
          "base_uri": "https://localhost:8080/"
        },
        "id": "T8EK5kUZg4t6",
        "outputId": "1f6ef335-6399-478e-f743-ad9ed0133369"
      },
      "execution_count": null,
      "outputs": [
        {
          "output_type": "stream",
          "name": "stdout",
          "text": [
            "３桁の数字を入力してください。ただし、重複してはいけません\n",
            "設定されていそうな数字を入力: 213\n",
            "入力された値は213です。\n",
            "1E:2B\n",
            "３桁の数字を入力してください。ただし、重複してはいけません\n",
            "設定されていそうな数字を入力: 523\n",
            "入力された値は523です。\n",
            "2E:0B\n",
            "３桁の数字を入力してください。ただし、重複してはいけません\n",
            "設定されていそうな数字を入力: 333\n",
            "入力された値は333です。\n",
            "重複しているよ\n",
            "設定されていそうな数字を入力: 234\n",
            "入力された値は234です。\n",
            "0E:2B\n",
            "３桁の数字を入力してください。ただし、重複してはいけません\n",
            "設定されていそうな数字を入力: 123\n",
            "入力された値は123です。\n",
            "3E:0B\n"
          ]
        }
      ]
    },
    {
      "cell_type": "markdown",
      "source": [
        "### 6.完成\n",
        "\n",
        "最初に作ったランダムな３桁の数値を生成するプログラムを用いていい感じに成形します。"
      ],
      "metadata": {
        "id": "TLX3rK_tijp_"
      }
    },
    {
      "cell_type": "code",
      "source": [
        "import random\n",
        "\n",
        "def NumbertoArray(number):\n",
        "    numberArray = [int(number/100),int((number%100)/10),number%10]\n",
        "    print(numberArray)\n",
        "    return numberArray\n",
        "\n",
        "def CheckforDuplicates(numberArray):\n",
        "    return numberArray[0] != numberArray[1] and numberArray[1] != numberArray[2] and numberArray[2] != numberArray[0]\n",
        "\n",
        "def EAT(enemyNumberArray,playerNumberArray):\n",
        "    eatCount = 0\n",
        "    for i in range(3):\n",
        "        if enemyNumberArray[i] == playerNumberArray[i]:\n",
        "            eatCount += 1\n",
        "    return eatCount\n",
        "\n",
        "def BITE(enemyNumberArray,playerNumberArray):\n",
        "    biteCount = 0\n",
        "    for i in range(3):\n",
        "        for j in range(3):\n",
        "            if i != j and enemyNumberArray[i] == playerNumberArray[j]:\n",
        "                biteCount += 1\n",
        "    return biteCount\n",
        "\n",
        "def main():\n",
        "    while True:\n",
        "        enemyNumberArray = [random.randint(0,9) for number in range(3)]\n",
        "        if CheckforDuplicates(enemyNumberArray):\n",
        "            break\n",
        "    while True:\n",
        "        print(\"３桁の数字を入力してください。ただし、重複してはいけません\")\n",
        "        while True:\n",
        "            try:\n",
        "                playerNumber = int(input(\"設定されていそうな数字を入力: \"))\n",
        "                if playerNumber < 1000:\n",
        "                    print(\"入力された値は\" + str(playerNumber) + \"です。\")\n",
        "                    playerNumberArray = NumbertoArray(playerNumber)\n",
        "                    if CheckforDuplicates(playerNumberArray):\n",
        "                        break\n",
        "                    else:\n",
        "                        print(\"重複しているよ\")\n",
        "                else:\n",
        "                    print(\"数字は1000より小さい値にしてね\")\n",
        "            except ValueError:\n",
        "                print(\"数字しか駄目だよ・・・\")\n",
        "        print(str(EAT(enemyNumberArray,playerNumberArray)) + \"E:\" + str(BITE(enemyNumberArray,playerNumberArray)) + \"B\")\n",
        "        if EAT(enemyNumberArray,playerNumberArray) == 3:\n",
        "            print(\"GameClear\")\n",
        "            break\n",
        "\n",
        "if __name__ == \"__main__\":\n",
        "    main()"
      ],
      "metadata": {
        "colab": {
          "base_uri": "https://localhost:8080/",
          "height": 551
        },
        "id": "WkHzUa6Eiy2f",
        "outputId": "35d38ab0-c427-4bb2-df96-112fbcb2edcb"
      },
      "execution_count": null,
      "outputs": [
        {
          "output_type": "stream",
          "name": "stdout",
          "text": [
            "３桁の数字を入力してください。ただし、重複してはいけません\n",
            "設定されていそうな数字を入力: 123\n",
            "入力された値は123です。\n",
            "[1, 2, 3]\n",
            "0E:0B\n",
            "３桁の数字を入力してください。ただし、重複してはいけません\n",
            "設定されていそうな数字を入力: 12\n",
            "入力された値は12です。\n",
            "[0, 1, 2]\n",
            "0E:1B\n",
            "３桁の数字を入力してください。ただし、重複してはいけません\n"
          ]
        },
        {
          "output_type": "error",
          "ename": "KeyboardInterrupt",
          "evalue": "ignored",
          "traceback": [
            "\u001b[0;31m---------------------------------------------------------------------------\u001b[0m",
            "\u001b[0;31mKeyboardInterrupt\u001b[0m                         Traceback (most recent call last)",
            "\u001b[0;32m<ipython-input-4-ef96b5816d9f>\u001b[0m in \u001b[0;36m<cell line: 52>\u001b[0;34m()\u001b[0m\n\u001b[1;32m     51\u001b[0m \u001b[0;34m\u001b[0m\u001b[0m\n\u001b[1;32m     52\u001b[0m \u001b[0;32mif\u001b[0m \u001b[0m__name__\u001b[0m \u001b[0;34m==\u001b[0m \u001b[0;34m\"__main__\"\u001b[0m\u001b[0;34m:\u001b[0m\u001b[0;34m\u001b[0m\u001b[0;34m\u001b[0m\u001b[0m\n\u001b[0;32m---> 53\u001b[0;31m     \u001b[0mmain\u001b[0m\u001b[0;34m(\u001b[0m\u001b[0;34m)\u001b[0m\u001b[0;34m\u001b[0m\u001b[0;34m\u001b[0m\u001b[0m\n\u001b[0m",
            "\u001b[0;32m<ipython-input-4-ef96b5816d9f>\u001b[0m in \u001b[0;36mmain\u001b[0;34m()\u001b[0m\n\u001b[1;32m     33\u001b[0m         \u001b[0;32mwhile\u001b[0m \u001b[0;32mTrue\u001b[0m\u001b[0;34m:\u001b[0m\u001b[0;34m\u001b[0m\u001b[0;34m\u001b[0m\u001b[0m\n\u001b[1;32m     34\u001b[0m             \u001b[0;32mtry\u001b[0m\u001b[0;34m:\u001b[0m\u001b[0;34m\u001b[0m\u001b[0;34m\u001b[0m\u001b[0m\n\u001b[0;32m---> 35\u001b[0;31m                 \u001b[0mplayerNumber\u001b[0m \u001b[0;34m=\u001b[0m \u001b[0mint\u001b[0m\u001b[0;34m(\u001b[0m\u001b[0minput\u001b[0m\u001b[0;34m(\u001b[0m\u001b[0;34m\"設定されていそうな数字を入力: \"\u001b[0m\u001b[0;34m)\u001b[0m\u001b[0;34m)\u001b[0m\u001b[0;34m\u001b[0m\u001b[0;34m\u001b[0m\u001b[0m\n\u001b[0m\u001b[1;32m     36\u001b[0m                 \u001b[0;32mif\u001b[0m \u001b[0mplayerNumber\u001b[0m \u001b[0;34m<\u001b[0m \u001b[0;36m1000\u001b[0m\u001b[0;34m:\u001b[0m\u001b[0;34m\u001b[0m\u001b[0;34m\u001b[0m\u001b[0m\n\u001b[1;32m     37\u001b[0m                     \u001b[0mprint\u001b[0m\u001b[0;34m(\u001b[0m\u001b[0;34m\"入力された値は\"\u001b[0m \u001b[0;34m+\u001b[0m \u001b[0mstr\u001b[0m\u001b[0;34m(\u001b[0m\u001b[0mplayerNumber\u001b[0m\u001b[0;34m)\u001b[0m \u001b[0;34m+\u001b[0m \u001b[0;34m\"です。\"\u001b[0m\u001b[0;34m)\u001b[0m\u001b[0;34m\u001b[0m\u001b[0;34m\u001b[0m\u001b[0m\n",
            "\u001b[0;32m/usr/local/lib/python3.10/dist-packages/ipykernel/kernelbase.py\u001b[0m in \u001b[0;36mraw_input\u001b[0;34m(self, prompt)\u001b[0m\n\u001b[1;32m    849\u001b[0m                 \u001b[0;34m\"raw_input was called, but this frontend does not support input requests.\"\u001b[0m\u001b[0;34m\u001b[0m\u001b[0;34m\u001b[0m\u001b[0m\n\u001b[1;32m    850\u001b[0m             )\n\u001b[0;32m--> 851\u001b[0;31m         return self._input_request(str(prompt),\n\u001b[0m\u001b[1;32m    852\u001b[0m             \u001b[0mself\u001b[0m\u001b[0;34m.\u001b[0m\u001b[0m_parent_ident\u001b[0m\u001b[0;34m,\u001b[0m\u001b[0;34m\u001b[0m\u001b[0;34m\u001b[0m\u001b[0m\n\u001b[1;32m    853\u001b[0m             \u001b[0mself\u001b[0m\u001b[0;34m.\u001b[0m\u001b[0m_parent_header\u001b[0m\u001b[0;34m,\u001b[0m\u001b[0;34m\u001b[0m\u001b[0;34m\u001b[0m\u001b[0m\n",
            "\u001b[0;32m/usr/local/lib/python3.10/dist-packages/ipykernel/kernelbase.py\u001b[0m in \u001b[0;36m_input_request\u001b[0;34m(self, prompt, ident, parent, password)\u001b[0m\n\u001b[1;32m    893\u001b[0m             \u001b[0;32mexcept\u001b[0m \u001b[0mKeyboardInterrupt\u001b[0m\u001b[0;34m:\u001b[0m\u001b[0;34m\u001b[0m\u001b[0;34m\u001b[0m\u001b[0m\n\u001b[1;32m    894\u001b[0m                 \u001b[0;31m# re-raise KeyboardInterrupt, to truncate traceback\u001b[0m\u001b[0;34m\u001b[0m\u001b[0;34m\u001b[0m\u001b[0m\n\u001b[0;32m--> 895\u001b[0;31m                 \u001b[0;32mraise\u001b[0m \u001b[0mKeyboardInterrupt\u001b[0m\u001b[0;34m(\u001b[0m\u001b[0;34m\"Interrupted by user\"\u001b[0m\u001b[0;34m)\u001b[0m \u001b[0;32mfrom\u001b[0m \u001b[0;32mNone\u001b[0m\u001b[0;34m\u001b[0m\u001b[0;34m\u001b[0m\u001b[0m\n\u001b[0m\u001b[1;32m    896\u001b[0m             \u001b[0;32mexcept\u001b[0m \u001b[0mException\u001b[0m \u001b[0;32mas\u001b[0m \u001b[0me\u001b[0m\u001b[0;34m:\u001b[0m\u001b[0;34m\u001b[0m\u001b[0;34m\u001b[0m\u001b[0m\n\u001b[1;32m    897\u001b[0m                 \u001b[0mself\u001b[0m\u001b[0;34m.\u001b[0m\u001b[0mlog\u001b[0m\u001b[0;34m.\u001b[0m\u001b[0mwarning\u001b[0m\u001b[0;34m(\u001b[0m\u001b[0;34m\"Invalid Message:\"\u001b[0m\u001b[0;34m,\u001b[0m \u001b[0mexc_info\u001b[0m\u001b[0;34m=\u001b[0m\u001b[0;32mTrue\u001b[0m\u001b[0;34m)\u001b[0m\u001b[0;34m\u001b[0m\u001b[0;34m\u001b[0m\u001b[0m\n",
            "\u001b[0;31mKeyboardInterrupt\u001b[0m: Interrupted by user"
          ]
        }
      ]
    },
    {
      "cell_type": "markdown",
      "source": [
        "# ソートし、表示するプログラムを記述しなさい。\n",
        "\n",
        "アルゴリズムは問いません。\n",
        "\n",
        "a = [random.randint(0,100) for i in range(1000)]\n"
      ],
      "metadata": {
        "id": "LAys4yU0qOCM"
      }
    },
    {
      "cell_type": "code",
      "source": [
        "# バブルソート\n",
        "import random\n",
        "a = [random.randint(0,500) for i in range(500)]\n",
        "n = len(a)\n",
        "for i in range(n):\n",
        "    for j in range(0, n-i-1):\n",
        "        if a[j] > a[j+1]:\n",
        "            a[j], a[j+1] = a[j+1], a[j]\n",
        "    print(a)"
      ],
      "metadata": {
        "id": "QN8KWuNHqNX1"
      },
      "execution_count": null,
      "outputs": []
    },
    {
      "cell_type": "code",
      "source": [
        "#選択ソート\n",
        "import random\n",
        "a = [random.randint(0,500) for i in range(500)]\n",
        "n = len(a)\n",
        "for i in range(n):\n",
        "    min_index = i\n",
        "    for j in range(i + 1, n):\n",
        "        if a[j] < a[min_index]:\n",
        "            min_index = j\n",
        "    a[i], a[min_index] = a[min_index], a[i]\n",
        "\n",
        "    print(a)"
      ],
      "metadata": {
        "id": "M5aIx_8SrrMI"
      },
      "execution_count": null,
      "outputs": []
    },
    {
      "cell_type": "markdown",
      "source": [
        "## NumerOnの復習"
      ],
      "metadata": {
        "id": "DblAtnbgyTK3"
      }
    },
    {
      "cell_type": "code",
      "source": [
        "import random\n",
        "\n",
        "def NumbertoArray(number):\n",
        "    numberArray = [int(number/100),int((number%100)/10),number%10]\n",
        "    print(numberArray)\n",
        "    return numberArray\n",
        "\n",
        "def CheckforDuplicates(numberArray):\n",
        "    return numberArray[0] != numberArray[1] and numberArray[1] != numberArray[2] and numberArray[2] != numberArray[0]\n",
        "\n",
        "def EAT(enemyNumberArray,playerNumberArray):\n",
        "    eatCount = 0\n",
        "    for i in range(3):\n",
        "        if enemyNumberArray[i] == playerNumberArray[i]:\n",
        "            eatCount += 1\n",
        "    return eatCount\n",
        "\n",
        "def BITE(enemyNumberArray,playerNumberArray):\n",
        "    biteCount = 0\n",
        "    for i in range(3):\n",
        "        for j in range(3):\n",
        "            if i != j and enemyNumberArray[i] == playerNumberArray[j]:\n",
        "                biteCount += 1\n",
        "    return biteCount\n",
        "\n",
        "def main():\n",
        "    while True:\n",
        "        enemyNumberArray = [random.randint(0,9) for number in range(3)]\n",
        "        if CheckforDuplicates(enemyNumberArray):\n",
        "            break\n",
        "    while True:\n",
        "        print(\"３桁の数字を入力してください。ただし、重複してはいけません\")\n",
        "        while True:\n",
        "            try:\n",
        "                playerNumber = int(input(\"設定されていそうな数字を入力: \"))\n",
        "                if playerNumber < 1000:\n",
        "                    print(\"入力された値は\" + str(playerNumber) + \"です。\")\n",
        "                    playerNumberArray = NumbertoArray(playerNumber)\n",
        "                    if CheckforDuplicates(playerNumberArray):\n",
        "                        break\n",
        "                    else:\n",
        "                        print(\"重複しているよ\")\n",
        "                else:\n",
        "                    print(\"数字は1000より小さい値にしてね\")\n",
        "            except ValueError:\n",
        "                print(\"数字しか駄目だよ・・・\")\n",
        "        print(str(EAT(enemyNumberArray,playerNumberArray)) + \"E:\" + str(BITE(enemyNumberArray,playerNumberArray)) + \"B\")\n",
        "        if EAT(enemyNumberArray,playerNumberArray) == 3:\n",
        "            print(\"GameClear\")\n",
        "            break\n",
        "\n",
        "if __name__ == \"__main__\":\n",
        "    main()"
      ],
      "metadata": {
        "id": "LhLgauYsyRlx"
      },
      "execution_count": null,
      "outputs": []
    },
    {
      "cell_type": "markdown",
      "source": [
        "# 脱出ゲームを作ろう\n",
        "\n",
        "今回作成するゲームは、脱出ゲームです。\n",
        "\n",
        "イメージを一度文章で記述してみますので、モジュール化させていきましょう。"
      ],
      "metadata": {
        "id": "HIAlZHxWriMK"
      }
    },
    {
      "cell_type": "markdown",
      "source": [
        "## ゲームのイメージ\n",
        "\n",
        "* 11×11のマップを用意して、そこに壁と道を配置します。\n",
        "\n",
        "* 中央には、人を配置する。\n",
        "\n",
        "* 上下左右を入力すると、マップ全体が動く。\n",
        "\n",
        "* 人が移動すると、もといた場所は壁になる。\n",
        "\n",
        "* 壁は、ランダムで生成される。\n",
        "\n",
        "* 移動した数の分だけ得点になる。\n",
        "\n",
        "* 壁に当たりに行くとゲームオーバー\n",
        "\n",
        "* （30×30くらいのマップを用意する方が良い）"
      ],
      "metadata": {
        "id": "cZ4sTCdAr3kS"
      }
    },
    {
      "cell_type": "markdown",
      "source": [
        "## モジュールに分けて必要なプログラムを考えよう\n",
        "\n",
        "といっても、いきなりできる人とできない人がいると思います。\n",
        "\n",
        "\n",
        "\n",
        "[figma](https://www.figma.com/)\n",
        "\n",
        "[figma(ワークシート)](https://www.figma.com/file/yYcyHUvsQGJ06d73sjiIdZ/%E8%84%B1%E5%87%BA%E3%82%B2%E3%83%BC%E3%83%A0%E3%81%AE%E3%82%A4%E3%83%A1%E3%83%BC%E3%82%B8%E4%BD%9C%E6%88%90?type=whiteboard&node-id=0%3A1&t=0LVUs8tsbqNhXdS2-1)"
      ],
      "metadata": {
        "id": "VtHJS0hhwYUS"
      }
    },
    {
      "cell_type": "markdown",
      "source": [
        "## 階層構造を考えてみよう"
      ],
      "metadata": {
        "id": "gK9Nmo_1Gk2h"
      }
    },
    {
      "cell_type": "markdown",
      "source": [
        "## マップモジュールを作成しよう"
      ],
      "metadata": {
        "id": "RWLUrYuG0nQG"
      }
    },
    {
      "cell_type": "markdown",
      "source": [
        "### 土台を作ろう\n",
        "\n",
        "11×11のマップをそのまま生成するのではなく、30×30のマップ配列を準備する。\n",
        "\n",
        "まず、シンプルに30×30の二重配列を準備して、要素にはランダムに1か0を入力する。"
      ],
      "metadata": {
        "id": "KzNkBJw0wcSy"
      }
    },
    {
      "cell_type": "code",
      "source": [
        "import random\n",
        "\n",
        "map = [[random.randint(0,1) for _ in range(30)] for _ in range(30)]\n",
        "\n",
        "for m in map:\n",
        "    print(m)"
      ],
      "metadata": {
        "colab": {
          "base_uri": "https://localhost:8080/"
        },
        "id": "GQY7szLQ0DI0",
        "outputId": "7e4d2b48-5942-4450-ded1-8796060026e6"
      },
      "execution_count": null,
      "outputs": [
        {
          "output_type": "stream",
          "name": "stdout",
          "text": [
            "[1, 1, 1, 0, 0, 1, 1, 0, 1, 1, 1, 0, 1, 1, 0, 0, 0, 1, 0, 0, 0, 1, 0, 0, 1, 0, 0, 1, 1, 0]\n",
            "[1, 1, 0, 1, 0, 0, 0, 1, 0, 1, 0, 0, 1, 1, 0, 0, 0, 0, 1, 0, 0, 1, 0, 0, 0, 1, 1, 1, 0, 1]\n",
            "[1, 1, 1, 1, 1, 1, 0, 0, 0, 0, 0, 0, 1, 1, 0, 1, 1, 1, 0, 1, 0, 1, 1, 0, 0, 0, 1, 0, 0, 1]\n",
            "[1, 1, 1, 1, 0, 1, 0, 0, 1, 1, 1, 0, 0, 1, 1, 0, 1, 1, 0, 1, 1, 1, 0, 1, 1, 0, 0, 0, 1, 1]\n",
            "[0, 0, 1, 1, 0, 1, 1, 1, 1, 0, 1, 1, 0, 1, 0, 0, 1, 0, 1, 0, 0, 1, 1, 0, 0, 1, 1, 0, 1, 0]\n",
            "[0, 1, 0, 0, 1, 1, 0, 1, 1, 1, 1, 0, 1, 0, 1, 0, 0, 0, 0, 0, 0, 0, 1, 0, 0, 0, 1, 1, 0, 1]\n",
            "[0, 0, 0, 1, 0, 1, 0, 0, 1, 0, 0, 1, 1, 1, 0, 0, 1, 0, 1, 0, 0, 0, 1, 1, 0, 0, 1, 1, 0, 1]\n",
            "[1, 1, 1, 1, 0, 1, 0, 1, 1, 1, 1, 0, 0, 0, 0, 1, 1, 0, 0, 1, 0, 1, 0, 0, 1, 0, 1, 0, 1, 0]\n",
            "[0, 0, 0, 0, 1, 1, 0, 1, 0, 0, 0, 0, 0, 0, 0, 0, 0, 0, 0, 0, 0, 0, 0, 0, 0, 1, 1, 0, 0, 0]\n",
            "[1, 0, 0, 0, 1, 1, 1, 0, 0, 0, 1, 0, 0, 1, 0, 0, 0, 0, 1, 1, 1, 1, 1, 1, 0, 0, 0, 1, 0, 1]\n",
            "[1, 0, 0, 1, 1, 0, 1, 0, 1, 0, 0, 0, 0, 0, 0, 0, 1, 1, 0, 1, 0, 0, 1, 0, 1, 0, 1, 1, 0, 1]\n",
            "[0, 0, 1, 0, 0, 0, 1, 0, 0, 0, 1, 1, 1, 1, 1, 0, 0, 1, 0, 0, 0, 1, 1, 0, 0, 1, 0, 1, 1, 0]\n",
            "[1, 0, 1, 0, 0, 1, 0, 1, 1, 1, 1, 0, 1, 1, 1, 0, 1, 1, 1, 1, 1, 0, 1, 1, 1, 0, 0, 0, 1, 0]\n",
            "[0, 0, 0, 1, 1, 0, 0, 0, 0, 1, 0, 1, 0, 1, 1, 1, 0, 0, 0, 1, 1, 1, 0, 0, 1, 0, 1, 1, 0, 0]\n",
            "[0, 0, 0, 1, 0, 0, 0, 0, 1, 1, 0, 1, 0, 1, 1, 0, 0, 0, 0, 1, 1, 0, 0, 0, 0, 1, 0, 0, 0, 1]\n",
            "[1, 1, 1, 0, 1, 1, 1, 1, 1, 1, 0, 0, 1, 0, 0, 1, 0, 1, 0, 0, 1, 1, 1, 0, 1, 0, 0, 1, 0, 1]\n",
            "[0, 1, 0, 0, 0, 0, 1, 1, 1, 0, 0, 1, 1, 1, 0, 0, 0, 0, 1, 0, 0, 1, 0, 1, 0, 0, 0, 0, 1, 1]\n",
            "[0, 1, 1, 0, 0, 1, 0, 0, 1, 1, 1, 1, 0, 0, 0, 0, 0, 0, 0, 0, 1, 0, 0, 1, 0, 1, 1, 1, 0, 1]\n",
            "[0, 1, 0, 1, 1, 0, 1, 0, 1, 1, 0, 1, 1, 0, 0, 1, 1, 0, 0, 1, 0, 0, 1, 0, 0, 1, 1, 1, 1, 0]\n",
            "[0, 0, 1, 0, 0, 1, 1, 1, 0, 1, 0, 0, 0, 0, 1, 0, 1, 0, 0, 0, 1, 0, 1, 0, 1, 0, 1, 0, 0, 1]\n",
            "[1, 0, 1, 0, 0, 1, 0, 0, 0, 1, 0, 0, 1, 1, 0, 0, 0, 1, 0, 0, 1, 0, 1, 1, 0, 0, 1, 1, 1, 0]\n",
            "[1, 0, 1, 0, 0, 1, 0, 1, 1, 0, 1, 1, 0, 1, 1, 1, 0, 1, 1, 1, 1, 0, 1, 1, 1, 1, 1, 0, 0, 1]\n",
            "[1, 0, 1, 1, 0, 1, 0, 1, 0, 1, 0, 1, 1, 0, 1, 1, 1, 1, 0, 0, 0, 1, 0, 0, 1, 1, 0, 1, 0, 1]\n",
            "[1, 1, 0, 1, 0, 1, 0, 1, 0, 0, 1, 1, 0, 1, 0, 1, 1, 0, 1, 0, 1, 0, 0, 1, 1, 0, 0, 0, 1, 1]\n",
            "[0, 0, 0, 0, 1, 1, 1, 1, 0, 0, 0, 0, 0, 1, 1, 1, 1, 1, 1, 1, 1, 0, 0, 0, 0, 0, 1, 0, 1, 1]\n",
            "[0, 1, 1, 1, 0, 0, 1, 0, 0, 1, 1, 1, 1, 1, 1, 0, 1, 1, 0, 0, 1, 1, 0, 1, 0, 0, 1, 0, 1, 1]\n",
            "[0, 0, 0, 0, 1, 1, 1, 1, 0, 0, 1, 0, 1, 0, 1, 1, 1, 1, 0, 1, 0, 1, 0, 0, 1, 1, 1, 1, 1, 0]\n",
            "[1, 0, 1, 0, 0, 1, 0, 1, 0, 1, 0, 0, 1, 0, 0, 0, 1, 0, 1, 0, 1, 0, 0, 0, 0, 1, 0, 0, 0, 1]\n",
            "[1, 0, 1, 0, 1, 0, 0, 1, 0, 1, 0, 1, 0, 0, 1, 0, 1, 1, 1, 1, 0, 0, 1, 1, 1, 0, 1, 0, 0, 1]\n",
            "[1, 0, 0, 0, 1, 0, 0, 1, 0, 1, 0, 0, 1, 1, 0, 0, 0, 1, 0, 1, 1, 1, 1, 0, 0, 0, 1, 1, 0, 0]\n"
          ]
        }
      ]
    },
    {
      "cell_type": "markdown",
      "source": [
        "### マップの見た目に近づけよう\n"
      ],
      "metadata": {
        "id": "a_DKkGeU0vl-"
      }
    },
    {
      "cell_type": "code",
      "source": [
        "import random\n",
        "\n",
        "map = [[random.randint(0,1) for _ in range(30)] for _ in range(30)]\n",
        "\n",
        "for m in map:\n",
        "    for i in m:\n",
        "        if i == 1:\n",
        "            print(\"■\",end = \"\") ## 壁の役割　しかく入力して変換\n",
        "        else:\n",
        "            print(\"　\",end = \"\") ## 道の役割　全角スペース\n",
        "    print(\"\")"
      ],
      "metadata": {
        "colab": {
          "base_uri": "https://localhost:8080/"
        },
        "id": "N5ELex7v0vL4",
        "outputId": "329564f1-74b6-4e95-917c-7c097d946d46"
      },
      "execution_count": null,
      "outputs": [
        {
          "output_type": "stream",
          "name": "stdout",
          "text": [
            "■■■　■　　■■■■　　■　　　　■　■　■■　■　■　■\n",
            "　■■■■　■　　■■　　　■　　■　■■　　　■■■　　■\n",
            "■■■　■　　■　　■■　　■■　　■■■　　　■　■　■■\n",
            "■■■　■　　■■　　　■　■■■■　　　　■■■■■■　■\n",
            "■■　　　　■　　　　　■■■■■■■■　　■　　　　　　　\n",
            "　　■　■■■■■　　■■■■■　　■■■■■■　　■　　　\n",
            "■■■　■　　　　　■■　■■■■■　　■　　　　■　■■■\n",
            "　■　■　　　　■■■■■　■　■　■　■　■　■■　■　　\n",
            "　■　■■■　　■　■■■■■■■　　　■　■　　■■■　　\n",
            "　■　　■■　■■　　■■　　　　　　　　■■　■　　　　　\n",
            "　　　　■　　　■　　■　■　　■■■　　■　　■　　　　　\n",
            "　　■　　　■■■　■　　　■■■　■　　■　　■　　　■■\n",
            "　■　　■■　■　　　　　　■　　■■■■　　■　　■　　　\n",
            "■　■■　　　　■　■■■■■　　　　■　■■　■　　■　■\n",
            "■　■■　■　■■　　　　　　■　　■　■　■■　■　　　　\n",
            "■　　　■　　■■■　■　■■■　　　　■■　　　■　　■　\n",
            "■　■　　　　■　　　■　　　　　　■■■■　■■　■　■　\n",
            "　　■　■■　　　　　　■　　　■■■■　■　　　■　　■■\n",
            "　■■■　■■■■　■　　　■■■■　　　■　　　　■　　　\n",
            "　■　　　　　　　　　　■■　　　■■■　■■　　　■■　　\n",
            "■■■　■■　　■■■■■　　■　　■■　　■　　■　■■■\n",
            "■　　　■　■　■　■■■　■　　■■■■■　■　■　　■　\n",
            "■　　　　■　　　■■　　■　　■　■■　　　　■　■　■■\n",
            "■　　　　■　　■■■　■■　　　■　　　■■　■■　■■■\n",
            "■■■■■■■　　　■　　■　■■　　■■■■　　　　■　■\n",
            "■　　■■　■■■　　　　■　　■　■■■■　　　■　　　■\n",
            "■■■　■■■■　■　■　■　　　■■　　■■　■　■　　■\n",
            "　　■　■　■　　　　■　■■■　　　　　■■　　■■　　　\n",
            "■　■　　　　■　　　　　　　　　■　■　　■　■　■■■■\n",
            "　　　■■　　■■■　　■　■■■■■　　■　　　■■　　■\n"
          ]
        }
      ]
    },
    {
      "cell_type": "markdown",
      "source": [
        "### 壁と道の比率を調節できるようにしよう。"
      ],
      "metadata": {
        "id": "vHKFeSSq1UKa"
      }
    },
    {
      "cell_type": "code",
      "source": [
        "import random\n",
        "\n",
        "difficulty = 40\n",
        "\n",
        "map = [[random.randint(0,100) for _ in range(30)] for _ in range(30)]\n",
        "\n",
        "for m in map:\n",
        "    for i in m:\n",
        "        if i > difficulty:\n",
        "            print(\"■\",end = \"\") ## 壁の役割　しかく入力して変換\n",
        "        else:\n",
        "            print(\"　\",end = \"\") ## 道の役割　全角スペース\n",
        "    print(\"\")"
      ],
      "metadata": {
        "colab": {
          "base_uri": "https://localhost:8080/"
        },
        "id": "HZY7aXBWw56z",
        "outputId": "5b365c16-3fd5-438d-afff-869ab8655955"
      },
      "execution_count": null,
      "outputs": [
        {
          "output_type": "stream",
          "name": "stdout",
          "text": [
            "　■■　　　　　■■　■　■■　■■　■　■　　　■　■　■\n",
            "■■　■■■　■■■■■■　■■　　■■■■　■■■■■　■\n",
            "　■■　　　■　■■■■■　　　■■■　　■■■■■　■■■\n",
            "　　　■■　■■　　■■　■　　■　　■　■■■　　　　　■\n",
            "　■■■　■　■■■■■　　　■■　■　■　■　■　　■■■\n",
            "■　■■■■　■■　　　　　　　　■■■■■　■■■■■■　\n",
            "　　■■■■　　■　■　　■■　■　■■■　■　■■■■　■\n",
            "■■　　■■■　　　■■■■■　■■　■　　　　■■■　　　\n",
            "■■　　■　■　■　■　■　　　■　　■　　　■　　■　■■\n",
            "■■　■■■■■　　　　■　■■　　■　■■■　　■■　　　\n",
            "　■　■■　■　■■■　　　　■■■　　■■　■■■■　■■\n",
            "■　　■■■■■　■　　　■　■　　　　■■■■■　　■■　\n",
            "■　　■　　　■■■　■　■　■■　■■■　■■■■■■■■\n",
            "■　　■■　　　■　■■■■■■　　■■　■　　■　　■■　\n",
            "■■■■■■　　　　　■　■■　■　■■■　　　■■■■■　\n",
            "■　■　　■■■■■■■■　■■■　■　■　■■■■■■■　\n",
            "■　■■■　■　　　　■■■■■■■■■■■■■　■■　■　\n",
            "　■■　■　　　■■■　　■■■　■　　　　■■■■　■　■\n",
            "■■　■　■■■　■■　　■■■　　■■　■　　■■　■■■\n",
            "　■■　■　■　■■■■　■　■　　■■■■　■　　　■■■\n",
            "■　　　　　■　　　　　　　■■■　　■　　■■■　■■■　\n",
            "■　　■■　■■■■■■■　　■■　■■■■　　　■■■■　\n",
            "　　■　　■　　■　　　■■■　　　■■　　　　　　■　■■\n",
            "■　　■　　■■　　　■■　　■■　■　■　　■　■　■■　\n",
            "■　　■■■■　■■■■■　■■■　■■■■　　　■　　■　\n",
            "■■■■■■■　■■■■　　■　　　■■　■■■■■　　■　\n",
            "■■　　■■■■　■■　■■　　■■■　■■　　■　■■　■\n",
            "■■■　■■■■　　■■　■■■　■　■　■■　■■■　■　\n",
            "■■■■　■■　■　■　■■■　■■■■　■■■■　■■　　\n",
            "■■　　■■■　　■■■■　　■　■■■　　■　　　■■■■\n"
          ]
        }
      ]
    },
    {
      "cell_type": "markdown",
      "source": [
        "### マップの中央に人を立てよう"
      ],
      "metadata": {
        "id": "OGoI5BdY1gpe"
      }
    },
    {
      "cell_type": "code",
      "source": [
        "import random\n",
        "\n",
        "difficulty = 40\n",
        "\n",
        "map = [[random.randint(0,100) for _ in range(30)] for _ in range(30)]\n",
        "map[15][15] = -1\n",
        "for m in map:\n",
        "    for i in m:\n",
        "        if i > difficulty:\n",
        "            print(\"■\",end = \"\") ## 壁の役割　しかく入力して変換\n",
        "        elif i == -1:\n",
        "            print(\"人\",end = \"\") ## 人の役割　人\n",
        "        else:\n",
        "            print(\"　\",end = \"\") ## 道の役割　全角スペース\n",
        "    print(\"\")"
      ],
      "metadata": {
        "colab": {
          "base_uri": "https://localhost:8080/"
        },
        "id": "lqVPEGW91qXe",
        "outputId": "16f6504d-958d-4eda-ff86-c89f64fcab39"
      },
      "execution_count": null,
      "outputs": [
        {
          "output_type": "stream",
          "name": "stdout",
          "text": [
            "■　　■　■■■　　■■　■　■■■　■■■　　　■■　■■\n",
            "　■　■■■　■■■　　■　　■　■　　■■■■■　■■■　\n",
            "　■　■■　■　■■　■■　　■　　　■■　■■　　　■■■\n",
            "■　　■■■■■　　■　　■　　■■■■　■■■■■■　■　\n",
            "■■　　　■■■　　　　■　　■　　　■■　■■　■■　　　\n",
            "　■　　■■　■■　■■■■■■　■　■　■　■■　　■■■\n",
            "　　■■　　■■　　　　　　■■■■　■　■■　　■　■　　\n",
            "■　■■■　■■　■■　■　■■■■　　　■■■■■　■　■\n",
            "　■　　■■■■■■■　■■　■　　　■　■■■■　■■　　\n",
            "■■■　■■　　　　　　■　■■　■■■■■■　■■■■■■\n",
            "■　■■■　■■　■■■■■■　　■■■　■　■　■■　■■\n",
            "■　■　■　■■■■■■　　　■■　■■■　■■　■　■　　\n",
            "　■■■■　　　　■■■　■　■■　■■■■■　■■■　■　\n",
            "■■　■　■■■　■■■■　■■　■■■■■■　　■■■■　\n",
            "■■■　　■■■■■　　　■　　■■■　　■■■　■■■　　\n",
            "■■■■■　■■■■　■■■■人■■　　■■■■■■■■■■\n",
            "　■■■■■■■■　■　　■■　■　■■■■　　■■　■　■\n",
            "■■　■■　　　　　■■■　■■　　　■■■■■　■■■■　\n",
            "　■　　　■　■　　■　■■　■■　　■■■■　■■　■■　\n",
            "■■　　■■■■■■■■　■■　■　　■　■　■　■　■■　\n",
            "■　■■　■■　■■　■■■■　　■■■■　　　■　　　■■\n",
            "　■■■■■■■　　■■　■■　　■■■　　　■　■■　　■\n",
            "■■　■　■■　■■　■■　■　■■■■　　　　■■　　■■\n",
            "■■　■　　■■■　■■■■■　■　■　■　■■■　■■■■\n",
            "　　　■　　　　　　■　　　■■■■　■■　■■■　■■　■\n",
            "　　　　　■■■■　■■　　　　　■■　　　　　　■■■　■\n",
            "■■■　■■　　■■■■　■■　　■■　　■■　■■■■■■\n",
            "■■■　　　■■　　　　　　　■　■　　■■　■■　　　■■\n",
            "■　■■■　　　■■■■　■■　■■　　■　　■■■　■　■\n",
            "　■■　　■　　■■■　■■■■　■■■■　■■■　■■　■\n"
          ]
        }
      ]
    },
    {
      "cell_type": "markdown",
      "source": [
        "### マップについて描画の部分を関数にしてみよう\n",
        "\n"
      ],
      "metadata": {
        "id": "fMkIQVUJ2cQd"
      }
    },
    {
      "cell_type": "code",
      "source": [
        "import random\n",
        "difficulty = 50\n",
        "\n",
        "def Map_Draw(map): ## この関数は、30×30の配列を与えると描画します。\n",
        "    map[15][15] = -1\n",
        "    for m in map:\n",
        "        for i in m:\n",
        "            if i > difficulty:\n",
        "                print(\"■\",end = \"\") ## 壁の役割　しかく入力して変換\n",
        "            elif i == -1:\n",
        "                print(\"人\",end = \"\") ## 人の役割　人\n",
        "            else:\n",
        "                print(\"　\",end = \"\") ## 道の役割　全角スペース\n",
        "        print(\"\")\n",
        "\n",
        "map = [[random.randint(0,100) for _ in range(30)] for _ in range(30)]\n",
        "\n",
        "Map_Draw(map)"
      ],
      "metadata": {
        "colab": {
          "base_uri": "https://localhost:8080/"
        },
        "id": "rApdkfuI2kTn",
        "outputId": "c86724c1-4abe-432f-b4b6-9a2c48402395"
      },
      "execution_count": null,
      "outputs": [
        {
          "output_type": "stream",
          "name": "stdout",
          "text": [
            "　■■　　■■　　　　■■　■■■■　■　■　■　■■　　　\n",
            "■■■■■■■■■■　■■■■　■　　　　　　■■　■　　■\n",
            "　　　　■　　　■■　■■　　■■　■　　■■■■　　■　　\n",
            "■■　　■　■■■■■　　　　■　■　■　■　■■■■　　　\n",
            "■■■■　　■■■　■　　■　　　　■■■■　■　■■■■■\n",
            "　■■■　■　■　■■　　　　　■■　■　■■■■　■　■■\n",
            "　■　　■■　■■　■　■　　　　　■■　　　■　　■■　■\n",
            "　　■　■■　■■　■■　■　　　■　■　　■　■■■　■　\n",
            "■■　■　　■■　　　■　　　■■　■　■■　■　　■　　■\n",
            "　　■　　　　■　　　■　　■■　■■　　　■　■■■■■■\n",
            "　　　　　■　　　■　　■■■■　　■■■　■　■　　　　■\n",
            "　　　■■　　■　　■■■■　■　　　■　　　　　　　　　■\n",
            "■■■　　　　■■■　　■　　　　　■　■　■　　　■■　■\n",
            "　　■　■　　■　　■　■　■　■　■　■　　■■■■　■■\n",
            "■　　　■　■　■　■　■■■■　　■■　■　■■　　■　　\n",
            "■■　■■　■■　　　　　■■人■　　　　■■　　　■■■■\n",
            "　　　■　■　■　■　■■■■　■■　■　　■　　■■　■■\n",
            "■■■　■■■■■■■　■　■　■　　　　　■■　■　■　■\n",
            "　　　　■■　■　　■　■　■　　■■　■■　　　■　■■　\n",
            "■■■■　　■■　　■　　　■■　　　■■　■■　　　　■■\n",
            "■　　　　　　■　　■　　■　　　　■■　　　■■■　■■■\n",
            "　　■　■■　　■■■　　　■　　■■■■　　　　■　■■　\n",
            "　　■■　　■　■■　■　　■■■■　　　　■　　■■■■■\n",
            "■　　　■■　　■　　■■■■　　　■　　　　■　　　　　　\n",
            "■■　　■　　　　■　　■　　■　　　■■　　■　　■■■■\n",
            "　■　■■　　　■■　■　■　　　　　　　■■■　■　　■　\n",
            "　■　　　■■■　■　■■　■　　　■　　　　■■■■　　　\n",
            "■　　■■　■　■■■　■　　　　　■■■　■■　　　　　■\n",
            "　■　■■■■■■　■■　　■　　■■■　■　　　　　■　　\n",
            "■　■■■　　■■■■■■■■■■■　　■　　　　　　　■　\n"
          ]
        }
      ]
    },
    {
      "cell_type": "markdown",
      "source": [
        "## マップの移動モジュールを作ろう\n",
        "とりあえず、main関数に入れます。"
      ],
      "metadata": {
        "id": "gXYrZFgf5hyu"
      }
    },
    {
      "cell_type": "code",
      "source": [
        "import random\n",
        "difficulty = 50\n",
        "\n",
        "def main():\n",
        "    map = [[random.randint(0,100) for _ in range(30)] for _ in range(30)]\n",
        "    Map_Draw(map)\n",
        "\n",
        "def Map_Draw(map): ## この関数は、30×30の配列を与えると描画します。\n",
        "    map[15][15] = -1\n",
        "    for m in map:\n",
        "        for i in m:\n",
        "            if i > difficulty:\n",
        "                print(\"■\",end = \"\") ## 壁の役割\n",
        "            elif i == -1:\n",
        "                print(\"人\",end = \"\") ## 人の役割\n",
        "            else:\n",
        "                print(\"　\",end = \"\") ## 道の役割\n",
        "        print(\"\")\n",
        "\n",
        "if __name__ == \"__main__\":\n",
        "    main()"
      ],
      "metadata": {
        "colab": {
          "base_uri": "https://localhost:8080/"
        },
        "id": "E4gHoeFW8Ez6",
        "outputId": "6801ac34-2115-43b1-813c-ec38b0f7c086"
      },
      "execution_count": null,
      "outputs": [
        {
          "output_type": "stream",
          "name": "stdout",
          "text": [
            "￣■￣■■■■￣■■■\n",
            "￣￣■■￣￣￣■■■■\n",
            "￣￣■￣￣■■■￣￣■\n",
            "￣■￣■■■￣■■￣￣\n",
            "■￣■￣■￣￣■￣￣■\n",
            "￣￣■■■人■￣■￣￣\n",
            "■■￣￣■￣■■■■￣\n",
            "■■■■￣■￣￣■￣￣\n",
            "￣￣￣■■■■￣■■■\n",
            "￣■■■■￣■■■■■\n",
            "■■■■￣■■￣￣￣￣\n"
          ]
        }
      ]
    },
    {
      "cell_type": "markdown",
      "source": [
        "### ゲームをループに入れよう"
      ],
      "metadata": {
        "id": "-jGJ1HlQ8fCa"
      }
    },
    {
      "cell_type": "code",
      "source": [
        "import random\n",
        "difficulty = 50\n",
        "\n",
        "def Map_Draw(map): ## この関数は、30×30の配列を与えると描画します。\n",
        "    map[15][15] = -1\n",
        "\n",
        "    for m in map:\n",
        "        for i in m:\n",
        "            if i > difficulty:\n",
        "                print(\"■\",end = \"\") ## 壁の役割\n",
        "            elif i == -1:\n",
        "                print(\"人\",end = \"\") ## 人の役割\n",
        "            else:\n",
        "                print(\"　\",end = \"\") ## 道の役割\n",
        "        print(\"\")\n",
        "\n",
        "def main():\n",
        "    key = \"Start\"\n",
        "    map = [[random.randint(0,100) for i in range(30)] for j in range(30)]\n",
        "    while key != \"e\":\n",
        "        print(\"入力:\",key)\n",
        "        key = input()\n",
        "        Map_Draw(map)\n",
        "\n",
        "if __name__ == \"__main__\":\n",
        "    main()"
      ],
      "metadata": {
        "colab": {
          "base_uri": "https://localhost:8080/"
        },
        "id": "LCDG9_jG8eDy",
        "outputId": "977d9785-78c5-4de7-b61d-8ed06c58ba11"
      },
      "execution_count": null,
      "outputs": [
        {
          "output_type": "stream",
          "name": "stdout",
          "text": [
            "あなたの入力は Start です\n",
            "r\n",
            "￣■￣￣￣■■￣■■\n",
            "￣■￣■■￣■￣■￣\n",
            "■￣￣■￣￣￣￣■■\n",
            "■￣■■■■■■￣￣\n",
            "￣￣■■￣￣￣■■￣\n",
            "￣￣￣￣人￣■■■￣\n",
            "￣■■￣￣■￣￣￣■\n",
            "■￣￣￣￣￣￣￣■￣\n",
            "■￣￣■￣■￣■￣￣\n",
            "■■■■￣￣￣￣￣￣\n",
            "あなたの入力は r です\n",
            "e\n",
            "￣■￣￣￣■■￣■■\n",
            "￣■￣■■￣■￣■￣\n",
            "■￣￣■￣￣￣￣■■\n",
            "■￣■■■■■■￣￣\n",
            "￣￣■■￣￣￣■■￣\n",
            "￣￣￣￣人￣■■■￣\n",
            "￣■■￣￣■￣￣￣■\n",
            "■￣￣￣￣￣￣￣■￣\n",
            "■￣￣■￣■￣■￣￣\n",
            "■■■■￣￣￣￣￣￣\n"
          ]
        }
      ]
    },
    {
      "cell_type": "markdown",
      "source": [
        "### 上に進む処理を追加しよう\n",
        "\n",
        "上に進むとは、map配列全体を下向きにずらせば良い。その関数を用意する。"
      ],
      "metadata": {
        "id": "8aDXYn_071Kz"
      }
    },
    {
      "cell_type": "code",
      "source": [
        "import random\n",
        "difficulty = 50\n",
        "\n",
        "def Map_Draw(map): ## この関数は、30×30の配列を与えると描画します。\n",
        "    map[15][15] = -1\n",
        "\n",
        "    for m in map:\n",
        "        for i in m:\n",
        "            if i > difficulty:\n",
        "                print(\"■\",end = \"\") ## 壁の役割\n",
        "            elif i == -1:\n",
        "                print(\"人\",end = \"\") ## 人の役割\n",
        "            else:\n",
        "                print(\"　\",end = \"\") ## 道の役割\n",
        "        print(\"\")\n",
        "\n",
        "def Up_Move(map):\n",
        "    map_add = [random.randint(0,100) for _ in range(30)]\n",
        "    map.insert(0,map_add)\n",
        "    map.pop(30)\n",
        "    return map\n",
        "\n",
        "def main():\n",
        "    key = \"Start\"\n",
        "    map = [[random.randint(0,100) for i in range(30)] for j in range(30)]\n",
        "    while key != \"e\":\n",
        "        print(\"入力:\",key)\n",
        "        key = input()\n",
        "        Map_Draw(map)\n",
        "\n",
        "if __name__ == \"__main__\":\n",
        "    main()"
      ],
      "metadata": {
        "id": "MYA2LT7N9bSH"
      },
      "execution_count": null,
      "outputs": []
    },
    {
      "cell_type": "markdown",
      "source": [
        "### wを入力した時、Up_Moveが実行されるようにしよう。"
      ],
      "metadata": {
        "id": "LgUcFeT_9Qr1"
      }
    },
    {
      "cell_type": "code",
      "source": [
        "import random\n",
        "difficulty = 50\n",
        "\n",
        "def Map_Draw(map): ## この関数は、30×30の配列を与えると描画します。\n",
        "    map[15][15] = -1\n",
        "\n",
        "    for m in map:\n",
        "        for i in m:\n",
        "            if i > difficulty:\n",
        "                print(\"■\",end = \"\") ## 壁の役割\n",
        "            elif i == -1:\n",
        "                print(\"人\",end = \"\") ## 人の役割\n",
        "            else:\n",
        "                print(\"　\",end = \"\") ## 道の役割\n",
        "        print(\"\")\n",
        "\n",
        "def Up_Move(map): ## この関数は、マップ全体を下向きに移動させて、相対的にキャラクターが上に行きます。\n",
        "    map_add = [random.randint(0,100) for _ in range(30)] ## map配列の一番先頭に追加するためのリストの生成\n",
        "    map.insert(0,map_add)\n",
        "    map.pop(30) ## 先頭に配列を追加したので、最後の行を減らして、配列数をキープします。\n",
        "    return map\n",
        "\n",
        "def main():\n",
        "    key = \"Start\"\n",
        "    map = [[random.randint(0,100) for i in range(30)] for j in range(30)]\n",
        "    while key != \"e\":\n",
        "        print(\"入力:\",key)\n",
        "        key = input()\n",
        "        if key == \"w\":\n",
        "            map = Up_Move(map)\n",
        "        Map_Draw(map)\n",
        "\n",
        "if __name__ == \"__main__\":\n",
        "    main()"
      ],
      "metadata": {
        "colab": {
          "base_uri": "https://localhost:8080/",
          "height": 867
        },
        "id": "KNbKAy2N9apV",
        "outputId": "1d4a3546-a1ca-4c20-bd8c-9414184bfc21"
      },
      "execution_count": null,
      "outputs": [
        {
          "output_type": "stream",
          "name": "stdout",
          "text": [
            "あなたの入力は Start です\n",
            "a\n",
            "■■■■■￣￣￣■■■\n",
            "￣■￣■￣￣￣■■￣￣\n",
            "■■■■■￣■■￣￣■\n",
            "■■￣￣■■■￣￣■■\n",
            "■￣￣■■￣■■￣■￣\n",
            "■￣■■■人￣■￣■￣\n",
            "￣￣￣￣￣￣■￣■￣■\n",
            "￣■■￣■￣■■■￣■\n",
            "■■■￣■■■■￣■■\n",
            "￣■￣■■■￣■￣￣￣\n",
            "■■■￣￣￣￣￣￣￣■\n",
            "あなたの入力は a です\n",
            "w\n",
            "■■■■■￣■■■￣■\n",
            "■■■■■￣￣￣■■■\n",
            "￣■￣■￣￣￣■■￣￣\n",
            "■■■■■￣■■￣￣■\n",
            "■■￣￣■■■￣￣■■\n",
            "■￣￣■■人■■￣■￣\n",
            "■￣■■■■￣■￣■￣\n",
            "￣￣￣￣￣￣■￣■￣■\n",
            "￣■■￣■￣■■■￣■\n",
            "■■■￣■■■■￣■■\n",
            "￣■￣■■■￣■￣￣￣\n",
            "あなたの入力は w です\n"
          ]
        },
        {
          "output_type": "error",
          "ename": "KeyboardInterrupt",
          "evalue": "ignored",
          "traceback": [
            "\u001b[0;31m---------------------------------------------------------------------------\u001b[0m",
            "\u001b[0;31mKeyboardInterrupt\u001b[0m                         Traceback (most recent call last)",
            "\u001b[0;32m<ipython-input-5-6d521edaa935>\u001b[0m in \u001b[0;36m<cell line: 39>\u001b[0;34m()\u001b[0m\n\u001b[1;32m     38\u001b[0m \u001b[0;34m\u001b[0m\u001b[0m\n\u001b[1;32m     39\u001b[0m \u001b[0;32mif\u001b[0m \u001b[0m__name__\u001b[0m \u001b[0;34m==\u001b[0m \u001b[0;34m\"__main__\"\u001b[0m\u001b[0;34m:\u001b[0m\u001b[0;34m\u001b[0m\u001b[0;34m\u001b[0m\u001b[0m\n\u001b[0;32m---> 40\u001b[0;31m     \u001b[0mmain\u001b[0m\u001b[0;34m(\u001b[0m\u001b[0;34m)\u001b[0m\u001b[0;34m\u001b[0m\u001b[0;34m\u001b[0m\u001b[0m\n\u001b[0m",
            "\u001b[0;32m<ipython-input-5-6d521edaa935>\u001b[0m in \u001b[0;36mmain\u001b[0;34m()\u001b[0m\n\u001b[1;32m      6\u001b[0m     \u001b[0;32mwhile\u001b[0m \u001b[0mkey\u001b[0m \u001b[0;34m!=\u001b[0m \u001b[0;34m\"e\"\u001b[0m\u001b[0;34m:\u001b[0m\u001b[0;34m\u001b[0m\u001b[0;34m\u001b[0m\u001b[0m\n\u001b[1;32m      7\u001b[0m         \u001b[0mprint\u001b[0m\u001b[0;34m(\u001b[0m\u001b[0;34m\"あなたの入力は\"\u001b[0m\u001b[0;34m,\u001b[0m\u001b[0mkey\u001b[0m\u001b[0;34m,\u001b[0m\u001b[0;34m\"です\"\u001b[0m\u001b[0;34m)\u001b[0m\u001b[0;34m\u001b[0m\u001b[0;34m\u001b[0m\u001b[0m\n\u001b[0;32m----> 8\u001b[0;31m         \u001b[0mkey\u001b[0m \u001b[0;34m=\u001b[0m \u001b[0minput\u001b[0m\u001b[0;34m(\u001b[0m\u001b[0;34m)\u001b[0m\u001b[0;34m\u001b[0m\u001b[0;34m\u001b[0m\u001b[0m\n\u001b[0m\u001b[1;32m      9\u001b[0m         \u001b[0;32mif\u001b[0m \u001b[0mkey\u001b[0m \u001b[0;34m==\u001b[0m \u001b[0;34m\"w\"\u001b[0m\u001b[0;34m:\u001b[0m\u001b[0;34m\u001b[0m\u001b[0;34m\u001b[0m\u001b[0m\n\u001b[1;32m     10\u001b[0m             \u001b[0mmap\u001b[0m \u001b[0;34m=\u001b[0m \u001b[0mUp_Move\u001b[0m\u001b[0;34m(\u001b[0m\u001b[0mmap\u001b[0m\u001b[0;34m)\u001b[0m\u001b[0;34m\u001b[0m\u001b[0;34m\u001b[0m\u001b[0m\n",
            "\u001b[0;32m/usr/local/lib/python3.10/dist-packages/ipykernel/kernelbase.py\u001b[0m in \u001b[0;36mraw_input\u001b[0;34m(self, prompt)\u001b[0m\n\u001b[1;32m    849\u001b[0m                 \u001b[0;34m\"raw_input was called, but this frontend does not support input requests.\"\u001b[0m\u001b[0;34m\u001b[0m\u001b[0;34m\u001b[0m\u001b[0m\n\u001b[1;32m    850\u001b[0m             )\n\u001b[0;32m--> 851\u001b[0;31m         return self._input_request(str(prompt),\n\u001b[0m\u001b[1;32m    852\u001b[0m             \u001b[0mself\u001b[0m\u001b[0;34m.\u001b[0m\u001b[0m_parent_ident\u001b[0m\u001b[0;34m,\u001b[0m\u001b[0;34m\u001b[0m\u001b[0;34m\u001b[0m\u001b[0m\n\u001b[1;32m    853\u001b[0m             \u001b[0mself\u001b[0m\u001b[0;34m.\u001b[0m\u001b[0m_parent_header\u001b[0m\u001b[0;34m,\u001b[0m\u001b[0;34m\u001b[0m\u001b[0;34m\u001b[0m\u001b[0m\n",
            "\u001b[0;32m/usr/local/lib/python3.10/dist-packages/ipykernel/kernelbase.py\u001b[0m in \u001b[0;36m_input_request\u001b[0;34m(self, prompt, ident, parent, password)\u001b[0m\n\u001b[1;32m    893\u001b[0m             \u001b[0;32mexcept\u001b[0m \u001b[0mKeyboardInterrupt\u001b[0m\u001b[0;34m:\u001b[0m\u001b[0;34m\u001b[0m\u001b[0;34m\u001b[0m\u001b[0m\n\u001b[1;32m    894\u001b[0m                 \u001b[0;31m# re-raise KeyboardInterrupt, to truncate traceback\u001b[0m\u001b[0;34m\u001b[0m\u001b[0;34m\u001b[0m\u001b[0m\n\u001b[0;32m--> 895\u001b[0;31m                 \u001b[0;32mraise\u001b[0m \u001b[0mKeyboardInterrupt\u001b[0m\u001b[0;34m(\u001b[0m\u001b[0;34m\"Interrupted by user\"\u001b[0m\u001b[0;34m)\u001b[0m \u001b[0;32mfrom\u001b[0m \u001b[0;32mNone\u001b[0m\u001b[0;34m\u001b[0m\u001b[0;34m\u001b[0m\u001b[0m\n\u001b[0m\u001b[1;32m    896\u001b[0m             \u001b[0;32mexcept\u001b[0m \u001b[0mException\u001b[0m \u001b[0;32mas\u001b[0m \u001b[0me\u001b[0m\u001b[0;34m:\u001b[0m\u001b[0;34m\u001b[0m\u001b[0;34m\u001b[0m\u001b[0m\n\u001b[1;32m    897\u001b[0m                 \u001b[0mself\u001b[0m\u001b[0;34m.\u001b[0m\u001b[0mlog\u001b[0m\u001b[0;34m.\u001b[0m\u001b[0mwarning\u001b[0m\u001b[0;34m(\u001b[0m\u001b[0;34m\"Invalid Message:\"\u001b[0m\u001b[0;34m,\u001b[0m \u001b[0mexc_info\u001b[0m\u001b[0;34m=\u001b[0m\u001b[0;32mTrue\u001b[0m\u001b[0;34m)\u001b[0m\u001b[0;34m\u001b[0m\u001b[0;34m\u001b[0m\u001b[0m\n",
            "\u001b[0;31mKeyboardInterrupt\u001b[0m: Interrupted by user"
          ]
        }
      ]
    },
    {
      "cell_type": "markdown",
      "source": [
        "### 画面描画のリフレッシュ\n",
        "\n",
        "IPython.displayモジュールのclear_output関数を使って実装します。"
      ],
      "metadata": {
        "id": "COksaXqnAtXz"
      }
    },
    {
      "cell_type": "code",
      "source": [
        "import random\n",
        "from IPython.display import clear_output\n",
        "difficulty = 50\n",
        "\n",
        "def Map_Draw(map): ## この関数は、30×30の配列を与えると描画します。\n",
        "    map[15][15] = -1\n",
        "\n",
        "    for m in map:\n",
        "        for i in m:\n",
        "            if i > difficulty:\n",
        "                print(\"■\",end = \"\") ## 壁の役割\n",
        "            elif i == -1:\n",
        "                print(\"人\",end = \"\") ## 人の役割\n",
        "            else:\n",
        "                print(\"　\",end = \"\") ## 道の役割\n",
        "        print(\"\")\n",
        "\n",
        "def Up_Move(map): ## この関数は、マップ全体を下向きに移動させて、相対的にキャラクターが上に行きます。\n",
        "    map_add = [random.randint(0,100) for _ in range(30)] ## map配列の一番先頭に追加するためのリストの生成\n",
        "    map.insert(0,map_add)\n",
        "    map.pop(30) ## 先頭に配列を追加したので、最後の行を減らして、配列数をキープします。\n",
        "    return map\n",
        "\n",
        "def main():\n",
        "    key = \"Start\"\n",
        "    map = [[random.randint(0,100) for i in range(30)] for j in range(30)]\n",
        "    while key != \"e\":\n",
        "        clear_output()\n",
        "        print(\"入力:\",key)\n",
        "        key = input()\n",
        "        if key == \"w\":\n",
        "            map = Up_Move(map)\n",
        "        Map_Draw(map)\n",
        "\n",
        "if __name__ == \"__main__\":\n",
        "    main()"
      ],
      "metadata": {
        "colab": {
          "base_uri": "https://localhost:8080/"
        },
        "id": "Vw0lJnGtBu3t",
        "outputId": "120ac93f-8740-4ef8-8c4c-b8754d9fd34c"
      },
      "execution_count": null,
      "outputs": [
        {
          "output_type": "stream",
          "name": "stdout",
          "text": [
            "入力: q\n",
            "e\n",
            "■■　■　■■■■■　■■　■　　■■■　■　■　　　　　　\n",
            "　■■　■■　　　　　■■　■　■■■　■　■■■　■■■■\n",
            "　■■■　　■■　　■　■■　　■■　■　　■　　■■　■■\n",
            "　■　■■■■　　　■　　■■　■■　■　　　　■　■　　■\n",
            "　　■　　■　　　■■■■■■■■　■■　■■■　　■　■■\n",
            "　■　　　■　　■　　■　■■　■■　■■■　　　　　■■　\n",
            "　■■■■■　■■　■　■　　　■■■■■■■■■　■　■■\n",
            "■■■　■　■■■　　■■■　　　　　　■　　■　■■　■■\n",
            "　　■■■■　　■■　　■■■　■　　■　■　■■■　■　　\n",
            "■■■　■■　　　　■　■　　　■■　■■■　　　　■■　■\n",
            "■■　■　　■　■■■　■■■　■　　　■■■　■■■■■　\n",
            "　■■　■　■　　　■　　■　　■■　　　　■■　　■　　　\n",
            "　　■　■　　　　　　■　　■　　■　　■　　■■■　　　　\n",
            "　　■　　　■■　■　　■■■■■　■■■■　■　　■■■　\n",
            "■■　■■　■　■　　　■　■　■■■■　■■　　　　■　　\n",
            "　■　■　　■　　■　■　■　人　　■　■■■■　　　■■■\n",
            "■　■　　■　　　■■■■■　人■■　　　　■■　■　　　　\n",
            "■■　　　■　　　　　■■　■人■　■■　　■■■　■　■　\n",
            "■■■■■　■■■　　　■■■　　　■　■■　　■■■　■■\n",
            "　　　■■　■■■■■■■■■■　■　■■■■　　　　■　　\n",
            "■■　　　■■　■　　　　　　　　■■■■　　■■　　■　■\n",
            "　　　　　■　■　　■　　　■　■■　■■■　　　　■　　　\n",
            "■■　■　　　　■■■■　　■　■■■　　　■　　　■■　　\n",
            "　■　■■　　　　　　■■■■■■　　　■　■■■　　　　■\n",
            "　■　　　　■■■　■　■　　　　　■　■　　■　　■■■　\n",
            "　　　■■■　■　■　　■　　■■■　■　■■■■■　■　　\n",
            "　　■　　■■　■　■　　■　　　■■　　　■■　　■　■　\n",
            "　　■　■■■　　　■　　■　　■　■■■■　　■　　　　　\n",
            "■■■■　　　■■　■　■　　■　■　■■■■■　■　■　　\n",
            "■　■　　■　■　■■■■　　■■■■■■　■　　■　　■　\n"
          ]
        }
      ]
    },
    {
      "cell_type": "markdown",
      "source": [
        "### デバッグ（上手に表示する方法）\n",
        "\n",
        "今回、うまくいかないのは、画面をクリアするタイミングが悪い\n",
        "\n",
        "順番を考えると以下のようにする必要がある。\n",
        "\n",
        "1. 入力キーの表示\n",
        "\n",
        "2. mapの表示\n",
        "\n",
        "3. 入力\n",
        "\n",
        "4. 画面のクリア"
      ],
      "metadata": {
        "id": "kJ5mrofgCN8U"
      }
    },
    {
      "cell_type": "code",
      "source": [
        "import random\n",
        "from IPython.display import clear_output\n",
        "difficulty = 50\n",
        "\n",
        "def Map_Draw(map): ## この関数は、30×30の配列を与えると描画します。\n",
        "    map[15][15] = -1\n",
        "\n",
        "    for m in map:\n",
        "        for i in m:\n",
        "            if i > difficulty:\n",
        "                print(\"■\",end = \"\") ## 壁の役割\n",
        "            elif i == -1:\n",
        "                print(\"人\",end = \"\") ## 人の役割\n",
        "            else:\n",
        "                print(\"　\",end = \"\") ## 道の役割\n",
        "        print(\"\")\n",
        "\n",
        "def Up_Move(map): ## この関数は、マップ全体を下向きに移動させて、相対的にキャラクターが上に行きます。\n",
        "    map_add = [random.randint(0,100) for _ in range(30)] ## map配列の一番先頭に追加するためのリストの生成\n",
        "    map.insert(0,map_add)\n",
        "    map.pop(30) ## 先頭に配列を追加したので、最後の行を減らして、配列数をキープします。\n",
        "    return map\n",
        "\n",
        "def main():\n",
        "    key = \"Start\"\n",
        "    map = [[random.randint(0,100) for i in range(30)] for j in range(30)]\n",
        "    while key != \"e\":\n",
        "        print(\"入力:\",key)\n",
        "        Map_Draw(map)\n",
        "\n",
        "        key = input()\n",
        "        if key == \"w\":\n",
        "            map = Up_Move(map)\n",
        "        clear_output()\n",
        "\n",
        "\n",
        "if __name__ == \"__main__\":\n",
        "    main()"
      ],
      "metadata": {
        "id": "IPSLPqTSCZ97"
      },
      "execution_count": null,
      "outputs": []
    },
    {
      "cell_type": "markdown",
      "source": [
        "### マップの描画範囲を狭めよう"
      ],
      "metadata": {
        "id": "hEOVwF_z3fFx"
      }
    },
    {
      "cell_type": "code",
      "source": [
        "import random\n",
        "from IPython.display import clear_output\n",
        "difficulty = 50\n",
        "\n",
        "def Map_Draw(map): ## この関数は、30×30の配列を与えると描画します。\n",
        "    map[15][15] = -1\n",
        "    trim_map = []\n",
        "    for i in range(10,21):\n",
        "        map_list = []\n",
        "        for j in range(10,21):\n",
        "            map_list.append(map[i][j])\n",
        "        trim_map.append(map_list)\n",
        "    for m in trim_map:\n",
        "        for i in m:\n",
        "            if i > difficulty:\n",
        "                print(\"■\",end = \"\") ## 壁の役割\n",
        "            elif i == -1:\n",
        "                print(\"人\",end = \"\") ## 人の役割\n",
        "            else:\n",
        "                print(\"　\",end = \"\") ## 道の役割\n",
        "        print(\"\")\n",
        "\n",
        "def Up_Move(map): ## この関数は、マップ全体を下向きに移動させて、相対的にキャラクターが上に行きます。\n",
        "    map_add = [random.randint(0,100) for _ in range(30)] ## map配列の一番先頭に追加するためのリストの生成\n",
        "    map.insert(0,map_add)\n",
        "    map.pop(30) ## 先頭に配列を追加したので、最後の行を減らして、配列数をキープします。\n",
        "    return map\n",
        "\n",
        "def main():\n",
        "    key = \"Start\"\n",
        "    map = [[random.randint(0,100) for i in range(30)] for j in range(30)]\n",
        "    while key != \"e\":\n",
        "        print(\"入力:\",key)\n",
        "        Map_Draw(map)\n",
        "\n",
        "        key = input()\n",
        "        if key == \"w\":\n",
        "            map = Up_Move(map)\n",
        "        clear_output()\n",
        "\n",
        "\n",
        "if __name__ == \"__main__\":\n",
        "    main()"
      ],
      "metadata": {
        "id": "-2LKJtsP3kAh"
      },
      "execution_count": null,
      "outputs": []
    },
    {
      "cell_type": "markdown",
      "source": [
        "### 移動した後の道を壁にしよう\n",
        "現在、mapのインデックス番号は０～２９です。\n",
        "\n",
        "そのうち表示されているのは、１０～２０の計１１個\n",
        "\n",
        "１０，１１，１２，１３，１４\n",
        "\n",
        "１５，１６，１７，１８，１９，２０\n",
        "\n",
        "ここで、人が表示されているのは\n",
        "\n",
        "インデックス番号５なので\n",
        "\n",
        "map[15][15]である。\n"
      ],
      "metadata": {
        "id": "b9WF43SE5pqn"
      }
    },
    {
      "cell_type": "code",
      "source": [
        "import random\n",
        "from IPython.display import clear_output\n",
        "difficulty = 50\n",
        "\n",
        "def Map_Draw(map): ## この関数は、30×30の配列を与えると描画します。\n",
        "    map[15][15] = -1\n",
        "    trim_map = []\n",
        "    for i in range(10,21):\n",
        "        map_list = []\n",
        "        for j in range(10,21):\n",
        "            map_list.append(map[i][j])\n",
        "        trim_map.append(map_list)\n",
        "    for m in trim_map:\n",
        "        for i in m:\n",
        "            if i > difficulty:\n",
        "                print(\"■\",end = \"\") ## 壁の役割\n",
        "            elif i == -1:\n",
        "                print(\"人\",end = \"\") ## 人の役割\n",
        "                map[15][15] = 100    ## 変更した箇所\n",
        "            else:\n",
        "                print(\"　\",end = \"\") ## 道の役割\n",
        "        print(\"\")\n",
        "\n",
        "def Up_Move(map): ## この関数は、マップ全体を下向きに移動させて、相対的にキャラクターが上に行きます。\n",
        "    map_add = [random.randint(0,100) for _ in range(30)] ## map配列の一番先頭に追加するためのリストの生成\n",
        "    map.insert(0,map_add)\n",
        "    map.pop(30) ## 先頭に配列を追加したので、最後の行を減らして、配列数をキープします。\n",
        "    return map\n",
        "\n",
        "def main():\n",
        "    key = \"Start\"\n",
        "    map = [[random.randint(0,100) for i in range(30)] for j in range(30)]\n",
        "    while key != \"e\":\n",
        "        print(\"入力:\",key)\n",
        "        Map_Draw(map)\n",
        "\n",
        "        key = input()\n",
        "        if key == \"w\":\n",
        "            map = Up_Move(map)\n",
        "        clear_output()\n",
        "\n",
        "\n",
        "if __name__ == \"__main__\":\n",
        "    main()"
      ],
      "metadata": {
        "id": "8bn-vZDRkUbu"
      },
      "execution_count": null,
      "outputs": []
    },
    {
      "cell_type": "markdown",
      "source": [
        "### 下に進む処理を追加しよう"
      ],
      "metadata": {
        "id": "onLWjotep2k-"
      }
    },
    {
      "cell_type": "code",
      "source": [
        "import random\n",
        "from IPython.display import clear_output\n",
        "difficulty = 50\n",
        "\n",
        "def field_Draw(field): ## この関数は、30×30の配列を与えると描画します。\n",
        "    field[15][15] = -1\n",
        "    trim_field = []\n",
        "    for i in range(10,21):\n",
        "        field_list = []\n",
        "        for j in range(10,21):\n",
        "            field_list.append(field[i][j])\n",
        "        trim_field.append(field_list)\n",
        "    for m in trim_field:\n",
        "        for i in m:\n",
        "            if i > difficulty:\n",
        "                print(\"■\",end = \"\") ## 壁の役割\n",
        "            elif i == -1:\n",
        "                print(\"人\",end = \"\") ## 人の役割\n",
        "                field[15][15] = 100    ## 変更した箇所\n",
        "            else:\n",
        "                print(\"　\",end = \"\") ## 道の役割\n",
        "        print(\"\")\n",
        "    return field\n",
        "\n",
        "def Up_Move(field): ## この関数は、マップ全体を下向きに移動させて、相対的にキャラクターが上に行きます。\n",
        "    field_add = [random.randint(0,100) for _ in range(30)] ## field配列の一番先頭に追加するためのリストの生成\n",
        "    field.insert(0,field_add)\n",
        "    field.pop(30) ## 先頭に配列を追加したので、最後の行を減らして、配列数をキープします。\n",
        "    return field\n",
        "\n",
        "def Down_Move(field): ## この関数は、マップ全体を上向きに移動させて、相対的にキャラクターが上に行きます。\n",
        "    field_add = [random.randint(0,100) for _ in range(30)] ## field配列の一番最後に追加するためのリストの生成\n",
        "    field.insert(29,field_add)\n",
        "    field.pop(0) ## 最後に配列を追加したので、行を減らして、配列数をキープします。\n",
        "    return field\n",
        "\n",
        "def main():\n",
        "    key = \"Start\"\n",
        "    field = [[random.randint(0,100) for i in range(30)] for j in range(30)]\n",
        "    while key != \"e\":\n",
        "        print(\"入力:\",key)\n",
        "        field_Draw(field)\n",
        "\n",
        "        key = input()\n",
        "        if key == \"w\":\n",
        "            field = Up_Move(field)\n",
        "        clear_output()\n",
        "\n",
        "\n",
        "if __name__ == \"__main__\":\n",
        "    main()"
      ],
      "metadata": {
        "id": "KolXpUuZogil"
      },
      "execution_count": null,
      "outputs": []
    },
    {
      "cell_type": "markdown",
      "source": [
        "### sを入力したとき、Down_Moveが実行されるようにしよう\n",
        "\n",
        "ついでに、それ以外の入力はすべて終了にしています。"
      ],
      "metadata": {
        "id": "UzK6QrzWoZKm"
      }
    },
    {
      "cell_type": "code",
      "source": [
        "import random\n",
        "from IPython.display import clear_output\n",
        "difficulty = 50\n",
        "\n",
        "def field_Draw(field): ## この関数は、30×30の配列を与えると描画します。\n",
        "    field[15][15] = -1\n",
        "    trim_field = []\n",
        "    for i in range(10,21):\n",
        "        field_list = []\n",
        "        for j in range(10,21):\n",
        "            field_list.append(field[i][j])\n",
        "        trim_field.append(field_list)\n",
        "    for m in trim_field:\n",
        "        for i in m:\n",
        "            if i > difficulty:\n",
        "                print(\"■\",end = \"\") ## 壁の役割\n",
        "            elif i == -1:\n",
        "                print(\"人\",end = \"\") ## 人の役割\n",
        "                field[15][15] = 100    ## 変更した箇所\n",
        "            else:\n",
        "                print(\"　\",end = \"\") ## 道の役割\n",
        "        print(\"\")\n",
        "    return field\n",
        "\n",
        "def Up_Move(field): ## この関数は、マップ全体を下向きに移動させて、相対的にキャラクターが上に行きます。\n",
        "    field_add = [random.randint(0,100) for _ in range(30)] ## field配列の一番先頭に追加するためのリストの生成\n",
        "    print(field_add)\n",
        "    field.insert(0,field_add)\n",
        "    field.pop(30) ## 先頭に配列を追加したので、最後の行を減らして、配列数をキープします。\n",
        "    return field\n",
        "\n",
        "def Down_Move(field): ## この関数は、マップ全体を上向きに移動させて、相対的にキャラクターが上に行きます。\n",
        "    field_add = [random.randint(0,100) for _ in range(30)] ## field配列の一番最後に追加するためのリストの生成\n",
        "    print(field_add)\n",
        "    field.insert(29,field_add)\n",
        "    field.pop(0) ## 最後に配列を追加したので、行を減らして、配列数をキープします。\n",
        "    return field\n",
        "\n",
        "def main():\n",
        "    key = \"Start\"\n",
        "    field = [[random.randint(0,100) for i in range(30)] for j in range(30)]\n",
        "    while key != \"e\":\n",
        "        print(\"あなたの入力は\",key,\"です\")\n",
        "\n",
        "        field = field_Draw(field)\n",
        "\n",
        "        key = input()\n",
        "        if key == \"w\":\n",
        "            field = Up_Move(field)\n",
        "        elif key == \"s\":\n",
        "            field = Down_Move(field)\n",
        "        else:\n",
        "            break\n",
        "        clear_output()\n",
        "\n",
        "\n",
        "if __name__ == \"__main__\":\n",
        "    main()"
      ],
      "metadata": {
        "colab": {
          "base_uri": "https://localhost:8080/"
        },
        "id": "8PsbzsFOpNMM",
        "outputId": "e42b82ca-5344-4019-f9cf-41f2cc01f78d"
      },
      "execution_count": null,
      "outputs": [
        {
          "name": "stdout",
          "output_type": "stream",
          "text": [
            "あなたの入力は Start です\n",
            "￣■■￣■■￣￣￣￣￣\n",
            "■￣￣■■■￣￣■■￣\n",
            "￣￣■■￣￣￣￣■■￣\n",
            "■￣■￣￣￣■￣■￣■\n",
            "￣￣■■￣￣￣￣■￣■\n",
            "￣￣■■■人■￣￣￣￣\n",
            "■￣￣￣■￣■■■￣■\n",
            "■￣￣■■■■■■■■\n",
            "■■￣■■■￣■■■￣\n",
            "■￣■■■￣■■￣■￣\n",
            "■￣￣■■■￣■￣￣￣\n",
            "h\n"
          ]
        }
      ]
    },
    {
      "cell_type": "markdown",
      "source": [
        "### 左に進む処理を追加しよう"
      ],
      "metadata": {
        "id": "iPpDdFQnpwK1"
      }
    },
    {
      "cell_type": "code",
      "source": [
        "import random\n",
        "from IPython.display import clear_output\n",
        "difficulty = 50\n",
        "\n",
        "def field_Draw(field): ## この関数は、30×30の配列を与えると描画します。\n",
        "    field[15][15] = -1\n",
        "    trim_field = []\n",
        "    for i in range(10,21):\n",
        "        field_list = []\n",
        "        for j in range(10,21):\n",
        "            field_list.append(field[i][j])\n",
        "        trim_field.append(field_list)\n",
        "    for m in trim_field:\n",
        "        for i in m:\n",
        "            if i > difficulty:\n",
        "                print(\"■\",end = \"\") ## 壁の役割\n",
        "            elif i == -1:\n",
        "                print(\"人\",end = \"\") ## 人の役割\n",
        "                field[15][15] = 100    ## 変更した箇所\n",
        "            else:\n",
        "                print(\"　\",end = \"\") ## 道の役割\n",
        "        print(\"\")\n",
        "    return field\n",
        "\n",
        "def Up_Move(field): ## この関数は、マップ全体を下向きに移動させて、相対的にキャラクターが上に行きます。\n",
        "    field_add = [random.randint(0,100) for _ in range(30)] ## field配列の一番先頭に追加するためのリストの生成\n",
        "    print(field_add)\n",
        "    field.insert(0,field_add)\n",
        "    field.pop(30) ## 先頭に配列を追加したので、最後の行を減らして、配列数をキープします。\n",
        "    return field\n",
        "\n",
        "def Down_Move(field): ## この関数は、マップ全体を上向きに移動させて、相対的にキャラクターが上に行きます。\n",
        "    field_add = [random.randint(0,100) for _ in range(30)] ## field配列の一番最後に追加するためのリストの生成\n",
        "    print(field_add)\n",
        "    field.insert(29,field_add)\n",
        "    field.pop(0) ## 最後に配列を追加したので、行を減らして、配列数をキープします。\n",
        "    return field\n",
        "\n",
        "def Left_Move(map):\n",
        "    for row in map:\n",
        "        row.insert(0,random.randint(0,100))\n",
        "        row.pop(29)\n",
        "    return map\n",
        "\n",
        "def main():\n",
        "    key = \"Start\"\n",
        "    field = [[random.randint(0,100) for i in range(30)] for j in range(30)]\n",
        "    while key != \"e\":\n",
        "        print(\"あなたの入力は\",key,\"です\")\n",
        "\n",
        "        field = field_Draw(field)\n",
        "\n",
        "        key = input()\n",
        "        if key == \"w\":\n",
        "            field = Up_Move(field)\n",
        "        elif key == \"s\":\n",
        "            field = Down_Move(field)\n",
        "        else:\n",
        "            break\n",
        "        clear_output()\n",
        "\n",
        "\n",
        "if __name__ == \"__main__\":\n",
        "    main()"
      ],
      "metadata": {
        "colab": {
          "base_uri": "https://localhost:8080/"
        },
        "id": "ivoiyCE4qCWG",
        "outputId": "d4adbcef-3027-45ee-ae04-424cc005b562"
      },
      "execution_count": null,
      "outputs": [
        {
          "name": "stdout",
          "output_type": "stream",
          "text": [
            "あなたの入力は Start です\n",
            "■￣￣￣￣￣■￣￣■■\n",
            "￣￣￣￣￣￣■￣￣￣￣\n",
            "■■￣￣■■■■￣￣￣\n",
            "￣￣￣■■￣■■■￣￣\n",
            "■￣■■■￣■￣￣■■\n",
            "￣￣￣■■人￣￣￣■■\n",
            "￣￣￣￣■■￣￣￣■￣\n",
            "■■￣■■￣■￣￣￣￣\n",
            "￣■■￣■■￣￣￣■■\n",
            "￣■■￣￣￣■■￣■￣\n",
            "■■■■■￣￣■￣￣￣\n",
            "e\n"
          ]
        }
      ]
    },
    {
      "cell_type": "markdown",
      "source": [
        "### aを入力したとき、Left_Moveが実行されるようにしよう\n",
        "\n",
        "確認のため、drawに以下のコードを追加してみてください。\n",
        "\n",
        "~~~python\n",
        "for i in map:\n",
        "    print(i)\n",
        "~~~"
      ],
      "metadata": {
        "id": "-EpcdsfergJ9"
      }
    },
    {
      "cell_type": "code",
      "source": [
        "import random\n",
        "from IPython.display import clear_output\n",
        "difficulty = 50\n",
        "\n",
        "def field_Draw(field): ## この関数は、30×30の配列を与えると描画します。\n",
        "    field[15][15] = -1\n",
        "    trim_field = []\n",
        "    for i in range(10,21):\n",
        "        field_list = []\n",
        "        for j in range(10,21):\n",
        "            field_list.append(field[i][j])\n",
        "        trim_field.append(field_list)\n",
        "    for m in trim_field:\n",
        "        for i in m:\n",
        "            if i > difficulty:\n",
        "                print(\"■\",end = \"\") ## 壁の役割\n",
        "            elif i == -1:\n",
        "                print(\"人\",end = \"\") ## 人の役割\n",
        "                field[15][15] = 100    ## 変更した箇所\n",
        "            else:\n",
        "                print(\"　\",end = \"\") ## 道の役割\n",
        "        print(\"\")\n",
        "    for i in field:\n",
        "        print(i)\n",
        "    return field\n",
        "\n",
        "def Up_Move(field): ## この関数は、マップ全体を下向きに移動させて、相対的にキャラクターが上に行きます。\n",
        "    field_add = [random.randint(0,100) for _ in range(30)] ## field配列の一番先頭に追加するためのリストの生成\n",
        "    print(field_add)\n",
        "    field.insert(0,field_add)\n",
        "    field.pop(30) ## 先頭に配列を追加したので、最後の行を減らして、配列数をキープします。\n",
        "    return field\n",
        "\n",
        "def Down_Move(field): ## この関数は、マップ全体を上向きに移動させて、相対的にキャラクターが上に行きます。\n",
        "    field_add = [random.randint(0,100) for _ in range(30)] ## field配列の一番最後に追加するためのリストの生成\n",
        "    print(field_add)\n",
        "    field.insert(29,field_add)\n",
        "    field.pop(0) ## 最後に配列を追加したので、行を減らして、配列数をキープします。\n",
        "    return field\n",
        "\n",
        "def Left_Move(field):\n",
        "    for row in field:\n",
        "        row.insert(0,random.randint(0,100))\n",
        "        row.pop(29)\n",
        "    return field\n",
        "\n",
        "def main():\n",
        "    key = \"Start\"\n",
        "    field = [[random.randint(0,100) for i in range(30)] for j in range(30)]\n",
        "    while key != \"e\":\n",
        "        print(\"あなたの入力は\",key,\"です\")\n",
        "\n",
        "        field = field_Draw(field)\n",
        "\n",
        "        key = input()\n",
        "        if key == \"w\":\n",
        "            field = Up_Move(field)\n",
        "        elif key == \"s\":\n",
        "            field = Down_Move(field)\n",
        "        elif key == \"a\":\n",
        "            field = Left_Move(field)\n",
        "        else:\n",
        "            break\n",
        "        clear_output()\n",
        "\n",
        "\n",
        "if __name__ == \"__main__\":\n",
        "    main()"
      ],
      "metadata": {
        "colab": {
          "base_uri": "https://localhost:8080/"
        },
        "id": "KYxbVaIRr3_1",
        "outputId": "8ddb9f91-b05d-46a7-b07f-3e975136a036"
      },
      "execution_count": null,
      "outputs": [
        {
          "name": "stdout",
          "output_type": "stream",
          "text": [
            "あなたの入力は a です\n",
            "■￣■■￣■￣￣￣￣￣\n",
            "￣￣￣■■■￣■■■■\n",
            "■■￣￣￣■￣■■■■\n",
            "■■■■￣￣￣■￣￣￣\n",
            "■■￣￣￣■■￣■■■\n",
            "￣￣■■■人■■■■■\n",
            "■￣￣■￣■■￣￣￣■\n",
            "￣￣■■■￣■■■■￣\n",
            "■■■■■■￣￣■￣￣\n",
            "￣■￣■￣￣￣￣￣￣￣\n",
            "￣￣■■■￣￣￣￣￣■\n",
            "e\n"
          ]
        }
      ]
    },
    {
      "cell_type": "markdown",
      "source": [
        "### 右に進む処理を追加しよう"
      ],
      "metadata": {
        "id": "U5d3_8v4sqSb"
      }
    },
    {
      "cell_type": "code",
      "source": [
        "import random\n",
        "from IPython.display import clear_output\n",
        "\n",
        "def main():\n",
        "    key = \"Start\"\n",
        "    map = [[random.randint(0,100) for _ in range(30)] for _ in range(30)]\n",
        "    while key != \"e\":\n",
        "        print(\"あなたの入力は\",key,\"です\")\n",
        "\n",
        "        map = Map_Draw(map)\n",
        "\n",
        "        key = input()\n",
        "        if key == \"w\":\n",
        "            map = Up_Move(map)\n",
        "        elif key == \"s\":\n",
        "            map = Down_Move(map)\n",
        "        elif key == \"a\":\n",
        "            map = Left_Move(map)\n",
        "        else:\n",
        "            break\n",
        "        clear_output()\n",
        "\n",
        "def Up_Move(map): ## この関数は、マップ全体を下向きに移動させて、相対的にキャラクターが上に行きます。\n",
        "    map_add = [random.randint(0,100) for _ in range(30)] ## map配列の一番先頭に追加するためのリストの生成\n",
        "    map.insert(0,map_add)\n",
        "    map.pop(29) ## 先頭に配列を追加したので、最後の行を減らして、配列数をキープします。\n",
        "    return map\n",
        "\n",
        "def Down_Move(map): ## この関数は、マップ全体を上向きに移動させて、相対的にキャラクターが上に行きます。\n",
        "    map_add = [random.randint(0,100) for _ in range(30)] ## map配列の一番最後に追加するためのリストの生成\n",
        "    map.insert(29,map_add)\n",
        "    map.pop(0) ## 最後に配列を追加したので、行を減らして、配列数をキープします。\n",
        "    return map\n",
        "\n",
        "def Left_Move(map):\n",
        "    for row in map:\n",
        "        row.insert(0,random.randint(0,100))\n",
        "        row.pop(29)\n",
        "    return map\n",
        "\n",
        "def Right_Move(map):\n",
        "    for row in map:\n",
        "        row.insert(29,random.randint(0,100))\n",
        "        row.pop(0)\n",
        "    return map\n",
        "\n",
        "def Map_Draw(map): ## この関数は、30×30の配列を与えると描画します。\n",
        "    difficulty = 50\n",
        "    trim_map = []\n",
        "    for i in range(10,21):\n",
        "        map_list = []\n",
        "        for j in range(10,21):\n",
        "            map_list.append(map[i][j])\n",
        "        trim_map.append(map_list)\n",
        "    trim_map[5][5] = -1\n",
        "    for m in trim_map:\n",
        "        for i in m:\n",
        "            if i > difficulty:\n",
        "                print(\"■\",end = \"\") ## 壁の役割　しかく入力して変換\n",
        "            elif i == -1:\n",
        "                print(\"人\",end = \"\") ## 人の役割　人\n",
        "                map[15][15] = 100 ## 変更した箇所\n",
        "            else:\n",
        "                print(\"￣\",end = \"\") ## 道の役割　全角スペース\n",
        "        print(\"\")\n",
        "    return map\n",
        "\n",
        "if __name__ == \"__main__\":\n",
        "    main()"
      ],
      "metadata": {
        "id": "KrPvMpY9suUs"
      },
      "execution_count": null,
      "outputs": []
    },
    {
      "cell_type": "markdown",
      "source": [
        "### dが入力されたとき、Right_Moveが実行されるようにしよう"
      ],
      "metadata": {
        "id": "L1plTGTMs4gk"
      }
    },
    {
      "cell_type": "code",
      "source": [
        "import random\n",
        "from IPython.display import clear_output\n",
        "\n",
        "def main():\n",
        "    key = \"Start\"\n",
        "    map = [[random.randint(0,100) for _ in range(30)] for _ in range(30)]\n",
        "    while key != \"e\":\n",
        "        print(\"あなたの入力は\",key,\"です\")\n",
        "\n",
        "        map = Map_Draw(map)\n",
        "\n",
        "        key = input()\n",
        "        if key == \"w\":\n",
        "            map = Up_Move(map)\n",
        "        elif key == \"s\":\n",
        "            map = Down_Move(map)\n",
        "        elif key == \"a\":\n",
        "            map = Left_Move(map)\n",
        "        elif key == \"d\":\n",
        "            map = Right_Move(map)\n",
        "        else:\n",
        "            break\n",
        "\n",
        "        clear_output()\n",
        "\n",
        "def Up_Move(map): ## この関数は、マップ全体を下向きに移動させて、相対的にキャラクターが上に行きます。\n",
        "    map_add = [random.randint(0,100) for _ in range(30)] ## map配列の一番先頭に追加するためのリストの生成\n",
        "    map.insert(0,map_add)\n",
        "    map.pop(29) ## 先頭に配列を追加したので、最後の行を減らして、配列数をキープします。\n",
        "    return map\n",
        "\n",
        "def Down_Move(map): ## この関数は、マップ全体を上向きに移動させて、相対的にキャラクターが上に行きます。\n",
        "    map_add = [random.randint(0,100) for _ in range(30)] ## map配列の一番最後に追加するためのリストの生成\n",
        "    map.insert(29,map_add)\n",
        "    map.pop(0) ## 最後に配列を追加したので、行を減らして、配列数をキープします。\n",
        "    return map\n",
        "\n",
        "def Left_Move(map):\n",
        "    for row in map:\n",
        "        row.insert(0,random.randint(0,100))\n",
        "        row.pop(29)\n",
        "    return map\n",
        "\n",
        "def Right_Move(map):\n",
        "    for row in map:\n",
        "        row.insert(29,random.randint(0,100))\n",
        "        row.pop(0)\n",
        "    return map\n",
        "\n",
        "def Map_Draw(map): ## この関数は、30×30の配列を与えると描画します。\n",
        "    difficulty = 50\n",
        "    trim_map = []\n",
        "    for i in range(10,21):\n",
        "        map_list = []\n",
        "        for j in range(10,21):\n",
        "            map_list.append(map[i][j])\n",
        "        trim_map.append(map_list)\n",
        "    trim_map[5][5] = -1\n",
        "    for m in trim_map:\n",
        "        for i in m:\n",
        "            if i > difficulty:\n",
        "                print(\"■\",end = \"\") ## 壁の役割　しかく入力して変換\n",
        "            elif i == -1:\n",
        "                print(\"人\",end = \"\") ## 人の役割　人\n",
        "                map[15][15] = 100 ## 変更した箇所\n",
        "            else:\n",
        "                print(\"￣\",end = \"\") ## 道の役割　全角スペース\n",
        "        print(\"\")\n",
        "    return map\n",
        "\n",
        "if __name__ == \"__main__\":\n",
        "    main()"
      ],
      "metadata": {
        "colab": {
          "base_uri": "https://localhost:8080/"
        },
        "id": "lluCMR8jtBaS",
        "outputId": "69a4ab68-2e65-46c9-8994-38c114f1d5c7"
      },
      "execution_count": null,
      "outputs": [
        {
          "name": "stdout",
          "output_type": "stream",
          "text": [
            "あなたの入力は w です\n",
            "￣￣■■■￣￣■￣￣￣\n",
            "￣￣￣￣■■■￣■■■\n",
            "■■￣■￣￣￣■￣￣■\n",
            "￣￣￣￣￣￣￣■￣￣￣\n",
            "■■■￣￣￣■￣■■■\n",
            "■■■■￣人■■￣■￣\n",
            "■■■■■■￣￣■￣■\n",
            "■■￣■■■■￣￣■■\n",
            "■■■￣■■￣￣￣￣■\n",
            "■■￣■■■￣■■￣■\n",
            "■■￣￣■■￣■￣■￣\n",
            "q\n"
          ]
        }
      ]
    },
    {
      "cell_type": "markdown",
      "source": [
        "## 得点のカウント"
      ],
      "metadata": {
        "id": "i6Q4fYZftbds"
      }
    },
    {
      "cell_type": "code",
      "source": [
        "import random\n",
        "from IPython.display import clear_output\n",
        "\n",
        "def main():\n",
        "    key = \"Start\"\n",
        "    point_count = 0\n",
        "    map = [[random.randint(0,100) for _ in range(30)] for _ in range(30)]\n",
        "    while key != \"e\":\n",
        "        print(\"あなたの入力は\",key,\"です\")\n",
        "        print(\"あなたの点数は\",str(point_count),\"点です\")\n",
        "        map = Map_Draw(map)\n",
        "\n",
        "        key = input()\n",
        "        if key == \"w\":\n",
        "            map = Up_Move(map)\n",
        "        elif key == \"s\":\n",
        "            map = Down_Move(map)\n",
        "        elif key == \"a\":\n",
        "            map = Left_Move(map)\n",
        "        elif key == \"d\":\n",
        "            map = Right_Move(map)\n",
        "        else:\n",
        "            break\n",
        "\n",
        "        clear_output()\n",
        "        point_count += 1\n",
        "\n",
        "def Up_Move(map): ## この関数は、マップ全体を下向きに移動させて、相対的にキャラクターが上に行きます。\n",
        "    map_add = [random.randint(0,100) for _ in range(30)] ## map配列の一番先頭に追加するためのリストの生成\n",
        "    map.insert(0,map_add)\n",
        "    map.pop(29) ## 先頭に配列を追加したので、最後の行を減らして、配列数をキープします。\n",
        "    return map\n",
        "\n",
        "def Down_Move(map): ## この関数は、マップ全体を上向きに移動させて、相対的にキャラクターが上に行きます。\n",
        "    map_add = [random.randint(0,100) for _ in range(30)] ## map配列の一番最後に追加するためのリストの生成\n",
        "    map.insert(29,map_add)\n",
        "    map.pop(0) ## 最後に配列を追加したので、行を減らして、配列数をキープします。\n",
        "    return map\n",
        "\n",
        "def Left_Move(map):\n",
        "    for row in map:\n",
        "        row.insert(0,random.randint(0,100))\n",
        "        row.pop(29)\n",
        "    return map\n",
        "\n",
        "def Right_Move(map):\n",
        "    for row in map:\n",
        "        row.insert(29,random.randint(0,100))\n",
        "        row.pop(0)\n",
        "    return map\n",
        "\n",
        "def Map_Draw(map): ## この関数は、30×30の配列を与えると描画します。\n",
        "    difficulty = 50\n",
        "    trim_map = []\n",
        "    for i in range(10,21):\n",
        "        map_list = []\n",
        "        for j in range(10,21):\n",
        "            map_list.append(map[i][j])\n",
        "        trim_map.append(map_list)\n",
        "    trim_map[5][5] = -1\n",
        "    for m in trim_map:\n",
        "        for i in m:\n",
        "            if i > difficulty:\n",
        "                print(\"■\",end = \"\") ## 壁の役割　しかく入力して変換\n",
        "            elif i == -1:\n",
        "                print(\"人\",end = \"\") ## 人の役割　人\n",
        "                map[15][15] = 100 ## 変更した箇所\n",
        "            else:\n",
        "                print(\"￣\",end = \"\") ## 道の役割　全角スペース\n",
        "        print(\"\")\n",
        "    return map\n",
        "\n",
        "if __name__ == \"__main__\":\n",
        "    main()"
      ],
      "metadata": {
        "colab": {
          "base_uri": "https://localhost:8080/"
        },
        "id": "tUf9l988top0",
        "outputId": "7229f101-276b-41ce-929b-3d362579a7f4"
      },
      "execution_count": null,
      "outputs": [
        {
          "name": "stdout",
          "output_type": "stream",
          "text": [
            "あなたの入力は w です\n",
            "あなたの点数は 12 点です\n",
            "■￣￣■■■■￣￣￣■\n",
            "■￣￣■■￣■■￣■￣\n",
            "■■■■■■￣■￣￣￣\n",
            "■￣￣￣■■￣■￣■￣\n",
            "■￣￣■￣■■￣￣■■\n",
            "￣■■■■人￣￣■■■\n",
            "￣￣￣￣￣■■■■■■\n",
            "■￣■￣■■■■■■■\n",
            "￣■￣■￣■■■■￣￣\n",
            "￣■■■■￣￣￣■■■\n",
            "￣￣￣■￣■■■￣■￣\n",
            "e\n"
          ]
        }
      ]
    },
    {
      "cell_type": "markdown",
      "source": [
        "## 終了処理を追加しよう\n",
        "\n",
        "|map||左|中|右|\n",
        "| ----- ||----|----|----|\n",
        "|上||[14][14]|[14][15]|[14][16]|\n",
        "|中||[15][14]|[15][15]|[15][16]|\n",
        "|下||[16][14]|[16][15]|[16][16]|\n"
      ],
      "metadata": {
        "id": "e_Pz2d8nuJpA"
      }
    },
    {
      "cell_type": "code",
      "source": [
        "import random\n",
        "from IPython.display import clear_output\n",
        "\n",
        "difficulty = 50\n",
        "\n",
        "def main():\n",
        "    key = \"Start\"\n",
        "    point_count = 0\n",
        "    map = [[random.randint(0,100) for _ in range(30)] for _ in range(30)]\n",
        "    while key != \"e\":\n",
        "        print(\"あなたの入力は\",key,\"です\")\n",
        "        print(\"あなたの点数は\",str(point_count),\"点です\")\n",
        "        map = Map_Draw(map)\n",
        "\n",
        "        key = input()\n",
        "        if key == \"w\":\n",
        "            if map[14][15] > difficulty:\n",
        "                break\n",
        "            map = Up_Move(map)\n",
        "        elif key == \"s\":\n",
        "            if map[16][15] > difficulty:\n",
        "                break\n",
        "            map = Down_Move(map)\n",
        "        elif key == \"a\":\n",
        "            if map[15][14] > difficulty:\n",
        "                break\n",
        "            map = Left_Move(map)\n",
        "        elif key == \"d\":\n",
        "            if map[15][16] > difficulty:\n",
        "                break\n",
        "            map = Right_Move(map)\n",
        "        else:\n",
        "            break\n",
        "\n",
        "        clear_output()\n",
        "        point_count += 1\n",
        "    clear_output()\n",
        "    print(\"あなたの最終点数は\",str(point_count),\"点です\")\n",
        "\n",
        "def Up_Move(map): ## この関数は、マップ全体を下向きに移動させて、相対的にキャラクターが上に行きます。\n",
        "    map_add = [random.randint(0,100) for _ in range(30)] ## map配列の一番先頭に追加するためのリストの生成\n",
        "    map.insert(0,map_add)\n",
        "    map.pop(29) ## 先頭に配列を追加したので、最後の行を減らして、配列数をキープします。\n",
        "    return map\n",
        "\n",
        "def Down_Move(map): ## この関数は、マップ全体を上向きに移動させて、相対的にキャラクターが上に行きます。\n",
        "    map_add = [random.randint(0,100) for _ in range(30)] ## map配列の一番最後に追加するためのリストの生成\n",
        "    map.insert(29,map_add)\n",
        "    map.pop(0) ## 最後に配列を追加したので、行を減らして、配列数をキープします。\n",
        "    return map\n",
        "\n",
        "def Left_Move(map):\n",
        "    for row in map:\n",
        "        row.insert(0,random.randint(0,100))\n",
        "        row.pop(29)\n",
        "    return map\n",
        "\n",
        "def Right_Move(map):\n",
        "    for row in map:\n",
        "        row.insert(29,random.randint(0,100))\n",
        "        row.pop(0)\n",
        "    return map\n",
        "\n",
        "def Map_Draw(map): ## この関数は、30×30の配列を与えると描画します。\n",
        "\n",
        "    trim_map = []\n",
        "    for i in range(10,21):\n",
        "        map_list = []\n",
        "        for j in range(10,21):\n",
        "            map_list.append(map[i][j])\n",
        "        trim_map.append(map_list)\n",
        "    trim_map[5][5] = -1\n",
        "    for m in trim_map:\n",
        "        for i in m:\n",
        "            if i > difficulty:\n",
        "                print(\"■\",end = \"\") ## 壁の役割　しかく入力して変換\n",
        "            elif i == -1:\n",
        "                print(\"人\",end = \"\") ## 人の役割　人\n",
        "                map[15][15] = 100 ## 変更した箇所\n",
        "            else:\n",
        "                print(\"￣\",end = \"\") ## 道の役割　全角スペース\n",
        "        print(\"\")\n",
        "    return map\n",
        "\n",
        "if __name__ == \"__main__\":\n",
        "    main()"
      ],
      "metadata": {
        "colab": {
          "base_uri": "https://localhost:8080/"
        },
        "id": "uqUo3v54uP6_",
        "outputId": "fc1e32dc-af47-4096-e83e-bbcfc8ff5365"
      },
      "execution_count": null,
      "outputs": [
        {
          "output_type": "stream",
          "name": "stdout",
          "text": [
            "あなたの最終点数は 4 点です\n"
          ]
        }
      ]
    },
    {
      "cell_type": "markdown",
      "source": [
        "### Tips 命名規則\n",
        "\n",
        "プログラミングの記述において使う言語によって、変数や関数の名前の付け方には規則がある。\n",
        "\n",
        "[Python命名規則一覧](https://qiita.com/naomi7325/items/4eb1d2a40277361e898b)\n",
        "\n",
        "Pythonでは、単語と単語の間をアンダースコア( _ )で繋ぐと言うルールが存在している。\n",
        "\n",
        "そのため、my_favorite_instance などのように記述しなければならない。\n",
        "\n",
        "このような記述方式を**snake case**(スネークケース)と言う。\n",
        "\n",
        "<img src=\"https://p.e-words.jp/img/Snake-Case.png\" width=\"250\">\n",
        "\n",
        "\n",
        "えっ？この前まで、enemyNumberArray みたいに記述してましたよね？\n",
        "\n",
        "と言う察しのいい人がいたら名乗り出てください。\n",
        "\n",
        "完全に先生のミスです。\n",
        "\n",
        "これはテキスト制作時、Swift と言う言語を使いまくっていたので、ミスっていただけです。\n",
        "\n",
        "ちなみに、このように単語の先頭文字を大文字にする変数の記述方法は、**camel case**(キャメルケース)と言います。\n",
        "\n",
        "<img src=\"https://p.e-words.jp/img/Camel-Case.png\" width=\"250\">\n",
        "\n",
        "えっ、enemyNumberArray 先頭文字大文字じゃない。と思ったあなたは鋭い。\n",
        "\n",
        "これは、**Lower Camel Case**と呼ばれていて、先頭の文字は小文字、それ以外の単語の先頭文字は大文字になっています。\n",
        "\n",
        "ちなみに、単にキャメルケースと言われてもピンとこないので、ローワーキャメルケースと対比して、**Upper Camel Case**という時もあります。\n",
        "\n",
        "\n",
        "ぺちゃくちゃお話ししましたが、テストでは出ません。\n",
        "\n",
        "理由は、どっちにしろ実行できる場合が多いので、気にしなくて良いからです。\n",
        "\n",
        "職場で、命名規則を適当にしてたら、同僚に嫌われるくらいです。\n",
        "\n",
        "名前つけるのには流派があるので、注意。"
      ],
      "metadata": {
        "id": "U1ffkk6ijszU"
      }
    },
    {
      "cell_type": "markdown",
      "metadata": {
        "id": "fKMgZTaJueL4"
      },
      "source": [
        "\n",
        "# オブジェクト指向について学ぼう\n",
        "\n",
        ">[参考 オブジェクト指向について](https://aiacademy.jp/media/?p=131)\n",
        ">\n",
        ">[参考 任天堂Wiki（クリボー画像）](https://w.atwiki.jp/nitendo/pages/952.html)\n",
        "\n",
        "オブジェクトという概念について、学習します。\n",
        "\n",
        "### オブジェクトとは？\n",
        "\n",
        "プログラムにおいて、様々な要素をまとめた「もの」\n",
        "\n",
        "例えば\n",
        "\n",
        "<img src=\"https://img.atwiki.jp/nitendo/attach/952/111/1.jpg\" width=\"200\">\n",
        "\n",
        "はご存じですか？\n",
        "\n",
        "スーパーマリオブラザーズというゲームに出てくるクリボーという敵キャラクターです。\n",
        "\n",
        "この生物の説明をしてみる。\n",
        "\n",
        "名前：　　　クリボー\n",
        "\n",
        "移動方法：　歩く\n",
        "\n",
        "倒し方：　　踏みつける\n",
        "\n",
        "\n",
        "プログラムに記述してみる。\n",
        "\n"
      ]
    },
    {
      "cell_type": "code",
      "execution_count": null,
      "metadata": {
        "id": "RgmZ9cXQqtRn"
      },
      "outputs": [],
      "source": [
        "def main():\n",
        "    name = \"クリボー\"\n",
        "    move = \"歩く\"\n",
        "    dead = \"踏みつける\"\n",
        "\n",
        "    print(\"名前：\", name,\"　移動方法：\",move,\"　倒し方：\",dead)\n",
        "\n",
        "if __name__==\"__main__\":\n",
        "    main()"
      ]
    },
    {
      "cell_type": "markdown",
      "metadata": {
        "id": "eAzTJGASrtSO"
      },
      "source": [
        "では、この生物をご存じですか？\n",
        "\n",
        "<img src=\"https://img.atwiki.jp/nitendo/attach/2478/609/1.png\" width=\"200\">\n",
        "\n",
        "この生物は、よく似た生物ですが、移動方法が異なっています。\n",
        "\n",
        "言葉で説明すると\n",
        "\n",
        "名前：　　　パタクリボー\n",
        "\n",
        "移動方法：　ジャンプ\n",
        "\n",
        "倒し方：　　踏みつける\n",
        "\n",
        "\n",
        "では、この生物のプログラムも併せて記述してみましょう。"
      ]
    },
    {
      "cell_type": "code",
      "execution_count": null,
      "metadata": {
        "id": "oDIS1nwTuGyB"
      },
      "outputs": [],
      "source": [
        "def main():\n",
        "    name1 = \"クリボー\"\n",
        "    move1 = \"歩く\"\n",
        "    dead = \"踏みつける\"\n",
        "\n",
        "    name2 = \"パタクリボー\"\n",
        "    move2 = \"ジャンプ\"\n",
        "\n",
        "    print(\"名前：\", name1,\"　移動方法：\",move1,\"　倒し方：\",dead)\n",
        "    print(\"名前：\", name2,\"　移動方法：\",move2,\"　倒し方：\",dead)\n",
        "\n",
        "if __name__==\"__main__\":\n",
        "    main()"
      ]
    },
    {
      "cell_type": "markdown",
      "metadata": {
        "id": "L7vbCAV-u-0U"
      },
      "source": [
        "では、さらに以下の生物を知っていますか？\n",
        "\n",
        "<img src=\"https://img.atwiki.jp/nitendo/attach/2092/908/1.png\" width=\"200\">\n",
        "\n",
        "\n",
        "<img src=\"https://img.atwiki.jp/nitendo/attach/3211/585/1.png\" width=\"200\">\n",
        "\n",
        "<img src=\"https://img.atwiki.jp/nitendo/attach/3668/962/1.png\" width=\"200\">\n",
        "\n",
        "\n",
        "はい、皆さんも簡単に分かりますよね？\n",
        "\n",
        "トゲクリボーさんとほねクリボーさんとやみトゲクリボーですね。\n",
        "\n",
        "簡単すぎましたか？\n",
        "\n",
        "では、これらの生物の特徴をまとめましょう。\n",
        "\n",
        "___\n",
        "\n",
        "名前：　　　トゲクリボー\n",
        "\n",
        "移動方法：　歩く\n",
        "\n",
        "倒し方：　　ファイアボールを当てる\n",
        "\n",
        "___\n",
        "\n",
        "名前：　　　ほねクリボー\n",
        "\n",
        "移動方法：　歩く\n",
        "\n",
        "倒し方：　　踏みつける\n",
        "\n",
        "___\n",
        "\n",
        "名前：　　　やみトゲクリボー\n",
        "\n",
        "移動方法：　歩く\n",
        "\n",
        "倒し方：　　ファイアボールを当てる\n",
        "\n",
        "___\n",
        "\n",
        "\n",
        "では、プログラムにしてみましょう。"
      ]
    },
    {
      "cell_type": "code",
      "execution_count": null,
      "metadata": {
        "id": "V32-VUDmzIzb"
      },
      "outputs": [],
      "source": [
        "def main():\n",
        "    name1 = \"クリボー\"\n",
        "    move1 = \"歩く\"\n",
        "    dead1 = \"踏みつける\"\n",
        "\n",
        "    name2 = \"パタクリボー\"\n",
        "    move2 = \"ジャンプ\"\n",
        "\n",
        "    name3 = \"トゲクリボー\"\n",
        "    dead2 = \"ファイアボールを当てる\"\n",
        "\n",
        "    name4 = \"ほねクリボー\"\n",
        "\n",
        "    name5 = \"やみトゲクリボー\"\n",
        "\n",
        "\n",
        "    print(\"名前：\", name1,\"　移動方法：\",move1,\"　倒し方：\",dead1)\n",
        "    print(\"名前：\", name2,\"　移動方法：\",move2,\"　倒し方：\",dead1)\n",
        "    print(\"名前：\", name3,\"　移動方法：\",move1,\"　倒し方：\",dead2)\n",
        "    print(\"名前：\", name4,\"　移動方法：\",move1,\"　倒し方：\",dead1)\n",
        "    print(\"名前：\", name5,\"　移動方法：\",move1,\"　倒し方：\",dead2)\n",
        "\n",
        "\n",
        "if __name__==\"__main__\":\n",
        "    main()"
      ]
    },
    {
      "cell_type": "markdown",
      "metadata": {
        "id": "ojxsJPtRzIFf"
      },
      "source": [
        "正直、名前と移動方法と倒し方について記述するだけであれば、問題がありませんが、もう少したくさんの情報を追加するといよいよわからなくなります。\n",
        "\n",
        "`speed ,  health` などを追加していきます。"
      ]
    },
    {
      "cell_type": "code",
      "execution_count": null,
      "metadata": {
        "id": "hphKcZxSf_ko"
      },
      "outputs": [],
      "source": [
        "def main():\n",
        "    name1 = \"クリボー\"\n",
        "    move1 = \"歩く\"\n",
        "    dead1 = \"踏みつける\"\n",
        "    speed1 = 10\n",
        "    health1 = 1\n",
        "\n",
        "    name2 = \"パタクリボー\"\n",
        "    move2 = \"ジャンプ\"\n",
        "    speed2 = 20\n",
        "    health2 = 2\n",
        "\n",
        "    name3 = \"トゲクリボー\"\n",
        "    dead2 = \"ファイアボールを当てる\"\n",
        "\n",
        "    name4 = \"ほねクリボー\"\n",
        "    speed3 = 15\n",
        "    health3 = 3\n",
        "\n",
        "    name5 = \"やみトゲクリボー\"\n",
        "    speed4 = 20\n",
        "    health4 = 4\n",
        "\n",
        "    print(\"名前：\", name1,\"　移動方法：\",move1,\"　倒し方：\",dead1,\"　スピード：\", speed1,\"　体力：\",health1)\n",
        "    print(\"名前：\", name2,\"　移動方法：\",move2,\"　倒し方：\",dead1,\"　スピード：\", speed2,\"　体力：\",health2)\n",
        "    print(\"名前：\", name3,\"　移動方法：\",move1,\"　倒し方：\",dead2,\"　スピード：\", speed1,\"　体力：\",health1)\n",
        "    print(\"名前：\", name4,\"　移動方法：\",move1,\"　倒し方：\",dead1,\"　スピード：\", speed3,\"　体力：\",health3)\n",
        "    print(\"名前：\", name5,\"　移動方法：\",move1,\"　倒し方：\",dead2,\"　スピード：\", speed4,\"　体力：\",health4)\n",
        "\n",
        "\n",
        "if __name__==\"__main__\":\n",
        "    main()"
      ]
    },
    {
      "cell_type": "markdown",
      "metadata": {
        "id": "B1U4iAD-g-Pf"
      },
      "source": [
        "では、さらに倒し方を追加して、動きに関しての画像を追加して、、、\n",
        "\n",
        "というようなことを行っていると日が暮れてしまいます。\n",
        "\n",
        "それに、クリボーの種類は、５種類ではありません。\n",
        "\n",
        "少し調べただけで、３０種類近くいます。\n",
        "\n",
        "ここで質問ですが、このやり方で、ミスなく３０匹のデータを作れそうですか？\n",
        "\n",
        "私なら、無理です。\n",
        "\n",
        "そこで、便利なものを作っていきます。\n",
        "\n",
        "それが、クラスです。"
      ]
    },
    {
      "cell_type": "markdown",
      "metadata": {
        "id": "uzLmCV-Lho1d"
      },
      "source": [
        "___\n",
        "\n",
        "## **Class(クラス)**とは？\n",
        "\n",
        "<br>\n",
        "\n",
        "**オブジェクトの設計図**\n",
        "\n",
        "<br>\n",
        "\n",
        "という表現をよくされています。\n",
        "\n",
        "設計図とはどういう意味でしょう？\n",
        "\n",
        "<br>\n",
        "\n",
        "ねじや板をつなげて椅子や棚を作るように\n",
        "なにかを作るとき、それぞれのパーツをオブジェクトと考え、\n",
        "\n",
        "クラスという設計図で組み立てていくという考え方です。\n",
        "\n",
        "<br>\n",
        "\n",
        "意味が分からない？\n",
        "\n",
        "<br>\n",
        "\n",
        "問題ありません\n",
        "\n",
        "<br>\n",
        "\n",
        "例えば、クリボークラスを作ってみます。\n",
        "\n",
        "ちなみにクリボーの英語名は「Goomba」というそうです。\n"
      ]
    },
    {
      "cell_type": "code",
      "execution_count": null,
      "metadata": {
        "id": "QD2T3eJmeMxB",
        "colab": {
          "base_uri": "https://localhost:8080/"
        },
        "outputId": "79ab690f-656d-4df0-e83c-089106cb920f"
      },
      "outputs": [
        {
          "output_type": "stream",
          "name": "stdout",
          "text": [
            "名前：クリボー\n",
            "移動方法：歩く\n",
            "スピード：10\n",
            "倒し方：踏みつける\n",
            "体力：1\n",
            "<__main__.Goomba object at 0x7e9d1153ed40>\n"
          ]
        }
      ],
      "source": [
        "class Goomba():\n",
        "    def __init__(self):\n",
        "        self._name = \"クリボー\"\n",
        "        self._move = \"歩く\"\n",
        "        self._dead = \"踏みつける\"\n",
        "        self._speed = 10\n",
        "        self._health = 1\n",
        "\n",
        "    def getName(self):\n",
        "        return \"名前：{}\".format(self._name)\n",
        "\n",
        "    def getMove(self):\n",
        "        return \"移動方法：{}\".format(self._move)\n",
        "\n",
        "    def getSpeed(self):\n",
        "        return \"スピード：{}\".format(self._speed)\n",
        "\n",
        "    def getDead(self):\n",
        "        return \"倒し方：{}\".format(self._dead)\n",
        "\n",
        "    def getHealth(self):\n",
        "        return \"体力：{}\".format(self._health)\n",
        "\n",
        "def main():\n",
        "    print(Goomba().getName())\n",
        "    print(Goomba().getMove())\n",
        "    print(Goomba().getSpeed())\n",
        "    print(Goomba().getDead())\n",
        "    print(Goomba().getHealth())\n",
        "    print(Goomba())\n",
        "\n",
        "if __name__==\"__main__\":\n",
        "    main()"
      ]
    },
    {
      "cell_type": "markdown",
      "metadata": {
        "id": "pkgzJ4R5iHoe"
      },
      "source": [
        "これを同様に繰り返していけば、全体を記述していけそうですよね？\n",
        "\n",
        "<br>\n",
        "\n",
        "え、？\n",
        "\n",
        "長くなってしまっている？？\n",
        "\n",
        "気のせいだと思いますが、、、\n",
        "\n",
        "<br>\n",
        "\n",
        "では、続きを書いていきましょう。\n",
        "\n"
      ]
    },
    {
      "cell_type": "code",
      "execution_count": null,
      "metadata": {
        "id": "73uyJRjblfDE",
        "colab": {
          "base_uri": "https://localhost:8080/"
        },
        "outputId": "9d610ccf-ccde-47dc-f9ab-75a0d57510e2"
      },
      "outputs": [
        {
          "output_type": "stream",
          "name": "stdout",
          "text": [
            "名前：やみトゲクリボー\n"
          ]
        }
      ],
      "source": [
        "class Goomba():\n",
        "    def __init__(self):\n",
        "        self._name = \"クリボー\"\n",
        "        self._move = \"歩く\"\n",
        "        self._dead = \"踏みつける\"\n",
        "        self._speed = 10\n",
        "        self._health = 1\n",
        "\n",
        "    def getName(self):\n",
        "        return \"名前：{}\".format(self._name)\n",
        "\n",
        "    def getMove(self):\n",
        "        return \"移動方法：{}\".format(self._move)\n",
        "\n",
        "    def getSpeed(self):\n",
        "        return \"スピード：{}\".format(self._speed)\n",
        "\n",
        "    def getDead(self):\n",
        "        return \"倒し方：{}\".format(self._dead)\n",
        "\n",
        "    def getHealth(self):\n",
        "        return \"体力：{}\".format(self._health)\n",
        "\n",
        "class ParaGoomba(Goomba):\n",
        "    def __init__(self):\n",
        "        self._name=\"パタクリボー\"\n",
        "        self._move = \"ジャンプ\"\n",
        "        self._dead = \"踏みつける\"\n",
        "        self._speed = 20\n",
        "        self._health = 2\n",
        "\n",
        "class SpikedGoomba(Goomba):\n",
        "    def __init__(self):\n",
        "        self._name=\"トゲクリボー\"\n",
        "        self._move = \"歩く\"\n",
        "        self._dead = \"ファイアボールを当てる\"\n",
        "        self._speed = 10\n",
        "        self._health = 1\n",
        "\n",
        "class BoneGoomba(Goomba):\n",
        "    def __init__(self):\n",
        "        self._name = \"ほねクリボー\"\n",
        "        self._move = \"歩く\"\n",
        "        self._dead = \"踏みつける\"\n",
        "        self._speed = 15\n",
        "        self._health = 3\n",
        "\n",
        "class SpikyGloomba(SpikedGoomba):\n",
        "    def __init__(self):\n",
        "        self._name=\"やみトゲクリボー\"\n",
        "        self._move = \"歩く\"\n",
        "        self._dead = \"ファイアボールを当てる\"\n",
        "        self._speed = 20\n",
        "        self._health = 4\n",
        "\n",
        "def main():\n",
        "    print(SpikyGloomba().getName())\n",
        "\n",
        "if __name__==\"__main__\":\n",
        "    main()"
      ]
    },
    {
      "cell_type": "markdown",
      "metadata": {
        "id": "ZpGRCxuaxBtp"
      },
      "source": [
        "これで好きなモンスターを好きなタイミングで出力できますね。\n",
        "\n",
        "え、やっぱり前のほうがわかりやすい？\n",
        "\n",
        "じゃあ、前の時に設定していたやみトゲクリボーの変数を言ってみてください。\n",
        "\n",
        "<br>\n",
        "\n",
        "簡単ですか？\n",
        "\n",
        "<br>\n",
        "\n",
        "では、今のやり方でクリボーの倒し方を出力してください。\n",
        "\n",
        "`Goomba().getDead()`\n",
        "\n",
        "ですよね？\n",
        "\n",
        "このように、することで、少しだけわかりやすく記述していくことができます。\n",
        "\n",
        "本当はもう少し踏み込んで、継承やらなんやらで説明したいですが、今回は関数的な使い方にとどめておきます。\n",
        "\n",
        "知っている人は、周りの人に教えてあげてください。"
      ]
    },
    {
      "cell_type": "markdown",
      "metadata": {
        "id": "sQLMFefSyTGD"
      },
      "source": [
        "---\n",
        "\n",
        "# 2048を作ろう\n",
        "\n",
        "## 2048がわかりますか？\n",
        "\n",
        "[参考 2048 ゲームですので、確認ができたらブラウザを閉じる](https://play2048.co/)\n",
        "\n",
        "## 今回作成するゲームの参考動画\n",
        "\n",
        "[参考 YouTube (google colabでゲームを作りたい！2048実装Part1)](https://youtu.be/ZVzZAiQ0Og0)\n",
        "\n",
        "この動画の内容とは一部変えています。\n",
        "\n",
        "また、Pythonだけでは、上手に表示できないため、HTMLやCSSなど利用しています。\n",
        "\n",
        "\n",
        "\n"
      ]
    },
    {
      "cell_type": "markdown",
      "metadata": {
        "id": "HLTsFBmtx3lF"
      },
      "source": [
        "---\n",
        "\n",
        "## ゲームの要素\n",
        "\n",
        "**ゲーム作成は要素分けから**\n",
        "\n",
        "- スコア\n",
        "    - 混ざったタイルの合計値が加算される\n",
        "\n",
        "- タイル\n",
        "    - ４×４のマス目に正方形のタイル\n",
        "\n",
        "- ゲームオーバー\n",
        "    - 全タイルが数字で埋まってしまうと終了\n",
        "\n",
        "- 操作\n",
        "    - 上下左右に動かすことができる。\n",
        "\n",
        "- タイル生成\n",
        "    - ２ or ４の数値が生成される\n",
        "\n",
        "- ビュー\n",
        "    - Colabでは見かけを作ることが難しい。\n",
        "    - 今回はHTMLとCSSを組み合わせてプログラムしていきます。"
      ]
    },
    {
      "cell_type": "markdown",
      "metadata": {
        "id": "qUL0bJswt9Hd"
      },
      "source": [
        "___\n",
        "\n",
        "## ゲームの下地を作っていこう\n",
        "\n",
        "まず最初に、ゲームのマス目を作ってみよう。"
      ]
    },
    {
      "cell_type": "code",
      "source": [
        "tiles = [[1 for c in range(4)] for r in range(4)]\n",
        "print(tiles)"
      ],
      "metadata": {
        "id": "pGL28ltv130v"
      },
      "execution_count": null,
      "outputs": []
    },
    {
      "cell_type": "markdown",
      "source": [
        "いままでの内容がしっかりわかっていたら、こうなることはよくわかると思います。\n",
        "\n",
        "しかし、これをいい感じに表示するためにはひと手間かかります。"
      ],
      "metadata": {
        "id": "TGCumtq-3_4u"
      }
    },
    {
      "cell_type": "code",
      "source": [
        "tiles = [[1 for c in range(4)] for r in range(4)]\n",
        "for r in tiles:\n",
        "    print(r)"
      ],
      "metadata": {
        "colab": {
          "base_uri": "https://localhost:8080/"
        },
        "id": "cWkOVPrp4OtY",
        "outputId": "2536618b-5bf2-435e-f241-e6a7b09bed73"
      },
      "execution_count": null,
      "outputs": [
        {
          "output_type": "stream",
          "name": "stdout",
          "text": [
            "[1, 1, 1, 1]\n",
            "[1, 1, 1, 1]\n",
            "[1, 1, 1, 1]\n",
            "[1, 1, 1, 1]\n"
          ]
        }
      ]
    },
    {
      "cell_type": "markdown",
      "source": [
        "## ライブラリを使おう\n",
        "\n",
        "毎回、表示するたびにforループを回すのは非効率ですし、記述忘れもあると思います。\n",
        "\n",
        "このような煩わしい作業を上手に関数にすることは、さらに手間がかかります。\n",
        "\n",
        "そこで、すでに世の中に存在しているプログラムを使うことができます。\n",
        "\n",
        "今回は、pythonの標準的なライブラリであるNumPyを使います。"
      ],
      "metadata": {
        "id": "YzzHVw1h4fKP"
      }
    },
    {
      "cell_type": "markdown",
      "source": [
        "### NumPy\n",
        "\n",
        "[NumPy公式](https://numpy.org/ja/)\n",
        "\n",
        "> 公式ホームページより\n",
        ">> Pythonを使って働くほとんどの科学者はNumPyの力を利用しています。\n",
        ">> Numpy は、 C や Fortran のような言語の計算パフォーマンスを、Pythonにもたらします。 このパワーはNumPyのシンプルさから来ており、NumPyによるソリューションの多くは明確でエレガントになります。\n",
        "\n",
        "興味のある人は、このサイトでは、説明が難しいと思いますので、[こちらのサイト](https://tutorials.chainer.org/ja/08_Introduction_to_NumPy.html)で確認してみてください。\n",
        "\n",
        "ざっくりいうと、NumPyは数学とかシュミレーションの際に使われるライブラリです。自然計算や機械学習には必須といっても過言ではありません。\n",
        "\n",
        "しかし、今回はたかが、タイルを並べるだけです。\n",
        "\n",
        "なぜ使いたいか、、、公式曰く**明確でエレガント**な機能を使いたいからです。\n",
        "\n",
        "以下のコードを入力してみてください。"
      ],
      "metadata": {
        "id": "de_vqvbC5ihZ"
      }
    },
    {
      "cell_type": "code",
      "source": [
        "import numpy as np\n",
        "tiles = np.array([[1 for c in range(4)] for r in range(4)])\n",
        "print(tiles)"
      ],
      "metadata": {
        "id": "uARkEski3efW"
      },
      "execution_count": null,
      "outputs": []
    },
    {
      "cell_type": "markdown",
      "source": [
        "このようにprint文できれいに表示してくれています。\n",
        "\n",
        "これが今回使う理由です。簡単にプログラムをスマートにエレガントにしてくれます。\n",
        "\n",
        "以上を踏まえて、関数にしていきます。"
      ],
      "metadata": {
        "id": "624Ql1q49_Z4"
      }
    },
    {
      "cell_type": "code",
      "source": [
        "import numpy as np\n",
        "def desp(size):\n",
        "    tiles = np.array([[1 for c in range(size)] for r in range(size)])\n",
        "    print(tiles)\n",
        "\n",
        "def main():\n",
        "    desp(4)\n",
        "\n",
        "if __name__==\"__main__\":\n",
        "    main()"
      ],
      "metadata": {
        "colab": {
          "base_uri": "https://localhost:8080/"
        },
        "id": "TSgjuFw5-ZqQ",
        "outputId": "8489bbcc-c01f-4266-925f-2d7f066f2377"
      },
      "execution_count": null,
      "outputs": [
        {
          "output_type": "stream",
          "name": "stdout",
          "text": [
            "[[1 1 1 1]\n",
            " [1 1 1 1]\n",
            " [1 1 1 1]\n",
            " [1 1 1 1]]\n"
          ]
        }
      ]
    },
    {
      "cell_type": "markdown",
      "source": [
        "## classの導入"
      ],
      "metadata": {
        "id": "jy4NOYiR-ZFh"
      }
    },
    {
      "cell_type": "markdown",
      "source": [
        "### Model classを定義してみる\n",
        "\n",
        "今回作成するModelクラスでは、主に以下のようなことをしていきます。\n",
        "\n",
        "- ゲームの基本的な部分の設計\n",
        "    - 表を作成し、その中に数値を格納する\n",
        "    - 移動に関しての設計\n",
        "\n",
        "現物がないとイメージが付きませんよね。とりあえず、準備していきます。\n",
        "\n",
        "まずは、クラスと `__init__` を定義しましょう。\n",
        "\n",
        "ちなみに`__init__`はクラスに引数を渡すための特殊メソッドです。\n",
        "\n",
        "~~~python\n",
        "def kansu(a):\n",
        "    print(a)\n",
        "~~~\n",
        "\n",
        "上記関数でいうと、`a`の部分になります。"
      ],
      "metadata": {
        "id": "Q64Z5HQy26Eq"
      }
    },
    {
      "cell_type": "code",
      "execution_count": null,
      "metadata": {
        "colab": {
          "base_uri": "https://localhost:8080/"
        },
        "outputId": "07ca6066-096e-4edb-bbd8-bb3e88abc19b",
        "id": "sqKG1TR32gkU"
      },
      "outputs": [
        {
          "output_type": "stream",
          "name": "stdout",
          "text": [
            "None\n"
          ]
        }
      ],
      "source": [
        "import numpy as np\n",
        "\n",
        "class Model():\n",
        "    def __init__(self,size=(4,4)):\n",
        "        tiles = np.array([[1 for c in range(size[1])] for r in range(size[0])])\n",
        "\n",
        "def main():\n",
        "    print(Model())\n",
        "\n",
        "if __name__==\"__main__\":\n",
        "    main()"
      ]
    },
    {
      "cell_type": "markdown",
      "source": [
        "このあたりから、イメージはできるけど、どのように実装すればいいかわからなくなってくる。\n",
        "\n",
        "今回の問題は、モデルクラスを作成できても、モデルクラスを活用することができない。\n",
        "\n",
        "何が必要かわからない場合は、往々にしてネット民にはggrksと言われてしまうので、確認してみましょう。"
      ],
      "metadata": {
        "id": "5hW6M7f84Y3L"
      }
    },
    {
      "cell_type": "markdown",
      "source": [
        "### `__str__`の導入\n",
        "\n",
        "`__str__`とは、クラスを直接プリントできるようになる特殊メソッドです。\n",
        "\n",
        "厳密には、オブジェクトの文字列表現を定義するために用いる特殊メソッドです。\n",
        "\n",
        "つまり、このクラスをプリントで表示すると、`__str__`を呼び出します。\n",
        "\n",
        "そのため、約束事として、このメソッドの戻り値`return`では、文字列でなければなりません。"
      ],
      "metadata": {
        "id": "V3BWl5SP64yz"
      }
    },
    {
      "cell_type": "code",
      "source": [
        "class aisatsu():\n",
        "    def __str__(self):\n",
        "        return \"Hello World\"\n",
        "\n",
        "print(aisatsu())"
      ],
      "metadata": {
        "colab": {
          "base_uri": "https://localhost:8080/"
        },
        "id": "XbEOHhma620j",
        "outputId": "aa764f7c-4386-4e29-ab39-5ccd51a55c0a"
      },
      "execution_count": null,
      "outputs": [
        {
          "output_type": "stream",
          "name": "stdout",
          "text": [
            "Hello World\n"
          ]
        }
      ]
    },
    {
      "cell_type": "markdown",
      "source": [
        "これを使うことで、表示が可能になります。"
      ],
      "metadata": {
        "id": "sc2i_mmH8HrS"
      }
    },
    {
      "cell_type": "code",
      "execution_count": null,
      "metadata": {
        "colab": {
          "base_uri": "https://localhost:8080/",
          "height": 360
        },
        "outputId": "47964616-1257-4868-f091-35572d37bda1",
        "id": "Y-BY28c58GXI"
      },
      "outputs": [
        {
          "output_type": "error",
          "ename": "NameError",
          "evalue": "name 'tiles' is not defined",
          "traceback": [
            "\u001b[0;31m---------------------------------------------------------------------------\u001b[0m",
            "\u001b[0;31mNameError\u001b[0m                                 Traceback (most recent call last)",
            "\u001b[0;32m<ipython-input-9-4f272c1f99be>\u001b[0m in \u001b[0;36m<cell line: 13>\u001b[0;34m()\u001b[0m\n\u001b[1;32m     12\u001b[0m \u001b[0;34m\u001b[0m\u001b[0m\n\u001b[1;32m     13\u001b[0m \u001b[0;32mif\u001b[0m \u001b[0m__name__\u001b[0m\u001b[0;34m==\u001b[0m\u001b[0;34m\"__main__\"\u001b[0m\u001b[0;34m:\u001b[0m\u001b[0;34m\u001b[0m\u001b[0;34m\u001b[0m\u001b[0m\n\u001b[0;32m---> 14\u001b[0;31m     \u001b[0mmain\u001b[0m\u001b[0;34m(\u001b[0m\u001b[0;34m)\u001b[0m\u001b[0;34m\u001b[0m\u001b[0;34m\u001b[0m\u001b[0m\n\u001b[0m",
            "\u001b[0;32m<ipython-input-9-4f272c1f99be>\u001b[0m in \u001b[0;36mmain\u001b[0;34m()\u001b[0m\n\u001b[1;32m      9\u001b[0m \u001b[0;34m\u001b[0m\u001b[0m\n\u001b[1;32m     10\u001b[0m \u001b[0;32mdef\u001b[0m \u001b[0mmain\u001b[0m\u001b[0;34m(\u001b[0m\u001b[0;34m)\u001b[0m\u001b[0;34m:\u001b[0m\u001b[0;34m\u001b[0m\u001b[0;34m\u001b[0m\u001b[0m\n\u001b[0;32m---> 11\u001b[0;31m     \u001b[0mprint\u001b[0m\u001b[0;34m(\u001b[0m\u001b[0mModel\u001b[0m\u001b[0;34m(\u001b[0m\u001b[0;34m)\u001b[0m\u001b[0;34m)\u001b[0m\u001b[0;34m\u001b[0m\u001b[0;34m\u001b[0m\u001b[0m\n\u001b[0m\u001b[1;32m     12\u001b[0m \u001b[0;34m\u001b[0m\u001b[0m\n\u001b[1;32m     13\u001b[0m \u001b[0;32mif\u001b[0m \u001b[0m__name__\u001b[0m\u001b[0;34m==\u001b[0m\u001b[0;34m\"__main__\"\u001b[0m\u001b[0;34m:\u001b[0m\u001b[0;34m\u001b[0m\u001b[0;34m\u001b[0m\u001b[0m\n",
            "\u001b[0;32m<ipython-input-9-4f272c1f99be>\u001b[0m in \u001b[0;36m__str__\u001b[0;34m(self)\u001b[0m\n\u001b[1;32m      6\u001b[0m \u001b[0;34m\u001b[0m\u001b[0m\n\u001b[1;32m      7\u001b[0m     \u001b[0;32mdef\u001b[0m \u001b[0m__str__\u001b[0m\u001b[0;34m(\u001b[0m\u001b[0mself\u001b[0m\u001b[0;34m)\u001b[0m\u001b[0;34m:\u001b[0m\u001b[0;34m\u001b[0m\u001b[0;34m\u001b[0m\u001b[0m\n\u001b[0;32m----> 8\u001b[0;31m         \u001b[0;32mreturn\u001b[0m \u001b[0;34m\"{}\"\u001b[0m\u001b[0;34m.\u001b[0m\u001b[0mformat\u001b[0m\u001b[0;34m(\u001b[0m\u001b[0mtiles\u001b[0m\u001b[0;34m)\u001b[0m\u001b[0;34m\u001b[0m\u001b[0;34m\u001b[0m\u001b[0m\n\u001b[0m\u001b[1;32m      9\u001b[0m \u001b[0;34m\u001b[0m\u001b[0m\n\u001b[1;32m     10\u001b[0m \u001b[0;32mdef\u001b[0m \u001b[0mmain\u001b[0m\u001b[0;34m(\u001b[0m\u001b[0;34m)\u001b[0m\u001b[0;34m:\u001b[0m\u001b[0;34m\u001b[0m\u001b[0;34m\u001b[0m\u001b[0m\n",
            "\u001b[0;31mNameError\u001b[0m: name 'tiles' is not defined"
          ]
        }
      ],
      "source": [
        "import numpy as np\n",
        "\n",
        "class Model():\n",
        "    def __init__(self,size=(4,4)):\n",
        "        tiles = np.array([[1 for c in range(size[1])] for r in range(size[0])])\n",
        "\n",
        "    def __str__(self):\n",
        "        return \"{}\".format(tiles)\n",
        "\n",
        "def main():\n",
        "    print(Model())\n",
        "\n",
        "if __name__==\"__main__\":\n",
        "    main()"
      ]
    },
    {
      "cell_type": "markdown",
      "source": [
        "あれ、失敗した？？？\n",
        "\n",
        "これは、それぞれの関数が、別の変数を扱っているからになります。\n",
        "\n",
        "次のプログラムが正解です。\n",
        "\n",
        "イメージ図はホワイトボードを参照する。\n"
      ],
      "metadata": {
        "id": "EB2L0SXO8UsU"
      }
    },
    {
      "cell_type": "code",
      "execution_count": null,
      "metadata": {
        "colab": {
          "base_uri": "https://localhost:8080/"
        },
        "id": "KPTdL628IfYL",
        "outputId": "6fc62501-24dd-430f-aea1-b49d70f6de09"
      },
      "outputs": [
        {
          "name": "stdout",
          "output_type": "stream",
          "text": [
            "[[1 1 1 1]\n",
            " [1 1 1 1]\n",
            " [1 1 1 1]\n",
            " [1 1 1 1]]\n"
          ]
        }
      ],
      "source": [
        "import numpy as np\n",
        "\n",
        "class Model():\n",
        "    def __init__(self,size=(4,4)):\n",
        "        self._size = size\n",
        "        self._tiles = np.array([[1 for c in range(self._size[1])] for r in range(self._size[0])])\n",
        "\n",
        "    def __str__(self):\n",
        "        return \"{}\".format(self._tiles)\n",
        "\n",
        "def main():\n",
        "    print(Model())\n",
        "\n",
        "\n",
        "if __name__==\"__main__\":\n",
        "    main()"
      ]
    },
    {
      "cell_type": "markdown",
      "metadata": {
        "id": "A3MnGf33ylAu"
      },
      "source": [
        "## Modelクラスの役割\n",
        "\n",
        "このModelクラスでは、主に以下のようなことをしていきます。\n",
        "\n",
        "- ゲームの基本的な部分の設計\n",
        "    - 表を作成し、その中に数値を格納する\n",
        "    - 移動に関しての設計\n",
        "\n",
        "今回は、NumPyを用いて、表を作成、描画しているところです。\n",
        "\n",
        "プログラムに注釈をつけるとこんな感じ。"
      ]
    },
    {
      "cell_type": "code",
      "execution_count": null,
      "metadata": {
        "colab": {
          "base_uri": "https://localhost:8080/"
        },
        "id": "NNpfTiFEyhom",
        "outputId": "4a0d24ce-36a8-4979-ea0b-8900117668f5"
      },
      "outputs": [
        {
          "name": "stdout",
          "output_type": "stream",
          "text": [
            "[[1 1 1 1]\n",
            " [1 1 1 1]\n",
            " [1 1 1 1]\n",
            " [1 1 1 1]]\n"
          ]
        }
      ],
      "source": [
        "import numpy as np                      #NumPyを使う\n",
        "\n",
        "class Model():                          #Modelクラスを作る\n",
        "    def __init__(self,size=(4,4)):      #Modelクラスの最初に動作するのは次の内容である\n",
        "                                        #ただし、sizeは縦横４マスであることを示す\n",
        "                                        #この部分を、5とかにするとマス目の数が変えられる\n",
        "\n",
        "        self._size = size               #このクラスで使うsizeはさっきのかっこの部分の値を参照する\n",
        "        self._tiles = np.array([[1 for c in range(self._size[1])] for r in range(self._size[0])])\n",
        "                                        #マス目の生成を行っています。\n",
        "\n",
        "    def __str__(self):                  #printでModelが呼び出された場合、ここのreturnの結果が返る\n",
        "        return \"{}\".format(self._tiles) #マス目の出力結果を返します。文字列でないといけません。\n",
        "\n",
        "def main():                             #Pythonのプログラムで、最初に動作しているのは、main関数である\n",
        "    print(Model() )                     #printでModelクラスを呼び出す\n",
        "\n",
        "\n",
        "if __name__==\"__main__\":                #おまじない\n",
        "    main()"
      ]
    },
    {
      "cell_type": "markdown",
      "metadata": {
        "id": "XXmCmgPaHt8j"
      },
      "source": [
        "## スコアを追加しよう\n",
        "\n",
        "次は、スコアを追加します。\n",
        "\n",
        "新たに変数を追加する場合は、`__init__`にとりあえず書き込んでいきます。"
      ]
    },
    {
      "cell_type": "code",
      "execution_count": null,
      "metadata": {
        "colab": {
          "base_uri": "https://localhost:8080/"
        },
        "id": "7tm6SUVDs0Pt",
        "outputId": "05913375-6d09-4ea5-cfc6-84b2fc6c589b"
      },
      "outputs": [
        {
          "name": "stdout",
          "output_type": "stream",
          "text": [
            "Score:0\n",
            "Gameover:False\n",
            "------------\n",
            "[[1 1 1 1]\n",
            " [1 1 1 1]\n",
            " [1 1 1 1]\n",
            " [1 1 1 1]]\n"
          ]
        }
      ],
      "source": [
        "import numpy as np\n",
        "\n",
        "class Model():\n",
        "    def __init__(self,size =(4,4),score = 0,done=False):\n",
        "        self._size=size\n",
        "        self._score = score\n",
        "        self._done = done\n",
        "        self._empty = 1\n",
        "\n",
        "        self._tiles = np.array([[self._empty for c in range(self._size[1])] for r in range(self._size[0])])\n",
        "\n",
        "    def __str__(self):\n",
        "        return \"Score:{}\\nGameover:{}\\n------------\\n{}\".format(self._score,self._done,self._tiles)\n",
        "\n",
        "def main():\n",
        "    print(Model())\n",
        "\n",
        "\n",
        "if __name__==\"__main__\":\n",
        "    main()"
      ]
    },
    {
      "cell_type": "markdown",
      "metadata": {
        "id": "nMRXjiRAtfpq"
      },
      "source": [
        "いくつかの変数を追加しました。\n",
        "\n",
        "追加した部分は、スコアに関する部分です。\n"
      ]
    },
    {
      "cell_type": "code",
      "execution_count": null,
      "metadata": {
        "colab": {
          "base_uri": "https://localhost:8080/"
        },
        "id": "kmuxGM9Ft7_Y",
        "outputId": "7aa66985-fd1e-4415-8cca-7f5beb594811"
      },
      "outputs": [
        {
          "output_type": "stream",
          "name": "stdout",
          "text": [
            "Score:0\n",
            "Gameover:False\n",
            "------------\n",
            "[[1 1 1 1]\n",
            " [1 1 1 1]\n",
            " [1 1 1 1]\n",
            " [1 1 1 1]]\n"
          ]
        }
      ],
      "source": [
        "import numpy as np\n",
        "\n",
        "class Model():\n",
        "    def __init__(self,size =(4,4),score = 0,done=False):    #scoreとdoneを追加しました。\n",
        "                                                            #scoreの初期値は0、doneは終了を意味しています。\n",
        "                                                            #最初はFalseつまり、偽を意味しています。\n",
        "        self._size=size\n",
        "        self._score = score                                 #scoreとdoneのクラス内での値をそれぞれ定義しています。\n",
        "        self._done = done\n",
        "        self._empty = 1                                     #先ほどは、雑に１を入力していましたが、empty（空）を定義しました。\n",
        "                                                            #とはいえ、最初は１を入れています。この１に意味はありません。見やすいのと後でプログラムが容易なため入れているだけです。\n",
        "        self._tiles = np.array([[self._empty for c in range(self._size[1])] for r in range(self._size[0])])\n",
        "\n",
        "    def __str__(self):\n",
        "        return \"Score:{}\\nGameover:{}\\n------------\\n{}\".format(self._score,self._done,self._tiles)\n",
        "                                                            #__str__の中身を少し加えました。最初にスコアとゲームオーバーの行を挿入しただけで、後は、同じです。\n",
        "def main():\n",
        "    print(Model())\n",
        "\n",
        "\n",
        "if __name__==\"__main__\":\n",
        "    main()"
      ]
    },
    {
      "cell_type": "markdown",
      "source": [
        "## 新しくを表示しよう\n",
        "\n",
        "端的に言えば、ランダムな場所に数字を表示したい。\n",
        "\n",
        "そのため、update()関数を作ります。\n",
        "\n",
        "新しく数字が出てくる場所は、何も入っていないところでなければなりません。\n",
        "\n",
        "そのために、何も入っていない場所を探す必要があります。\n",
        "\n",
        "forループで探すこともできますが、今回は便利なNumpyを用いて簡単に探しましょう。"
      ],
      "metadata": {
        "id": "bPxcBvpyAF9T"
      }
    },
    {
      "cell_type": "markdown",
      "source": [
        "### Numpy where メソッド\n",
        "\n",
        "where メソッドを丁寧に覚える必要はありません。\n",
        "\n",
        "使える分の理解で十分です。\n",
        "\n",
        "軽く説明すると、`np`で作った配列に対して、条件に該当するindex番号を返す関数です。"
      ],
      "metadata": {
        "id": "s5hTsTTWB5ck"
      }
    },
    {
      "cell_type": "code",
      "source": [
        "import numpy as np\n",
        "a = np.array([[0,0,0,1],[0,0,0,0],[0,0,0,0],[0,0,0,0]])\n",
        "print(a)"
      ],
      "metadata": {
        "colab": {
          "base_uri": "https://localhost:8080/"
        },
        "id": "wbfZbJ21CLNy",
        "outputId": "22e0f111-4969-49f2-9fff-f4e81e119f05"
      },
      "execution_count": null,
      "outputs": [
        {
          "output_type": "stream",
          "name": "stdout",
          "text": [
            "[[0 0 0 1]\n",
            " [0 0 0 0]\n",
            " [0 0 0 0]\n",
            " [0 0 0 0]]\n"
          ]
        }
      ]
    },
    {
      "cell_type": "code",
      "source": [
        "import numpy as np\n",
        "a = np.array([[0,0,0,1],[0,0,1,0],[0,0,0,0],[0,0,0,0]])\n",
        "print(a)\n",
        "print(np.where(a==1))"
      ],
      "metadata": {
        "colab": {
          "base_uri": "https://localhost:8080/"
        },
        "outputId": "93d1cd01-2575-4b30-fb4d-c0a85f4cd13d",
        "id": "4b8yTUgkCeJl"
      },
      "execution_count": null,
      "outputs": [
        {
          "output_type": "stream",
          "name": "stdout",
          "text": [
            "[[0 0 0 1]\n",
            " [0 0 1 0]\n",
            " [0 0 0 0]\n",
            " [0 0 0 0]]\n",
            "(array([0, 1]), array([3, 2]))\n"
          ]
        }
      ]
    },
    {
      "cell_type": "code",
      "execution_count": null,
      "metadata": {
        "colab": {
          "base_uri": "https://localhost:8080/"
        },
        "outputId": "151d18ee-86b9-4b55-cb31-319e3c34a212",
        "id": "VyWcbhTcAXXf"
      },
      "outputs": [
        {
          "output_type": "stream",
          "name": "stdout",
          "text": [
            "Score:0\n",
            "Gameover:False\n",
            "------------\n",
            "[[1 1 1 1]\n",
            " [1 1 1 1]\n",
            " [1 1 1 1]\n",
            " [1 1 1 1]]\n",
            "Score:0\n",
            "Gameover:False\n",
            "------------\n",
            "[[1 1 1 1]\n",
            " [1 1 1 1]\n",
            " [1 1 1 1]\n",
            " [1 1 1 1]]\n"
          ]
        }
      ],
      "source": [
        "import numpy as np\n",
        "\n",
        "class Model():\n",
        "    def __init__(self,size =(4,4),score = 0,done=False):\n",
        "        self._size=size\n",
        "        self._score = score\n",
        "        self._done = done\n",
        "        self._empty = 1\n",
        "\n",
        "        self._tiles = np.array([[self._empty for c in range(self._size[1])] for r in range(self._size[0])])\n",
        "\n",
        "    def __str__(self):\n",
        "        return \"Score:{}\\nGameover:{}\\n------------\\n{}\".format(self._score,self._done,self._tiles)\n",
        "\n",
        "    def update(self):\n",
        "        rows,cols = np.where(self._tiles == self._empty)\n",
        "        if len(rows) == 0:\n",
        "            self._done = True\n",
        "        else:\n",
        "            idx = np.random.randint(0,len(rows))\n",
        "            row,col = rows[idx],cols[idx]\n",
        "            val = 2\n",
        "            self._tiles[row,col]=val\n",
        "\n",
        "def main():\n",
        "    print(Model())\n",
        "    Model().update()\n",
        "    print(Model())\n",
        "\n",
        "\n",
        "if __name__==\"__main__\":\n",
        "    main()"
      ]
    },
    {
      "cell_type": "markdown",
      "source": [
        "## クラスの罠\n",
        "クラスは、呼び出される物事に別のものとなります。\n",
        "\n",
        "クラスを上記のように記述してしまうと別のものを変更していることになります。\n",
        "\n",
        "解決策はとても簡単で、変数にクラスを入れてしまうだけです。\n",
        "\n",
        "ついでに、後で編集しやすいので、新しく出る値を調節できるようにしましょう。"
      ],
      "metadata": {
        "id": "1g73JV6zEh54"
      }
    },
    {
      "cell_type": "code",
      "source": [
        "import numpy as np\n",
        "\n",
        "class Model():\n",
        "    def __init__(self,size =(4,4),score = 0,done=False):\n",
        "        self._size=size\n",
        "        self._score = score\n",
        "        self._done = done\n",
        "        self._empty = 1\n",
        "\n",
        "        self._tiles = np.array([[self._empty for c in range(self._size[1])] for r in range(self._size[0])])\n",
        "\n",
        "    def __str__(self):\n",
        "        return \"Score:{}\\nGameover:{}\\n------------\\n{}\".format(self._score,self._done,self._tiles)\n",
        "\n",
        "    def update(self):\n",
        "        rows,cols = np.where(self._tiles == self._empty)\n",
        "        if len(rows) == 0:\n",
        "            self._done = True\n",
        "        else:\n",
        "            idx = np.random.randint(0,len(rows))\n",
        "            row,col = rows[idx],cols[idx]\n",
        "            val = self.new_tile_val()\n",
        "            self._tiles[row,col]=val\n",
        "\n",
        "    def new_tile_val(self):\n",
        "        return 2\n",
        "\n",
        "def main():\n",
        "    m = Model()\n",
        "    print(m)\n",
        "    m.update()\n",
        "    print(m)\n",
        "\n",
        "\n",
        "if __name__==\"__main__\":\n",
        "    main()"
      ],
      "metadata": {
        "colab": {
          "base_uri": "https://localhost:8080/"
        },
        "id": "TS-DjLtUE7B7",
        "outputId": "78b0a7d9-952b-422e-b6f2-476e7f7bded7"
      },
      "execution_count": null,
      "outputs": [
        {
          "output_type": "stream",
          "name": "stdout",
          "text": [
            "Score:0\n",
            "Gameover:False\n",
            "------------\n",
            "[[1 1 1 1]\n",
            " [1 1 1 1]\n",
            " [1 1 1 1]\n",
            " [1 1 1 1]]\n",
            "Score:0\n",
            "Gameover:False\n",
            "------------\n",
            "[[1 1 1 1]\n",
            " [1 1 2 1]\n",
            " [1 1 1 1]\n",
            " [1 1 1 1]]\n"
          ]
        }
      ]
    },
    {
      "cell_type": "markdown",
      "metadata": {
        "id": "w7jOl0MO6RVe"
      },
      "source": [
        "## 移動方法を実装しよう\n",
        "\n",
        "2048というゲームは上下左右にタイルが移動するという特徴が有りますが、\n",
        "\n",
        "今回は、まず上向きでのタイルの移動について考えてみましょう。\n",
        "\n",
        "ロジックを考えてみましょう。どのように実装しますか？\n",
        "\n",
        "とりあえず、次のプログラムで考えてみましょう。"
      ]
    },
    {
      "cell_type": "code",
      "source": [
        "import numpy as np\n",
        "\n",
        "a = np.array([[0,0,0,0],[0,0,0,0],[0,0,0,0],[0,0,1,0]])\n",
        "\n",
        "print(a)"
      ],
      "metadata": {
        "colab": {
          "base_uri": "https://localhost:8080/"
        },
        "id": "FLQQ9lE9GkLo",
        "outputId": "babf788b-74c7-43e8-a480-21b945e213b4"
      },
      "execution_count": null,
      "outputs": [
        {
          "output_type": "stream",
          "name": "stdout",
          "text": [
            "[[0 0 0 0]\n",
            " [0 0 0 0]\n",
            " [0 0 0 0]\n",
            " [0 0 1 0]]\n"
          ]
        }
      ]
    },
    {
      "cell_type": "code",
      "source": [
        "import numpy as np\n",
        "\n",
        "a = np.array([[0,0,0,0],[0,0,0,0],[0,0,0,0],[0,0,1,0]])\n",
        "\n",
        "for row in range(4):\n",
        "    for col in range(4):\n",
        "        r = row\n",
        "        c = col\n",
        "\n",
        "print(a)"
      ],
      "metadata": {
        "colab": {
          "base_uri": "https://localhost:8080/"
        },
        "outputId": "babf788b-74c7-43e8-a480-21b945e213b4",
        "id": "zILLfyzjG4jl"
      },
      "execution_count": null,
      "outputs": [
        {
          "output_type": "stream",
          "name": "stdout",
          "text": [
            "[[0 0 0 0]\n",
            " [0 0 0 0]\n",
            " [0 0 0 0]\n",
            " [0 0 1 0]]\n"
          ]
        }
      ]
    },
    {
      "cell_type": "code",
      "source": [
        "# グリッドの行に対して繰り返し\n",
        "for row in range(self._size[0]):\n",
        "    # グリッドの列に対して繰り返し\n",
        "    for col in range(self._size[1]):\n",
        "        # 現在の行と列を保存\n",
        "        r = row\n",
        "        c = col\n",
        "        # 現在の列の上にあるタイルをトップに達するまで上に移動させる\n",
        "        while True:\n",
        "            # 1行上に移動\n",
        "            r -= 1\n",
        "            # 新しい行がグリッドの境界内にあるか確認\n",
        "            if 0 <= r < self._size[0]:\n",
        "                # 現在のタイルが空であるか確認\n",
        "                if self._tiles[r, c] == self._empty:\n",
        "                    # もし空なら下のタイルを上に移動させる\n",
        "                    self._tiles[r, c] = self._tiles[r + 1, c]\n",
        "                    self._tiles[r + 1, c] = self._empty\n",
        "                # 現在のタイルが上のタイルと等しいか確認\n",
        "                elif self._tiles[r, c] == self._tiles[r + 1, c]:\n",
        "                    # もし等しければ、タイルを統合してスコアを更新\n",
        "                    self._tiles[r, c] += self._tiles[r + 1, c]\n",
        "                    self._tiles[r + 1, c] = self._empty\n",
        "                    self._score += self._tiles[r, c]\n",
        "                    # 統合後にループを抜ける\n",
        "                    break\n",
        "                else:\n",
        "                    # 空でも等しくなくても、ループを抜ける\n",
        "                    break\n",
        "            else:\n",
        "                # 新しい行がグリッドの境界外であれば、ループを抜ける\n",
        "                break\n"
      ],
      "metadata": {
        "id": "K1ajdJcnGS4w"
      },
      "execution_count": null,
      "outputs": []
    },
    {
      "cell_type": "markdown",
      "source": [
        "#### 小さいプログラムで実装"
      ],
      "metadata": {
        "id": "46MFu_6C_Sx5"
      }
    },
    {
      "cell_type": "code",
      "source": [
        "import numpy as np\n",
        "\n",
        "a = np.array([[0,0,0,0],[0,0,0,0],[0,0,0,0],[0,0,1,0]])\n",
        "print(a)\n",
        "\n",
        "for row in range(4):\n",
        "    for col in range(4):\n",
        "        r = row\n",
        "        c = col\n",
        "        while True:\n",
        "            r -= 1\n",
        "            if 0 <= r < 4:\n",
        "                if a[r,c] == 0:\n",
        "                    a[r,c] = a[r+1,c]\n",
        "                    a[r+1,c] = 0\n",
        "                elif a[r,c] == a[r+1,c]:\n",
        "                    a[r,c] += a[r+1,c]\n",
        "                    a[r+1,c] = 0\n",
        "                    break\n",
        "                else:\n",
        "                    break\n",
        "            else:\n",
        "                break\n",
        "\n",
        "\n",
        "print(a)"
      ],
      "metadata": {
        "colab": {
          "base_uri": "https://localhost:8080/"
        },
        "id": "L535hS-7_WzS",
        "outputId": "8cfd23b6-0981-4b4a-f55f-7bd836441497"
      },
      "execution_count": null,
      "outputs": [
        {
          "output_type": "stream",
          "name": "stdout",
          "text": [
            "[[0 0 0 0]\n",
            " [0 0 0 0]\n",
            " [0 0 0 0]\n",
            " [0 0 1 0]]\n",
            "[[0 0 1 0]\n",
            " [0 0 0 0]\n",
            " [0 0 0 0]\n",
            " [0 0 0 0]]\n"
          ]
        }
      ]
    },
    {
      "cell_type": "code",
      "execution_count": null,
      "metadata": {
        "colab": {
          "base_uri": "https://localhost:8080/"
        },
        "id": "EhDr2RdMxQy_",
        "outputId": "155d771f-3bba-4be4-b0ba-3406365ea0ee"
      },
      "outputs": [
        {
          "output_type": "stream",
          "name": "stdout",
          "text": [
            "Score:0\n",
            "Gameover:False\n",
            "------------\n",
            "[[1 1 1 1]\n",
            " [1 1 1 1]\n",
            " [1 1 1 1]\n",
            " [1 1 1 1]]\n",
            "Score:0\n",
            "Gameover:False\n",
            "------------\n",
            "[[1 2 1 1]\n",
            " [1 1 1 1]\n",
            " [1 1 1 1]\n",
            " [1 1 1 1]]\n",
            "Score:0\n",
            "Gameover:False\n",
            "------------\n",
            "[[1 2 1 1]\n",
            " [1 1 1 1]\n",
            " [1 1 1 1]\n",
            " [1 1 1 1]]\n"
          ]
        }
      ],
      "source": [
        "import numpy as np\n",
        "\n",
        "class Model():\n",
        "    def __init__(self,size =(4,4),score = 0,done=False):\n",
        "        self._size=size\n",
        "        self._score = score\n",
        "        self._done = done\n",
        "        self._empty = 1\n",
        "\n",
        "        self._tiles = np.array([[self._empty for c in range(self._size[1])] for r in range(self._size[0])])\n",
        "\n",
        "    def __str__(self):\n",
        "        return \"Score:{}\\nGameover:{}\\n------------\\n{}\".format(self._score,self._done,self._tiles)\n",
        "\n",
        "    def up(self):\n",
        "        for row in range(self._size[0]):\n",
        "            for col in range(self._size[1]):\n",
        "                r = row\n",
        "                c = col\n",
        "                while True:\n",
        "                    r -= 1\n",
        "                    if 0<= r < self._size[0]:\n",
        "                        if self._tiles[r,c] == self._empty:\n",
        "                            self._tiles[r,c] = self._tiles[r+1,c]\n",
        "                            self._tiles[r+1,c] = self._empty\n",
        "                        elif self._tiles[r,c] == self._tiles[r+1,c]:\n",
        "                            self._tiles[r,c] += self._tiles[r+1,c]\n",
        "                            self._tiles[r+1,c] = self._empty\n",
        "                            self._score += self._tiles[r,c]\n",
        "                            break\n",
        "                        else:\n",
        "                            break\n",
        "                    else:\n",
        "                        break\n",
        "\n",
        "    def update(self):\n",
        "        rows,cols = np.where(self._tiles == self._empty)\n",
        "        if len(rows) == 0:\n",
        "            self._done = True\n",
        "        else:\n",
        "            idx = np.random.randint(0,len(rows))\n",
        "            row,col = rows[idx],cols[idx]\n",
        "            val = self.new_tile_val()\n",
        "            self._tiles[row,col]=val\n",
        "\n",
        "    def new_tile_val(self):\n",
        "        return 2\n",
        "\n",
        "def main():\n",
        "    m = Model()\n",
        "    print(m)\n",
        "    m.update()\n",
        "    print(m)\n",
        "    m.up()\n",
        "    print(m)\n",
        "\n",
        "\n",
        "if __name__==\"__main__\":\n",
        "    main()"
      ]
    },
    {
      "cell_type": "markdown",
      "metadata": {
        "id": "eKPsK5VVdSBD"
      },
      "source": [
        "このプログラムの説明は難しい"
      ]
    },
    {
      "cell_type": "markdown",
      "metadata": {
        "id": "Hms4MZ-7p9-7"
      },
      "source": [
        "行列について\n",
        "\n",
        "|行列|| 行１  |  行２  |  行３  |  行４  |  行５  |\n",
        "|----||--------|--------|--------|--------|--------|\n",
        "|列１||１行１列|２行１列|３行１列|４行１列|５行１列|\n",
        "|列２||１行２列|２行２列|３行２列|４行２列|５行２列|\n",
        "|列３||１行３列|２行３列|３行３列|４行３列|５行３列|\n",
        "|列４||１行４列|２行４列|３行４列|４行４列|５行４列|\n",
        "|列５||１行５列|２行５列|３行５列|４行５列|５行５列|\n",
        "\n",
        "Row,Columnについて\n",
        "\n",
        "|  RC   ||Row1|Row2|Row3|Row4|Row5|\n",
        "| ----- ||----|----|----|----|----|\n",
        "|Column1||R1C1|R2C1|R3C1|R4C1|R5C1|\n",
        "|Column2||R1C2|R2C2|R3C2|R4C2|R5C2|\n",
        "|Column3||R1C3|R2C3|R3C3|R4C3|R5C3|\n",
        "|Column4||R1C4|R2C4|R3C4|R4C4|R5C4|\n",
        "|Column5||R1C5|R2C5|R3C5|R4C5|R5C5|"
      ]
    },
    {
      "cell_type": "markdown",
      "source": [
        "## 上下左右に動かしてみよう\n",
        "\n",
        "ここのアルゴリズムは、 up 関数をベースに action 関数を作っているのですが、時間の都合で写経とします。\n",
        "\n",
        "ついでに、画面の更新も `clear_output`を使って行っておきます。"
      ],
      "metadata": {
        "id": "rEDXE1u5BdVT"
      }
    },
    {
      "cell_type": "code",
      "execution_count": null,
      "metadata": {
        "colab": {
          "base_uri": "https://localhost:8080/"
        },
        "id": "6m3r9532QMNk",
        "outputId": "67d4d838-fdce-49a0-f8b6-575a60cfbc96"
      },
      "outputs": [
        {
          "output_type": "stream",
          "name": "stdout",
          "text": [
            "Score:0\n",
            "Gameover:False\n",
            "------------\n",
            "[[2 1 1 1]\n",
            " [1 1 1 1]\n",
            " [2 2 1 1]\n",
            " [1 1 1 1]]\n"
          ]
        }
      ],
      "source": [
        "import numpy as np\n",
        "from IPython.display import clear_output\n",
        "\n",
        "class Model():\n",
        "    def __init__(self,size =(4,4),score = 0,done=False):\n",
        "        self._size=size\n",
        "        self._score = score\n",
        "        self._done = done\n",
        "        self._empty = 1\n",
        "        self._tiles = np.array([[self._empty for c in range(self._size[1])] for r in range(self._size[0])])\n",
        "\n",
        "    def __str__(self):\n",
        "        return \"Score:{}\\nGameover:{}\\n------------\\n{}\".format(self._score,self._done,self._tiles)\n",
        "\n",
        "    def action(self,command):\n",
        "        param={\n",
        "            \"u\":[range(self._size[0]),range(self._size[1]),-1,0],\n",
        "            \"d\":[range(self._size[0]-1,-1,-1),range(self._size[1]-1,-1,-1),1,0],\n",
        "            \"l\":[range(self._size[0]),range(self._size[1]),0,-1],\n",
        "            \"r\":[range(self._size[0]-1,-1,-1),range(self._size[1]-1,-1,-1),0,1],\n",
        "        }\n",
        "        rows,cols,dr,dc = param[command]\n",
        "        for row in rows:\n",
        "            for col in cols:\n",
        "                r = row\n",
        "                c = col\n",
        "                while True:\n",
        "                    r +=dr\n",
        "                    c += dc\n",
        "                    if 0 <= r < self._size[0] and 0 <= c < self._size[1]:\n",
        "                        if self._tiles[r,c] == self._empty:\n",
        "                            self._tiles[r,c] = self._tiles[r-dr,c-dc]\n",
        "                            self._tiles[r-dr,c-dc] = self._empty\n",
        "                        elif self._tiles[r,c] == self._tiles[r-dr,c-dc]:\n",
        "                            self._tiles[r,c] += self._tiles[r-dr,c-dc]\n",
        "                            self._tiles[r-dr,c-dc] = self._empty\n",
        "                            self._score += self._tiles[r,c]\n",
        "                            break\n",
        "                        else:\n",
        "                            break\n",
        "                    else:\n",
        "                        break\n",
        "\n",
        "\n",
        "\n",
        "    def update(self):\n",
        "        rows,cols = np.where(self._tiles == self._empty)\n",
        "        if len(rows)==0:\n",
        "            self._done = True\n",
        "        else:\n",
        "            idx = np.random.randint(0,len(rows))\n",
        "            row,col = rows[idx],cols[idx]\n",
        "            val = self.new_tile_val()\n",
        "            self._tiles[row,col] = val\n",
        "\n",
        "    def new_tile_val(self):\n",
        "        return 2\n",
        "\n",
        "\n",
        "\n",
        "def main():\n",
        "    m = Model()\n",
        "    m.update()\n",
        "    while True:\n",
        "        clear_output()\n",
        "        print(m)\n",
        "        command = input()\n",
        "        if command in [\"u\",\"d\",\"l\",\"r\"]:\n",
        "            m.action(command)\n",
        "            m.update()\n",
        "        else:\n",
        "            break\n",
        "\n",
        "if __name__==\"__main__\":\n",
        "    main()"
      ]
    },
    {
      "cell_type": "markdown",
      "source": [
        "## HTMLを実装しよう\n",
        "\n",
        "覚えている人も覚えていない人も写経です。\n",
        "写してください。"
      ],
      "metadata": {
        "id": "yxw7yXXnEgHr"
      }
    },
    {
      "cell_type": "code",
      "execution_count": null,
      "metadata": {
        "id": "W533UfbTtJbd",
        "colab": {
          "base_uri": "https://localhost:8080/",
          "height": 794
        },
        "outputId": "44be37c5-5c0a-4a28-8ffc-d59d5fb6bc41"
      },
      "outputs": [
        {
          "output_type": "display_data",
          "data": {
            "text/plain": [
              "<IPython.core.display.HTML object>"
            ],
            "text/html": [
              "\n",
              "        <html>\n",
              "        <head>\n",
              "            <style></style>\n",
              "        </head>\n",
              "        <body>\n",
              "            <h1>2048</h1>\n",
              "            <hr>\n",
              "            <h2>Score:0</h2>\n",
              "            <h2>Gameover:False</h2>\n",
              "            <hr>\n",
              "            <div class='tiles'><table border='1' align ='center'><tr><td width = '60pt' height='60pt'>2</td><td width = '60pt' height='60pt'>1</td><td width = '60pt' height='60pt'>1</td><td width = '60pt' height='60pt'>1</td></tr><tr><td width = '60pt' height='60pt'>1</td><td width = '60pt' height='60pt'>1</td><td width = '60pt' height='60pt'>1</td><td width = '60pt' height='60pt'>1</td></tr><tr><td width = '60pt' height='60pt'>2</td><td width = '60pt' height='60pt'>1</td><td width = '60pt' height='60pt'>1</td><td width = '60pt' height='60pt'>1</td></tr><tr><td width = '60pt' height='60pt'>1</td><td width = '60pt' height='60pt'>1</td><td width = '60pt' height='60pt'>1</td><td width = '60pt' height='60pt'>1</td></tr></table></div>\n",
              "        </body>\n",
              "        </html>\n",
              "\n",
              "        "
            ]
          },
          "metadata": {}
        },
        {
          "output_type": "error",
          "ename": "KeyboardInterrupt",
          "evalue": "Interrupted by user",
          "traceback": [
            "\u001b[0;31m---------------------------------------------------------------------------\u001b[0m",
            "\u001b[0;31mKeyboardInterrupt\u001b[0m                         Traceback (most recent call last)",
            "\u001b[0;32m<ipython-input-3-0ff8ba4d54cc>\u001b[0m in \u001b[0;36m<cell line: 113>\u001b[0;34m()\u001b[0m\n\u001b[1;32m    112\u001b[0m \u001b[0;34m\u001b[0m\u001b[0m\n\u001b[1;32m    113\u001b[0m \u001b[0;32mif\u001b[0m \u001b[0m__name__\u001b[0m\u001b[0;34m==\u001b[0m\u001b[0;34m\"__main__\"\u001b[0m\u001b[0;34m:\u001b[0m\u001b[0;34m\u001b[0m\u001b[0;34m\u001b[0m\u001b[0m\n\u001b[0;32m--> 114\u001b[0;31m     \u001b[0mmain\u001b[0m\u001b[0;34m(\u001b[0m\u001b[0;34m)\u001b[0m\u001b[0;34m\u001b[0m\u001b[0;34m\u001b[0m\u001b[0m\n\u001b[0m",
            "\u001b[0;32m<ipython-input-3-0ff8ba4d54cc>\u001b[0m in \u001b[0;36mmain\u001b[0;34m()\u001b[0m\n\u001b[1;32m    104\u001b[0m         \u001b[0mclear_output\u001b[0m\u001b[0;34m(\u001b[0m\u001b[0;34m)\u001b[0m\u001b[0;34m\u001b[0m\u001b[0;34m\u001b[0m\u001b[0m\n\u001b[1;32m    105\u001b[0m         \u001b[0mv\u001b[0m\u001b[0;34m.\u001b[0m\u001b[0mdisplay\u001b[0m\u001b[0;34m(\u001b[0m\u001b[0;34m)\u001b[0m\u001b[0;34m\u001b[0m\u001b[0;34m\u001b[0m\u001b[0m\n\u001b[0;32m--> 106\u001b[0;31m         \u001b[0mcommand\u001b[0m \u001b[0;34m=\u001b[0m \u001b[0minput\u001b[0m\u001b[0;34m(\u001b[0m\u001b[0;34m)\u001b[0m\u001b[0;34m\u001b[0m\u001b[0;34m\u001b[0m\u001b[0m\n\u001b[0m\u001b[1;32m    107\u001b[0m         \u001b[0;32mif\u001b[0m \u001b[0mcommand\u001b[0m \u001b[0;32min\u001b[0m \u001b[0;34m[\u001b[0m\u001b[0;34m\"u\"\u001b[0m\u001b[0;34m,\u001b[0m\u001b[0;34m\"d\"\u001b[0m\u001b[0;34m,\u001b[0m\u001b[0;34m\"l\"\u001b[0m\u001b[0;34m,\u001b[0m\u001b[0;34m\"r\"\u001b[0m\u001b[0;34m]\u001b[0m\u001b[0;34m:\u001b[0m\u001b[0;34m\u001b[0m\u001b[0;34m\u001b[0m\u001b[0m\n\u001b[1;32m    108\u001b[0m             \u001b[0mm\u001b[0m\u001b[0;34m.\u001b[0m\u001b[0maction\u001b[0m\u001b[0;34m(\u001b[0m\u001b[0mcommand\u001b[0m\u001b[0;34m)\u001b[0m\u001b[0;34m\u001b[0m\u001b[0;34m\u001b[0m\u001b[0m\n",
            "\u001b[0;32m/usr/local/lib/python3.10/dist-packages/ipykernel/kernelbase.py\u001b[0m in \u001b[0;36mraw_input\u001b[0;34m(self, prompt)\u001b[0m\n\u001b[1;32m    849\u001b[0m                 \u001b[0;34m\"raw_input was called, but this frontend does not support input requests.\"\u001b[0m\u001b[0;34m\u001b[0m\u001b[0;34m\u001b[0m\u001b[0m\n\u001b[1;32m    850\u001b[0m             )\n\u001b[0;32m--> 851\u001b[0;31m         return self._input_request(str(prompt),\n\u001b[0m\u001b[1;32m    852\u001b[0m             \u001b[0mself\u001b[0m\u001b[0;34m.\u001b[0m\u001b[0m_parent_ident\u001b[0m\u001b[0;34m,\u001b[0m\u001b[0;34m\u001b[0m\u001b[0;34m\u001b[0m\u001b[0m\n\u001b[1;32m    853\u001b[0m             \u001b[0mself\u001b[0m\u001b[0;34m.\u001b[0m\u001b[0m_parent_header\u001b[0m\u001b[0;34m,\u001b[0m\u001b[0;34m\u001b[0m\u001b[0;34m\u001b[0m\u001b[0m\n",
            "\u001b[0;32m/usr/local/lib/python3.10/dist-packages/ipykernel/kernelbase.py\u001b[0m in \u001b[0;36m_input_request\u001b[0;34m(self, prompt, ident, parent, password)\u001b[0m\n\u001b[1;32m    893\u001b[0m             \u001b[0;32mexcept\u001b[0m \u001b[0mKeyboardInterrupt\u001b[0m\u001b[0;34m:\u001b[0m\u001b[0;34m\u001b[0m\u001b[0;34m\u001b[0m\u001b[0m\n\u001b[1;32m    894\u001b[0m                 \u001b[0;31m# re-raise KeyboardInterrupt, to truncate traceback\u001b[0m\u001b[0;34m\u001b[0m\u001b[0;34m\u001b[0m\u001b[0m\n\u001b[0;32m--> 895\u001b[0;31m                 \u001b[0;32mraise\u001b[0m \u001b[0mKeyboardInterrupt\u001b[0m\u001b[0;34m(\u001b[0m\u001b[0;34m\"Interrupted by user\"\u001b[0m\u001b[0;34m)\u001b[0m \u001b[0;32mfrom\u001b[0m \u001b[0;32mNone\u001b[0m\u001b[0;34m\u001b[0m\u001b[0;34m\u001b[0m\u001b[0m\n\u001b[0m\u001b[1;32m    896\u001b[0m             \u001b[0;32mexcept\u001b[0m \u001b[0mException\u001b[0m \u001b[0;32mas\u001b[0m \u001b[0me\u001b[0m\u001b[0;34m:\u001b[0m\u001b[0;34m\u001b[0m\u001b[0;34m\u001b[0m\u001b[0m\n\u001b[1;32m    897\u001b[0m                 \u001b[0mself\u001b[0m\u001b[0;34m.\u001b[0m\u001b[0mlog\u001b[0m\u001b[0;34m.\u001b[0m\u001b[0mwarning\u001b[0m\u001b[0;34m(\u001b[0m\u001b[0;34m\"Invalid Message:\"\u001b[0m\u001b[0;34m,\u001b[0m \u001b[0mexc_info\u001b[0m\u001b[0;34m=\u001b[0m\u001b[0;32mTrue\u001b[0m\u001b[0;34m)\u001b[0m\u001b[0;34m\u001b[0m\u001b[0;34m\u001b[0m\u001b[0m\n",
            "\u001b[0;31mKeyboardInterrupt\u001b[0m: Interrupted by user"
          ]
        }
      ],
      "source": [
        "import numpy as np\n",
        "from IPython.display import display, HTML,clear_output\n",
        "class Model():\n",
        "    def __init__(self,size =(4,4),score = 0,done=False):\n",
        "        self._size=size\n",
        "        self._score = score\n",
        "        self._done = done\n",
        "        self._empty = 1\n",
        "        self._tiles = np.array([[self._empty for c in range(self._size[1])] for r in range(self._size[0])])\n",
        "\n",
        "    def __str__(self):\n",
        "        return \"Score:{}\\nGameover:{}\\n------------\\n{}\".format(self._score,self._done,self._tiles)\n",
        "\n",
        "    def action(self,command):\n",
        "        param={\n",
        "            \"u\":[range(self._size[0]),range(self._size[1]),-1,0],\n",
        "            \"d\":[range(self._size[0]-1,-1,-1),range(self._size[1]-1,-1,-1),1,0],\n",
        "            \"l\":[range(self._size[0]),range(self._size[1]),0,-1],\n",
        "            \"r\":[range(self._size[0]-1,-1,-1),range(self._size[1]-1,-1,-1),0,1],\n",
        "        }\n",
        "        rows,cols,dr,dc = param[command]\n",
        "        for row in rows:\n",
        "            for col in cols:\n",
        "                r = row\n",
        "                c = col\n",
        "                while True:\n",
        "                    r +=dr\n",
        "                    c += dc\n",
        "                    if 0 <= r < self._size[0] and 0 <= c < self._size[1]:\n",
        "                        if self._tiles[r,c] == self._empty:\n",
        "                            self._tiles[r,c] = self._tiles[r-dr,c-dc]\n",
        "                            self._tiles[r-dr,c-dc] = self._empty\n",
        "                        elif self._tiles[r,c] == self._tiles[r-dr,c-dc]:\n",
        "                            self._tiles[r,c] += self._tiles[r-dr,c-dc]\n",
        "                            self._tiles[r-dr,c-dc] = self._empty\n",
        "                            self._score += self._tiles[r,c]\n",
        "                            break\n",
        "                        else:\n",
        "                            break\n",
        "                    else:\n",
        "                        break\n",
        "\n",
        "\n",
        "\n",
        "    def update(self):\n",
        "        rows,cols = np.where(self._tiles == self._empty)\n",
        "        if len(rows)==0:\n",
        "            self._done = True\n",
        "        else:\n",
        "            idx = np.random.randint(0,len(rows))\n",
        "            row,col = rows[idx],cols[idx]\n",
        "            val = self.new_tile_val()\n",
        "            self._tiles[row,col] = val\n",
        "\n",
        "    def new_tile_val(self):\n",
        "        return 2\n",
        "class View():\n",
        "    def __init__(self, model):\n",
        "        self._model = model\n",
        "        self._html = \"\"\n",
        "        self._css = \"\"\n",
        "\n",
        "    def css(self):\n",
        "        pass\n",
        "\n",
        "    def html(self):\n",
        "        self.css()\n",
        "\n",
        "        table = \"<table border='1' align ='center'>\"\n",
        "        for r in range(self._model._size[0]):\n",
        "            table += \"<tr>\"\n",
        "            for c in range(self._model._size[1]):\n",
        "                table += \"<td width = '60pt' height='60pt'>{}</td>\".format(self._model._tiles[r,c])\n",
        "            table += \"</tr>\"\n",
        "        table += \"</table>\"\n",
        "\n",
        "        self._html = \"\"\"\n",
        "        <html>\n",
        "        <head>\n",
        "            <style>{}</style>\n",
        "        </head>\n",
        "        <body>\n",
        "            <h1>2048</h1>\n",
        "            <hr>\n",
        "            <h2>Score:{}</h2>\n",
        "            <h2>Gameover:{}</h2>\n",
        "            <hr>\n",
        "            <div class='tiles'>{}</div>\n",
        "        </body>\n",
        "        </html>\n",
        "\n",
        "        \"\"\".format(self._css,self._model._score,self._model._done,table)\n",
        "\n",
        "    def display(self):\n",
        "        self.html()\n",
        "        display(HTML(self._html))\n",
        "\n",
        "def main():\n",
        "    m = Model()\n",
        "    v = View(model = m)\n",
        "    m.update()\n",
        "    while True:\n",
        "        clear_output()\n",
        "        v.display()\n",
        "        command = input()\n",
        "        if command in [\"u\",\"d\",\"l\",\"r\"]:\n",
        "            m.action(command)\n",
        "            m.update()\n",
        "        else:\n",
        "            break\n",
        "\n",
        "if __name__==\"__main__\":\n",
        "    main()"
      ]
    },
    {
      "cell_type": "code",
      "execution_count": null,
      "metadata": {
        "id": "GUy9tkc160QC",
        "colab": {
          "base_uri": "https://localhost:8080/",
          "height": 828
        },
        "outputId": "fe779ce1-c132-488c-f07f-61b1c0a0aa37"
      },
      "outputs": [
        {
          "output_type": "display_data",
          "data": {
            "text/plain": [
              "<IPython.core.display.HTML object>"
            ],
            "text/html": [
              "\n",
              "        <html>\n",
              "            <head>\n",
              "                <style></style>\n",
              "            </head>\n",
              "            <body>\n",
              "                <h1>2048</h1>\n",
              "                <hr>\n",
              "                <h2>Score:0</h2>\n",
              "                <h2>Gameover:False</h2>\n",
              "                <hr>\n",
              "                <div class='tiles'><table border='1' align ='center'><tr><td width = '60pt' height='60pt'>1</td><td width = '60pt' height='60pt'>2</td><td width = '60pt' height='60pt'>1</td><td width = '60pt' height='60pt'>1</td></tr><tr><td width = '60pt' height='60pt'>1</td><td width = '60pt' height='60pt'>1</td><td width = '60pt' height='60pt'>1</td><td width = '60pt' height='60pt'>1</td></tr><tr><td width = '60pt' height='60pt'>1</td><td width = '60pt' height='60pt'>1</td><td width = '60pt' height='60pt'>1</td><td width = '60pt' height='60pt'>1</td></tr><tr><td width = '60pt' height='60pt'>1</td><td width = '60pt' height='60pt'>1</td><td width = '60pt' height='60pt'>1</td><td width = '60pt' height='60pt'>1</td></tr></table></div>\n",
              "            </body>\n",
              "        </html>\n",
              "\n",
              "        "
            ]
          },
          "metadata": {}
        },
        {
          "output_type": "error",
          "ename": "KeyboardInterrupt",
          "evalue": "Interrupted by user",
          "traceback": [
            "\u001b[0;31m---------------------------------------------------------------------------\u001b[0m",
            "\u001b[0;31mKeyboardInterrupt\u001b[0m                         Traceback (most recent call last)",
            "\u001b[0;32m<ipython-input-40-5ce301bb0e04>\u001b[0m in \u001b[0;36m<cell line: 58>\u001b[0;34m()\u001b[0m\n\u001b[1;32m     57\u001b[0m \u001b[0;34m\u001b[0m\u001b[0m\n\u001b[1;32m     58\u001b[0m \u001b[0;32mif\u001b[0m \u001b[0m__name__\u001b[0m\u001b[0;34m==\u001b[0m\u001b[0;34m\"__main__\"\u001b[0m\u001b[0;34m:\u001b[0m\u001b[0;34m\u001b[0m\u001b[0;34m\u001b[0m\u001b[0m\n\u001b[0;32m---> 59\u001b[0;31m     \u001b[0mmain\u001b[0m\u001b[0;34m(\u001b[0m\u001b[0;34m)\u001b[0m\u001b[0;34m\u001b[0m\u001b[0;34m\u001b[0m\u001b[0m\n\u001b[0m\u001b[1;32m     60\u001b[0m \u001b[0;34m\u001b[0m\u001b[0m\n\u001b[1;32m     61\u001b[0m \u001b[0;32mclass\u001b[0m \u001b[0mModel\u001b[0m\u001b[0;34m(\u001b[0m\u001b[0;34m)\u001b[0m\u001b[0;34m:\u001b[0m\u001b[0;34m\u001b[0m\u001b[0;34m\u001b[0m\u001b[0m\n",
            "\u001b[0;32m<ipython-input-40-5ce301bb0e04>\u001b[0m in \u001b[0;36mmain\u001b[0;34m()\u001b[0m\n\u001b[1;32m     49\u001b[0m         \u001b[0mclear_output\u001b[0m\u001b[0;34m(\u001b[0m\u001b[0;34m)\u001b[0m\u001b[0;34m\u001b[0m\u001b[0;34m\u001b[0m\u001b[0m\n\u001b[1;32m     50\u001b[0m         \u001b[0mv\u001b[0m\u001b[0;34m.\u001b[0m\u001b[0mdisplay\u001b[0m\u001b[0;34m(\u001b[0m\u001b[0;34m)\u001b[0m\u001b[0;34m\u001b[0m\u001b[0;34m\u001b[0m\u001b[0m\n\u001b[0;32m---> 51\u001b[0;31m         \u001b[0mcommand\u001b[0m \u001b[0;34m=\u001b[0m \u001b[0minput\u001b[0m\u001b[0;34m(\u001b[0m\u001b[0;34m)\u001b[0m\u001b[0;34m\u001b[0m\u001b[0;34m\u001b[0m\u001b[0m\n\u001b[0m\u001b[1;32m     52\u001b[0m         \u001b[0;32mif\u001b[0m \u001b[0mcommand\u001b[0m \u001b[0;32min\u001b[0m \u001b[0;34m[\u001b[0m\u001b[0;34m\"u\"\u001b[0m\u001b[0;34m,\u001b[0m\u001b[0;34m\"d\"\u001b[0m\u001b[0;34m,\u001b[0m\u001b[0;34m\"l\"\u001b[0m\u001b[0;34m,\u001b[0m\u001b[0;34m\"r\"\u001b[0m\u001b[0;34m]\u001b[0m\u001b[0;34m:\u001b[0m\u001b[0;34m\u001b[0m\u001b[0;34m\u001b[0m\u001b[0m\n\u001b[1;32m     53\u001b[0m             \u001b[0mm\u001b[0m\u001b[0;34m.\u001b[0m\u001b[0maction\u001b[0m\u001b[0;34m(\u001b[0m\u001b[0mcommand\u001b[0m\u001b[0;34m)\u001b[0m\u001b[0;34m\u001b[0m\u001b[0;34m\u001b[0m\u001b[0m\n",
            "\u001b[0;32m/usr/local/lib/python3.10/dist-packages/ipykernel/kernelbase.py\u001b[0m in \u001b[0;36mraw_input\u001b[0;34m(self, prompt)\u001b[0m\n\u001b[1;32m    849\u001b[0m                 \u001b[0;34m\"raw_input was called, but this frontend does not support input requests.\"\u001b[0m\u001b[0;34m\u001b[0m\u001b[0;34m\u001b[0m\u001b[0m\n\u001b[1;32m    850\u001b[0m             )\n\u001b[0;32m--> 851\u001b[0;31m         return self._input_request(str(prompt),\n\u001b[0m\u001b[1;32m    852\u001b[0m             \u001b[0mself\u001b[0m\u001b[0;34m.\u001b[0m\u001b[0m_parent_ident\u001b[0m\u001b[0;34m,\u001b[0m\u001b[0;34m\u001b[0m\u001b[0;34m\u001b[0m\u001b[0m\n\u001b[1;32m    853\u001b[0m             \u001b[0mself\u001b[0m\u001b[0;34m.\u001b[0m\u001b[0m_parent_header\u001b[0m\u001b[0;34m,\u001b[0m\u001b[0;34m\u001b[0m\u001b[0;34m\u001b[0m\u001b[0m\n",
            "\u001b[0;32m/usr/local/lib/python3.10/dist-packages/ipykernel/kernelbase.py\u001b[0m in \u001b[0;36m_input_request\u001b[0;34m(self, prompt, ident, parent, password)\u001b[0m\n\u001b[1;32m    893\u001b[0m             \u001b[0;32mexcept\u001b[0m \u001b[0mKeyboardInterrupt\u001b[0m\u001b[0;34m:\u001b[0m\u001b[0;34m\u001b[0m\u001b[0;34m\u001b[0m\u001b[0m\n\u001b[1;32m    894\u001b[0m                 \u001b[0;31m# re-raise KeyboardInterrupt, to truncate traceback\u001b[0m\u001b[0;34m\u001b[0m\u001b[0;34m\u001b[0m\u001b[0m\n\u001b[0;32m--> 895\u001b[0;31m                 \u001b[0;32mraise\u001b[0m \u001b[0mKeyboardInterrupt\u001b[0m\u001b[0;34m(\u001b[0m\u001b[0;34m\"Interrupted by user\"\u001b[0m\u001b[0;34m)\u001b[0m \u001b[0;32mfrom\u001b[0m \u001b[0;32mNone\u001b[0m\u001b[0;34m\u001b[0m\u001b[0;34m\u001b[0m\u001b[0m\n\u001b[0m\u001b[1;32m    896\u001b[0m             \u001b[0;32mexcept\u001b[0m \u001b[0mException\u001b[0m \u001b[0;32mas\u001b[0m \u001b[0me\u001b[0m\u001b[0;34m:\u001b[0m\u001b[0;34m\u001b[0m\u001b[0;34m\u001b[0m\u001b[0m\n\u001b[1;32m    897\u001b[0m                 \u001b[0mself\u001b[0m\u001b[0;34m.\u001b[0m\u001b[0mlog\u001b[0m\u001b[0;34m.\u001b[0m\u001b[0mwarning\u001b[0m\u001b[0;34m(\u001b[0m\u001b[0;34m\"Invalid Message:\"\u001b[0m\u001b[0;34m,\u001b[0m \u001b[0mexc_info\u001b[0m\u001b[0;34m=\u001b[0m\u001b[0;32mTrue\u001b[0m\u001b[0;34m)\u001b[0m\u001b[0;34m\u001b[0m\u001b[0;34m\u001b[0m\u001b[0m\n",
            "\u001b[0;31mKeyboardInterrupt\u001b[0m: Interrupted by user"
          ]
        }
      ],
      "source": [
        "import numpy as np\n",
        "from IPython.display import clear_output\n",
        "\n",
        "class View():\n",
        "    def __init__(self, model):\n",
        "        self._model = model\n",
        "        self._html = \"\"\n",
        "        self._css = \"\"\n",
        "\n",
        "    def css(self):\n",
        "        pass\n",
        "\n",
        "    def html(self):\n",
        "        self.css()\n",
        "        table = \"<table border='1' align ='center'>\"\n",
        "        for r in range(self._model._size[0]):\n",
        "            table += \"<tr>\"\n",
        "            for c in range(self._model._size[1]):\n",
        "                table += \"<td width = '60pt' height='60pt'>{}</td>\".format(self._model._tiles[r,c])\n",
        "            table += \"</tr>\"\n",
        "        table += \"</table>\"\n",
        "\n",
        "        self._html = \"\"\"\n",
        "        <html>\n",
        "            <head>\n",
        "                <style>{}</style>\n",
        "            </head>\n",
        "            <body>\n",
        "                <h1>2048</h1>\n",
        "                <hr>\n",
        "                <h2>Score:{}</h2>\n",
        "                <h2>Gameover:{}</h2>\n",
        "                <hr>\n",
        "                <div class='tiles'>{}</div>\n",
        "            </body>\n",
        "        </html>\n",
        "\n",
        "        \"\"\".format(self._css,self._model._score,self._model._done,table)\n",
        "\n",
        "    def display(self):\n",
        "        self.html()\n",
        "        display(HTML(self._html))\n",
        "\n",
        "def main():\n",
        "    m = Model()\n",
        "    v = View(model = m)\n",
        "    m.update()\n",
        "    while True:\n",
        "        clear_output()\n",
        "        v.display()\n",
        "        command = input()\n",
        "        if command in [\"u\",\"d\",\"l\",\"r\"]:\n",
        "            m.action(command)\n",
        "            m.update()\n",
        "        else:\n",
        "            break\n",
        "\n",
        "if __name__==\"__main__\":\n",
        "    main()\n",
        "\n",
        "class Model():\n",
        "    def __init__(self,size =(4,4),score = 0,done=False):\n",
        "        self._size=size\n",
        "        self._score = score\n",
        "        self._done = done\n",
        "        self._empty = 1\n",
        "        self._tiles = np.array([[self._empty for c in range(self._size[1])] for r in range(self._size[0])])\n",
        "\n",
        "    def __str__(self):\n",
        "        return \"Score:{}\\nGameover:{}\\n------------\\n{}\".format(self._score,self._done,self._tiles)\n",
        "\n",
        "    def action(self,command):\n",
        "        param={\n",
        "            \"u\":[range(self._size[0]),range(self._size[1]),-1,0],\n",
        "            \"d\":[range(self._size[0]-1,-1,-1),range(self._size[1]-1,-1,-1),1,0],\n",
        "            \"l\":[range(self._size[0]),range(self._size[1]),0,-1],\n",
        "            \"r\":[range(self._size[0]-1,-1,-1),range(self._size[1]-1,-1,-1),0,1],\n",
        "        }\n",
        "        rows,cols,dr,dc = param[command]\n",
        "        for row in rows:\n",
        "            for col in cols:\n",
        "                r = row\n",
        "                c = col\n",
        "                while True:\n",
        "                    r +=dr\n",
        "                    c += dc\n",
        "                    if 0 <= r < self._size[0] and 0 <= c < self._size[1]:\n",
        "                        if self._tiles[r,c] == self._empty:\n",
        "                            self._tiles[r,c] = self._tiles[r-dr,c-dc]\n",
        "                            self._tiles[r-dr,c-dc] = self._empty\n",
        "                        elif self._tiles[r,c] == self._tiles[r-dr,c-dc]:\n",
        "                            self._tiles[r,c] += self._tiles[r-dr,c-dc]\n",
        "                            self._tiles[r-dr,c-dc] = self._empty\n",
        "                            self._score += self._tiles[r,c]\n",
        "                            break\n",
        "                        else:\n",
        "                            break\n",
        "                    else:\n",
        "                        break\n",
        "\n",
        "\n",
        "\n",
        "    def update(self):\n",
        "        rows,cols = np.where(self._tiles == self._empty)\n",
        "        if len(rows)==0:\n",
        "            self._done = True\n",
        "        else:\n",
        "            idx = np.random.randint(0,len(rows))\n",
        "            row,col = rows[idx],cols[idx]\n",
        "            val = self.new_tile_val()\n",
        "            self._tiles[row,col] = val\n",
        "\n",
        "    def new_tile_val(self):\n",
        "        return 2"
      ]
    },
    {
      "cell_type": "code",
      "execution_count": null,
      "metadata": {
        "id": "g5W8ueWjRnk9",
        "colab": {
          "base_uri": "https://localhost:8080/",
          "height": 468
        },
        "outputId": "8e7758ec-67b7-4863-8d68-f10e9e39818d"
      },
      "outputs": [
        {
          "output_type": "display_data",
          "data": {
            "text/plain": [
              "<IPython.core.display.HTML object>"
            ],
            "text/html": [
              "\n",
              "        <html>\n",
              "            <head>\n",
              "                <style>\n",
              "        * {text-align:center;}\n",
              "        .tiles{font-size:24px;}\n",
              "        </style>\n",
              "            </head>\n",
              "            <body>\n",
              "                <h1>2048</h1>\n",
              "                <hr>\n",
              "                <h2>Score:4</h2>\n",
              "                <h2>Gameover:False</h2>\n",
              "                <hr>\n",
              "                <div class='tiles'><table border='1' align ='center'><tr><td width = '60pt' height='60pt' bgcolor='ffcc80'>4</td><td width='60' height='60pt'></td><td width='60' height='60pt'></td><td width = '60pt' height='60pt' bgcolor='ffcc40'>2</td></tr><tr><td width = '60pt' height='60pt' bgcolor='ffcc40'>2</td><td width='60' height='60pt'></td><td width='60' height='60pt'></td><td width='60' height='60pt'></td></tr><tr><td width='60' height='60pt'></td><td width='60' height='60pt'></td><td width = '60pt' height='60pt' bgcolor='ffcc40'>2</td><td width='60' height='60pt'></td></tr><tr><td width='60' height='60pt'></td><td width='60' height='60pt'></td><td width='60' height='60pt'></td><td width='60' height='60pt'></td></tr></table></div>\n",
              "            </body>\n",
              "        </html>\n",
              "        "
            ]
          },
          "metadata": {}
        }
      ],
      "source": [
        "import numpy as np\n",
        "from IPython.display import display, HTML,clear_output\n",
        "class Model():\n",
        "    def __init__(self,size =(4,4),score = 0,done=False):\n",
        "        self._size=size\n",
        "        self._score = score\n",
        "        self._done = done\n",
        "        self._empty = 1\n",
        "        self._tiles = np.array([[self._empty for c in range(self._size[1])] for r in range(self._size[0])])\n",
        "\n",
        "    def __str__(self):\n",
        "        return \"Score:{}\\nGameover:{}\\n------------\\n{}\".format(self._score,self._done,self._tiles)\n",
        "\n",
        "    def action(self,command):\n",
        "        param={\n",
        "            \"u\":[range(self._size[0]),range(self._size[1]),-1,0],\n",
        "            \"d\":[range(self._size[0]-1,-1,-1),range(self._size[1]-1,-1,-1),1,0],\n",
        "            \"l\":[range(self._size[0]),range(self._size[1]),0,-1],\n",
        "            \"r\":[range(self._size[0]-1,-1,-1),range(self._size[1]-1,-1,-1),0,1],\n",
        "        }\n",
        "        rows,cols,dr,dc = param[command]\n",
        "        for row in rows:\n",
        "            for col in cols:\n",
        "                r = row\n",
        "                c = col\n",
        "                while True:\n",
        "                    r +=dr\n",
        "                    c += dc\n",
        "                    if 0 <= r < self._size[0] and 0 <= c < self._size[1]:\n",
        "                        if self._tiles[r,c] == self._empty:\n",
        "                            self._tiles[r,c] = self._tiles[r-dr,c-dc]\n",
        "                            self._tiles[r-dr,c-dc] = self._empty\n",
        "                        elif self._tiles[r,c] == self._tiles[r-dr,c-dc]:\n",
        "                            self._tiles[r,c] += self._tiles[r-dr,c-dc]\n",
        "                            self._tiles[r-dr,c-dc] = self._empty\n",
        "                            self._score += self._tiles[r,c]\n",
        "                            break\n",
        "                        else:\n",
        "                            break\n",
        "                    else:\n",
        "                        break\n",
        "\n",
        "\n",
        "\n",
        "    def update(self):\n",
        "        rows,cols = np.where(self._tiles == self._empty)\n",
        "        if len(rows)==0:\n",
        "            self._done = True\n",
        "        else:\n",
        "            idx = np.random.randint(0,len(rows))\n",
        "            row,col = rows[idx],cols[idx]\n",
        "            val = self.new_tile_val()\n",
        "            self._tiles[row,col] = val\n",
        "\n",
        "    def new_tile_val(self):\n",
        "        return 2\n",
        "class View():\n",
        "    def __init__(self, model):\n",
        "        self._model = model\n",
        "        self._html = \"\"\n",
        "        self._css = \"\"\n",
        "\n",
        "    def css(self):\n",
        "        self._css = \"\"\"\n",
        "        * {text-align:center;}\n",
        "        .tiles{font-size:24px;}\n",
        "        \"\"\"\n",
        "\n",
        "    def html(self):\n",
        "        self.css()\n",
        "        table = \"<table border='1' align ='center'>\"\n",
        "        for r in range(self._model._size[0]):\n",
        "            table += \"<tr>\"\n",
        "            for c in range(self._model._size[1]):\n",
        "                if self._model._tiles[r,c] != self._model._empty:\n",
        "                    color = \"ffcc{:02x}\".format(min(np.log2(self._model._tiles[r,c]).astype(\"int\")*64,255))\n",
        "                    table += \"<td width = '60pt' height='60pt' bgcolor='{}'>{}</td>\".format(color,self._model._tiles[r,c])\n",
        "                else:\n",
        "                    table += \"<td width='60' height='60pt'></td>\"\n",
        "            table += \"</tr>\"\n",
        "        table += \"</table>\"\n",
        "\n",
        "        self._html = \"\"\"\n",
        "        <html>\n",
        "            <head>\n",
        "                <style>{}</style>\n",
        "            </head>\n",
        "            <body>\n",
        "                <h1>2048</h1>\n",
        "                <hr>\n",
        "                <h2>Score:{}</h2>\n",
        "                <h2>Gameover:{}</h2>\n",
        "                <hr>\n",
        "                <div class='tiles'>{}</div>\n",
        "            </body>\n",
        "        </html>\n",
        "        \"\"\".format(self._css,self._model._score,self._model._done,table)\n",
        "\n",
        "    def display(self):\n",
        "        self.html()\n",
        "        display(HTML(self._html))\n",
        "\n",
        "def main():\n",
        "    m = Model()\n",
        "    v = View(model = m)\n",
        "    m.update()\n",
        "    while True:\n",
        "        clear_output()\n",
        "        v.display()\n",
        "        command = input()\n",
        "        if command in [\"u\",\"d\",\"l\",\"r\"]:\n",
        "            m.action(command)\n",
        "            m.update()\n",
        "        else:\n",
        "            break\n",
        "\n",
        "if __name__==\"__main__\":\n",
        "    main()\n"
      ]
    },
    {
      "cell_type": "code",
      "execution_count": null,
      "metadata": {
        "id": "el-LznSTVojD"
      },
      "outputs": [],
      "source": [
        "class View():\n",
        "    def __init__(self, model):\n",
        "        self._model = model\n",
        "        self._html = \"\"\n",
        "        self._css = \"\"\n",
        "        self._js = \"\"\n",
        "\n",
        "    def css(self):\n",
        "        self._css = \"\"\"\n",
        "        * {text-align:center;}\n",
        "        .tiles{font-size:24px;}\n",
        "        \"\"\"\n",
        "    def js(self):\n",
        "        self._js = \"\"\"\n",
        "        document.querySelector('#u').onclick = () => {google.colab.kernel.invokeFunction('update',['u'],{});};\n",
        "        document.querySelector('#d').onclick = () => {google.colab.kernel.invokeFunction('update',['d'],{});};\n",
        "        document.querySelector('#l').onclick = () => {google.colab.kernel.invokeFunction('update',['l'],{});};\n",
        "        document.querySelector('#r').onclick = () => {google.colab.kernel.invokeFunction('update',['r'],{});};\n",
        "        \"\"\"\n",
        "\n",
        "    def html(self):\n",
        "        self.css()\n",
        "        self.js()\n",
        "        table = \"<table border='1' align ='center'>\"\n",
        "        for r in range(self._model._size[0]):\n",
        "            table += \"<tr>\"\n",
        "            for c in range(self._model._size[1]):\n",
        "                if self._model._tiles[r,c] != self._model._empty:\n",
        "                    color = \"ffcc{:02x}\".format(min(np.log2(self._model._tiles[r,c]).astype(\"int\")*64,255))\n",
        "                    table += \"<td width = '60pt' height='60pt' bgcolor='{}'>{}</td>\".format(color,self._model._tiles[r,c])\n",
        "                else:\n",
        "                    table += \"<td width='60' height='60pt'></td>\"\n",
        "            table += \"</tr>\"\n",
        "        table += \"</table>\"\n",
        "\n",
        "        self._html = \"\"\"\n",
        "        <html>\n",
        "            <head>\n",
        "                <style>{}</style>\n",
        "                <script>{}</script>\n",
        "            </head>\n",
        "            <body>\n",
        "                <h1>2048</h1>\n",
        "                <hr>\n",
        "                <h2>Score:{}</h2>\n",
        "                <h2>Gameover:{}</h2>\n",
        "                <hr>\n",
        "                <button id ='u'>↑</button>\n",
        "                <br>\n",
        "                <button id ='l'>←</button><button id ='d'>↓</button><button id ='r'>→</button>\n",
        "                <hr>\n",
        "                <div class='tiles'>{}</div>\n",
        "            </body>\n",
        "        </html>\n",
        "        \"\"\".format(self._css,self._js,self._model._score,self._model._done,table)\n",
        "\n",
        "    def display(self):\n",
        "        self.html()\n",
        "        display(HTML(self._html))\n",
        "        output.register_callback('update',self.update)\n",
        "\n",
        "    def update(self,command):\n",
        "        self._model.action(command)\n",
        "        self._model.update()\n",
        "        self.html()\n",
        "        clear_output()\n",
        "        self.display()\n",
        "\n",
        "def main():\n",
        "    m = Model()\n",
        "    v = View(model = m)\n",
        "    m.update()\n",
        "    v.display()\n",
        "\n",
        "if __name__==\"__main__\":\n",
        "    main()\n",
        "\n",
        "\n"
      ]
    }
  ],
  "metadata": {
    "colab": {
      "provenance": [],
      "toc_visible": true,
      "include_colab_link": true
    },
    "kernelspec": {
      "display_name": "Python 3",
      "name": "python3"
    },
    "language_info": {
      "name": "python"
    }
  },
  "nbformat": 4,
  "nbformat_minor": 0
}